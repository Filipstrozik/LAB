{
 "cells": [
  {
   "cell_type": "markdown",
   "metadata": {},
   "source": [
    "# Lista 5 - Zespoły klasyfikatorów"
   ]
  },
  {
   "cell_type": "markdown",
   "metadata": {},
   "source": [
    "Import bibliotek"
   ]
  },
  {
   "cell_type": "code",
   "execution_count": 78,
   "metadata": {},
   "outputs": [],
   "source": [
    "import pandas as pd\n",
    "import numpy as np\n",
    "import json\n",
    "import matplotlib.pyplot as plt\n",
    "import seaborn as sns\n",
    "from sklearn.preprocessing import LabelEncoder\n",
    "from sklearn.model_selection import train_test_split\n",
    "from sklearn.ensemble import RandomForestClassifier\n",
    "from sklearn.metrics import accuracy_score\n",
    "from sklearn.metrics import confusion_matrix\n",
    "from sklearn.metrics import classification_report\n",
    "from sklearn.model_selection import StratifiedKFold\n",
    "from sklearn.model_selection import cross_validate\n",
    "from sklearn.preprocessing import OneHotEncoder\n",
    "import optuna\n",
    "from optuna.integration import CatBoostPruningCallback\n",
    "import warnings\n",
    "import catboost as cb\n",
    "from sklearn.metrics import f1_score\n",
    "from catboost import CatBoostClassifier\n",
    "import lightgbm as lgb\n",
    "from sklearn.experimental import enable_hist_gradient_boosting\n",
    "from sklearn.ensemble import HistGradientBoostingClassifier\n",
    "from xgboost import XGBClassifier\n",
    "np.random.seed(42)"
   ]
  },
  {
   "cell_type": "markdown",
   "metadata": {},
   "source": [
    "# Jaki zbiór danych będziemy analizować?"
   ]
  },
  {
   "cell_type": "markdown",
   "metadata": {},
   "source": [
    "## Spaceship Titanic\n",
    "Zbiór danych zawiera informacje o pasażerach statku Titanic. \n",
    "- zbiór pochodzi z konkursu na platformie Kaggle i jest naturalnym następstwem zbioru Titanic.\n",
    "### treść zadania\n",
    "Witamy w roku 2912, w którym umiejętności w zakresie nauki o danych są niezbędne do rozwiązania kosmicznej tajemnicy. Otrzymaliśmy transmisję z odległości czterech lat świetlnych i sprawy nie wyglądają dobrze.\n",
    "\n",
    "Statek kosmiczny Titanic był międzygwiezdnym liniowcem pasażerskim wystrzelonym miesiąc temu. Z prawie 13 000 pasażerów na pokładzie, statek wyruszył w swoją dziewiczą podróż, transportując emigrantów z naszego Układu Słonecznego do trzech nowo nadających się do zamieszkania egzoplanet krążących wokół pobliskich gwiazd.\n",
    "\n",
    "Podczas okrążania Alfa Centauri w drodze do pierwszego celu podróży - gorącego 55 Cancri E - nieostrożny statek kosmiczny Titanic zderzył się z anomalią czasoprzestrzenną ukrytą w chmurze pyłu. Niestety, spotkał go podobny los jak jego imiennika 1000 lat wcześniej. Chociaż statek pozostał nienaruszony, prawie połowa pasażerów została przetransportowana do innego wymiaru!\n"
   ]
  },
  {
   "cell_type": "markdown",
   "metadata": {},
   "source": [
    "### Zadanie\n",
    "- Klasyfikacja \"Transported\" - pasażerowie, którzy zostali przetransportowani do innego wymiaru."
   ]
  },
  {
   "cell_type": "markdown",
   "metadata": {},
   "source": [
    "# EDA"
   ]
  },
  {
   "cell_type": "code",
   "execution_count": 2,
   "metadata": {},
   "outputs": [
    {
     "data": {
      "text/html": [
       "<div>\n",
       "<style scoped>\n",
       "    .dataframe tbody tr th:only-of-type {\n",
       "        vertical-align: middle;\n",
       "    }\n",
       "\n",
       "    .dataframe tbody tr th {\n",
       "        vertical-align: top;\n",
       "    }\n",
       "\n",
       "    .dataframe thead th {\n",
       "        text-align: right;\n",
       "    }\n",
       "</style>\n",
       "<table border=\"1\" class=\"dataframe\">\n",
       "  <thead>\n",
       "    <tr style=\"text-align: right;\">\n",
       "      <th></th>\n",
       "      <th>PassengerId</th>\n",
       "      <th>HomePlanet</th>\n",
       "      <th>CryoSleep</th>\n",
       "      <th>Cabin</th>\n",
       "      <th>Destination</th>\n",
       "      <th>Age</th>\n",
       "      <th>VIP</th>\n",
       "      <th>RoomService</th>\n",
       "      <th>FoodCourt</th>\n",
       "      <th>ShoppingMall</th>\n",
       "      <th>Spa</th>\n",
       "      <th>VRDeck</th>\n",
       "      <th>Name</th>\n",
       "      <th>Transported</th>\n",
       "    </tr>\n",
       "  </thead>\n",
       "  <tbody>\n",
       "    <tr>\n",
       "      <th>0</th>\n",
       "      <td>0001_01</td>\n",
       "      <td>Europa</td>\n",
       "      <td>False</td>\n",
       "      <td>B/0/P</td>\n",
       "      <td>TRAPPIST-1e</td>\n",
       "      <td>39.0</td>\n",
       "      <td>False</td>\n",
       "      <td>0.0</td>\n",
       "      <td>0.0</td>\n",
       "      <td>0.0</td>\n",
       "      <td>0.0</td>\n",
       "      <td>0.0</td>\n",
       "      <td>Maham Ofracculy</td>\n",
       "      <td>False</td>\n",
       "    </tr>\n",
       "    <tr>\n",
       "      <th>1</th>\n",
       "      <td>0002_01</td>\n",
       "      <td>Earth</td>\n",
       "      <td>False</td>\n",
       "      <td>F/0/S</td>\n",
       "      <td>TRAPPIST-1e</td>\n",
       "      <td>24.0</td>\n",
       "      <td>False</td>\n",
       "      <td>109.0</td>\n",
       "      <td>9.0</td>\n",
       "      <td>25.0</td>\n",
       "      <td>549.0</td>\n",
       "      <td>44.0</td>\n",
       "      <td>Juanna Vines</td>\n",
       "      <td>True</td>\n",
       "    </tr>\n",
       "    <tr>\n",
       "      <th>2</th>\n",
       "      <td>0003_01</td>\n",
       "      <td>Europa</td>\n",
       "      <td>False</td>\n",
       "      <td>A/0/S</td>\n",
       "      <td>TRAPPIST-1e</td>\n",
       "      <td>58.0</td>\n",
       "      <td>True</td>\n",
       "      <td>43.0</td>\n",
       "      <td>3576.0</td>\n",
       "      <td>0.0</td>\n",
       "      <td>6715.0</td>\n",
       "      <td>49.0</td>\n",
       "      <td>Altark Susent</td>\n",
       "      <td>False</td>\n",
       "    </tr>\n",
       "    <tr>\n",
       "      <th>3</th>\n",
       "      <td>0003_02</td>\n",
       "      <td>Europa</td>\n",
       "      <td>False</td>\n",
       "      <td>A/0/S</td>\n",
       "      <td>TRAPPIST-1e</td>\n",
       "      <td>33.0</td>\n",
       "      <td>False</td>\n",
       "      <td>0.0</td>\n",
       "      <td>1283.0</td>\n",
       "      <td>371.0</td>\n",
       "      <td>3329.0</td>\n",
       "      <td>193.0</td>\n",
       "      <td>Solam Susent</td>\n",
       "      <td>False</td>\n",
       "    </tr>\n",
       "    <tr>\n",
       "      <th>4</th>\n",
       "      <td>0004_01</td>\n",
       "      <td>Earth</td>\n",
       "      <td>False</td>\n",
       "      <td>F/1/S</td>\n",
       "      <td>TRAPPIST-1e</td>\n",
       "      <td>16.0</td>\n",
       "      <td>False</td>\n",
       "      <td>303.0</td>\n",
       "      <td>70.0</td>\n",
       "      <td>151.0</td>\n",
       "      <td>565.0</td>\n",
       "      <td>2.0</td>\n",
       "      <td>Willy Santantines</td>\n",
       "      <td>True</td>\n",
       "    </tr>\n",
       "    <tr>\n",
       "      <th>5</th>\n",
       "      <td>0005_01</td>\n",
       "      <td>Earth</td>\n",
       "      <td>False</td>\n",
       "      <td>F/0/P</td>\n",
       "      <td>PSO J318.5-22</td>\n",
       "      <td>44.0</td>\n",
       "      <td>False</td>\n",
       "      <td>0.0</td>\n",
       "      <td>483.0</td>\n",
       "      <td>0.0</td>\n",
       "      <td>291.0</td>\n",
       "      <td>0.0</td>\n",
       "      <td>Sandie Hinetthews</td>\n",
       "      <td>True</td>\n",
       "    </tr>\n",
       "    <tr>\n",
       "      <th>6</th>\n",
       "      <td>0006_01</td>\n",
       "      <td>Earth</td>\n",
       "      <td>False</td>\n",
       "      <td>F/2/S</td>\n",
       "      <td>TRAPPIST-1e</td>\n",
       "      <td>26.0</td>\n",
       "      <td>False</td>\n",
       "      <td>42.0</td>\n",
       "      <td>1539.0</td>\n",
       "      <td>3.0</td>\n",
       "      <td>0.0</td>\n",
       "      <td>0.0</td>\n",
       "      <td>Billex Jacostaffey</td>\n",
       "      <td>True</td>\n",
       "    </tr>\n",
       "    <tr>\n",
       "      <th>7</th>\n",
       "      <td>0006_02</td>\n",
       "      <td>Earth</td>\n",
       "      <td>True</td>\n",
       "      <td>G/0/S</td>\n",
       "      <td>TRAPPIST-1e</td>\n",
       "      <td>28.0</td>\n",
       "      <td>False</td>\n",
       "      <td>0.0</td>\n",
       "      <td>0.0</td>\n",
       "      <td>0.0</td>\n",
       "      <td>0.0</td>\n",
       "      <td>NaN</td>\n",
       "      <td>Candra Jacostaffey</td>\n",
       "      <td>True</td>\n",
       "    </tr>\n",
       "    <tr>\n",
       "      <th>8</th>\n",
       "      <td>0007_01</td>\n",
       "      <td>Earth</td>\n",
       "      <td>False</td>\n",
       "      <td>F/3/S</td>\n",
       "      <td>TRAPPIST-1e</td>\n",
       "      <td>35.0</td>\n",
       "      <td>False</td>\n",
       "      <td>0.0</td>\n",
       "      <td>785.0</td>\n",
       "      <td>17.0</td>\n",
       "      <td>216.0</td>\n",
       "      <td>0.0</td>\n",
       "      <td>Andona Beston</td>\n",
       "      <td>True</td>\n",
       "    </tr>\n",
       "    <tr>\n",
       "      <th>9</th>\n",
       "      <td>0008_01</td>\n",
       "      <td>Europa</td>\n",
       "      <td>True</td>\n",
       "      <td>B/1/P</td>\n",
       "      <td>55 Cancri e</td>\n",
       "      <td>14.0</td>\n",
       "      <td>False</td>\n",
       "      <td>0.0</td>\n",
       "      <td>0.0</td>\n",
       "      <td>0.0</td>\n",
       "      <td>0.0</td>\n",
       "      <td>0.0</td>\n",
       "      <td>Erraiam Flatic</td>\n",
       "      <td>True</td>\n",
       "    </tr>\n",
       "    <tr>\n",
       "      <th>10</th>\n",
       "      <td>0008_02</td>\n",
       "      <td>Europa</td>\n",
       "      <td>True</td>\n",
       "      <td>B/1/P</td>\n",
       "      <td>TRAPPIST-1e</td>\n",
       "      <td>34.0</td>\n",
       "      <td>False</td>\n",
       "      <td>0.0</td>\n",
       "      <td>0.0</td>\n",
       "      <td>NaN</td>\n",
       "      <td>0.0</td>\n",
       "      <td>0.0</td>\n",
       "      <td>Altardr Flatic</td>\n",
       "      <td>True</td>\n",
       "    </tr>\n",
       "    <tr>\n",
       "      <th>11</th>\n",
       "      <td>0008_03</td>\n",
       "      <td>Europa</td>\n",
       "      <td>False</td>\n",
       "      <td>B/1/P</td>\n",
       "      <td>55 Cancri e</td>\n",
       "      <td>45.0</td>\n",
       "      <td>False</td>\n",
       "      <td>39.0</td>\n",
       "      <td>7295.0</td>\n",
       "      <td>589.0</td>\n",
       "      <td>110.0</td>\n",
       "      <td>124.0</td>\n",
       "      <td>Wezena Flatic</td>\n",
       "      <td>True</td>\n",
       "    </tr>\n",
       "    <tr>\n",
       "      <th>12</th>\n",
       "      <td>0009_01</td>\n",
       "      <td>Mars</td>\n",
       "      <td>False</td>\n",
       "      <td>F/1/P</td>\n",
       "      <td>TRAPPIST-1e</td>\n",
       "      <td>32.0</td>\n",
       "      <td>False</td>\n",
       "      <td>73.0</td>\n",
       "      <td>0.0</td>\n",
       "      <td>1123.0</td>\n",
       "      <td>0.0</td>\n",
       "      <td>113.0</td>\n",
       "      <td>Berers Barne</td>\n",
       "      <td>True</td>\n",
       "    </tr>\n",
       "    <tr>\n",
       "      <th>13</th>\n",
       "      <td>0010_01</td>\n",
       "      <td>Earth</td>\n",
       "      <td>False</td>\n",
       "      <td>G/1/S</td>\n",
       "      <td>TRAPPIST-1e</td>\n",
       "      <td>48.0</td>\n",
       "      <td>False</td>\n",
       "      <td>719.0</td>\n",
       "      <td>1.0</td>\n",
       "      <td>65.0</td>\n",
       "      <td>0.0</td>\n",
       "      <td>24.0</td>\n",
       "      <td>Reney Baketton</td>\n",
       "      <td>False</td>\n",
       "    </tr>\n",
       "    <tr>\n",
       "      <th>14</th>\n",
       "      <td>0011_01</td>\n",
       "      <td>Earth</td>\n",
       "      <td>False</td>\n",
       "      <td>F/2/P</td>\n",
       "      <td>TRAPPIST-1e</td>\n",
       "      <td>28.0</td>\n",
       "      <td>False</td>\n",
       "      <td>8.0</td>\n",
       "      <td>974.0</td>\n",
       "      <td>12.0</td>\n",
       "      <td>2.0</td>\n",
       "      <td>7.0</td>\n",
       "      <td>Elle Bertsontry</td>\n",
       "      <td>True</td>\n",
       "    </tr>\n",
       "    <tr>\n",
       "      <th>15</th>\n",
       "      <td>0012_01</td>\n",
       "      <td>Earth</td>\n",
       "      <td>False</td>\n",
       "      <td>NaN</td>\n",
       "      <td>TRAPPIST-1e</td>\n",
       "      <td>31.0</td>\n",
       "      <td>False</td>\n",
       "      <td>32.0</td>\n",
       "      <td>0.0</td>\n",
       "      <td>876.0</td>\n",
       "      <td>0.0</td>\n",
       "      <td>0.0</td>\n",
       "      <td>Justie Pooles</td>\n",
       "      <td>False</td>\n",
       "    </tr>\n",
       "    <tr>\n",
       "      <th>16</th>\n",
       "      <td>0014_01</td>\n",
       "      <td>Mars</td>\n",
       "      <td>False</td>\n",
       "      <td>F/3/P</td>\n",
       "      <td>55 Cancri e</td>\n",
       "      <td>27.0</td>\n",
       "      <td>False</td>\n",
       "      <td>1286.0</td>\n",
       "      <td>122.0</td>\n",
       "      <td>NaN</td>\n",
       "      <td>0.0</td>\n",
       "      <td>0.0</td>\n",
       "      <td>Flats Eccle</td>\n",
       "      <td>False</td>\n",
       "    </tr>\n",
       "    <tr>\n",
       "      <th>17</th>\n",
       "      <td>0015_01</td>\n",
       "      <td>Earth</td>\n",
       "      <td>False</td>\n",
       "      <td>F/4/P</td>\n",
       "      <td>55 Cancri e</td>\n",
       "      <td>24.0</td>\n",
       "      <td>False</td>\n",
       "      <td>0.0</td>\n",
       "      <td>1.0</td>\n",
       "      <td>0.0</td>\n",
       "      <td>0.0</td>\n",
       "      <td>637.0</td>\n",
       "      <td>Carry Hughriend</td>\n",
       "      <td>False</td>\n",
       "    </tr>\n",
       "    <tr>\n",
       "      <th>18</th>\n",
       "      <td>0016_01</td>\n",
       "      <td>Mars</td>\n",
       "      <td>True</td>\n",
       "      <td>F/5/P</td>\n",
       "      <td>TRAPPIST-1e</td>\n",
       "      <td>45.0</td>\n",
       "      <td>False</td>\n",
       "      <td>0.0</td>\n",
       "      <td>0.0</td>\n",
       "      <td>0.0</td>\n",
       "      <td>0.0</td>\n",
       "      <td>0.0</td>\n",
       "      <td>Alus Upead</td>\n",
       "      <td>True</td>\n",
       "    </tr>\n",
       "    <tr>\n",
       "      <th>19</th>\n",
       "      <td>0017_01</td>\n",
       "      <td>Earth</td>\n",
       "      <td>False</td>\n",
       "      <td>G/0/P</td>\n",
       "      <td>TRAPPIST-1e</td>\n",
       "      <td>0.0</td>\n",
       "      <td>False</td>\n",
       "      <td>0.0</td>\n",
       "      <td>0.0</td>\n",
       "      <td>0.0</td>\n",
       "      <td>0.0</td>\n",
       "      <td>0.0</td>\n",
       "      <td>Lyde Brighttt</td>\n",
       "      <td>True</td>\n",
       "    </tr>\n",
       "  </tbody>\n",
       "</table>\n",
       "</div>"
      ],
      "text/plain": [
       "   PassengerId HomePlanet CryoSleep  Cabin    Destination   Age    VIP  \\\n",
       "0      0001_01     Europa     False  B/0/P    TRAPPIST-1e  39.0  False   \n",
       "1      0002_01      Earth     False  F/0/S    TRAPPIST-1e  24.0  False   \n",
       "2      0003_01     Europa     False  A/0/S    TRAPPIST-1e  58.0   True   \n",
       "3      0003_02     Europa     False  A/0/S    TRAPPIST-1e  33.0  False   \n",
       "4      0004_01      Earth     False  F/1/S    TRAPPIST-1e  16.0  False   \n",
       "5      0005_01      Earth     False  F/0/P  PSO J318.5-22  44.0  False   \n",
       "6      0006_01      Earth     False  F/2/S    TRAPPIST-1e  26.0  False   \n",
       "7      0006_02      Earth      True  G/0/S    TRAPPIST-1e  28.0  False   \n",
       "8      0007_01      Earth     False  F/3/S    TRAPPIST-1e  35.0  False   \n",
       "9      0008_01     Europa      True  B/1/P    55 Cancri e  14.0  False   \n",
       "10     0008_02     Europa      True  B/1/P    TRAPPIST-1e  34.0  False   \n",
       "11     0008_03     Europa     False  B/1/P    55 Cancri e  45.0  False   \n",
       "12     0009_01       Mars     False  F/1/P    TRAPPIST-1e  32.0  False   \n",
       "13     0010_01      Earth     False  G/1/S    TRAPPIST-1e  48.0  False   \n",
       "14     0011_01      Earth     False  F/2/P    TRAPPIST-1e  28.0  False   \n",
       "15     0012_01      Earth     False    NaN    TRAPPIST-1e  31.0  False   \n",
       "16     0014_01       Mars     False  F/3/P    55 Cancri e  27.0  False   \n",
       "17     0015_01      Earth     False  F/4/P    55 Cancri e  24.0  False   \n",
       "18     0016_01       Mars      True  F/5/P    TRAPPIST-1e  45.0  False   \n",
       "19     0017_01      Earth     False  G/0/P    TRAPPIST-1e   0.0  False   \n",
       "\n",
       "    RoomService  FoodCourt  ShoppingMall     Spa  VRDeck                Name  \\\n",
       "0           0.0        0.0           0.0     0.0     0.0     Maham Ofracculy   \n",
       "1         109.0        9.0          25.0   549.0    44.0        Juanna Vines   \n",
       "2          43.0     3576.0           0.0  6715.0    49.0       Altark Susent   \n",
       "3           0.0     1283.0         371.0  3329.0   193.0        Solam Susent   \n",
       "4         303.0       70.0         151.0   565.0     2.0   Willy Santantines   \n",
       "5           0.0      483.0           0.0   291.0     0.0   Sandie Hinetthews   \n",
       "6          42.0     1539.0           3.0     0.0     0.0  Billex Jacostaffey   \n",
       "7           0.0        0.0           0.0     0.0     NaN  Candra Jacostaffey   \n",
       "8           0.0      785.0          17.0   216.0     0.0       Andona Beston   \n",
       "9           0.0        0.0           0.0     0.0     0.0      Erraiam Flatic   \n",
       "10          0.0        0.0           NaN     0.0     0.0      Altardr Flatic   \n",
       "11         39.0     7295.0         589.0   110.0   124.0       Wezena Flatic   \n",
       "12         73.0        0.0        1123.0     0.0   113.0        Berers Barne   \n",
       "13        719.0        1.0          65.0     0.0    24.0      Reney Baketton   \n",
       "14          8.0      974.0          12.0     2.0     7.0     Elle Bertsontry   \n",
       "15         32.0        0.0         876.0     0.0     0.0       Justie Pooles   \n",
       "16       1286.0      122.0           NaN     0.0     0.0         Flats Eccle   \n",
       "17          0.0        1.0           0.0     0.0   637.0     Carry Hughriend   \n",
       "18          0.0        0.0           0.0     0.0     0.0          Alus Upead   \n",
       "19          0.0        0.0           0.0     0.0     0.0       Lyde Brighttt   \n",
       "\n",
       "    Transported  \n",
       "0         False  \n",
       "1          True  \n",
       "2         False  \n",
       "3         False  \n",
       "4          True  \n",
       "5          True  \n",
       "6          True  \n",
       "7          True  \n",
       "8          True  \n",
       "9          True  \n",
       "10         True  \n",
       "11         True  \n",
       "12         True  \n",
       "13        False  \n",
       "14         True  \n",
       "15        False  \n",
       "16        False  \n",
       "17        False  \n",
       "18         True  \n",
       "19         True  "
      ]
     },
     "metadata": {},
     "output_type": "display_data"
    }
   ],
   "source": [
    "train_data = pd.read_csv(\"./spaceship-titanic/train.csv\")\n",
    "display(train_data.head(20))"
   ]
  },
  {
   "cell_type": "code",
   "execution_count": 3,
   "metadata": {},
   "outputs": [
    {
     "data": {
      "text/html": [
       "<div>\n",
       "<style scoped>\n",
       "    .dataframe tbody tr th:only-of-type {\n",
       "        vertical-align: middle;\n",
       "    }\n",
       "\n",
       "    .dataframe tbody tr th {\n",
       "        vertical-align: top;\n",
       "    }\n",
       "\n",
       "    .dataframe thead th {\n",
       "        text-align: right;\n",
       "    }\n",
       "</style>\n",
       "<table border=\"1\" class=\"dataframe\">\n",
       "  <thead>\n",
       "    <tr style=\"text-align: right;\">\n",
       "      <th></th>\n",
       "      <th>Age</th>\n",
       "      <th>RoomService</th>\n",
       "      <th>FoodCourt</th>\n",
       "      <th>ShoppingMall</th>\n",
       "      <th>Spa</th>\n",
       "      <th>VRDeck</th>\n",
       "    </tr>\n",
       "  </thead>\n",
       "  <tbody>\n",
       "    <tr>\n",
       "      <th>count</th>\n",
       "      <td>8514.000000</td>\n",
       "      <td>8512.000000</td>\n",
       "      <td>8510.000000</td>\n",
       "      <td>8485.000000</td>\n",
       "      <td>8510.000000</td>\n",
       "      <td>8505.000000</td>\n",
       "    </tr>\n",
       "    <tr>\n",
       "      <th>mean</th>\n",
       "      <td>28.827930</td>\n",
       "      <td>224.687617</td>\n",
       "      <td>458.077203</td>\n",
       "      <td>173.729169</td>\n",
       "      <td>311.138778</td>\n",
       "      <td>304.854791</td>\n",
       "    </tr>\n",
       "    <tr>\n",
       "      <th>std</th>\n",
       "      <td>14.489021</td>\n",
       "      <td>666.717663</td>\n",
       "      <td>1611.489240</td>\n",
       "      <td>604.696458</td>\n",
       "      <td>1136.705535</td>\n",
       "      <td>1145.717189</td>\n",
       "    </tr>\n",
       "    <tr>\n",
       "      <th>min</th>\n",
       "      <td>0.000000</td>\n",
       "      <td>0.000000</td>\n",
       "      <td>0.000000</td>\n",
       "      <td>0.000000</td>\n",
       "      <td>0.000000</td>\n",
       "      <td>0.000000</td>\n",
       "    </tr>\n",
       "    <tr>\n",
       "      <th>25%</th>\n",
       "      <td>19.000000</td>\n",
       "      <td>0.000000</td>\n",
       "      <td>0.000000</td>\n",
       "      <td>0.000000</td>\n",
       "      <td>0.000000</td>\n",
       "      <td>0.000000</td>\n",
       "    </tr>\n",
       "    <tr>\n",
       "      <th>50%</th>\n",
       "      <td>27.000000</td>\n",
       "      <td>0.000000</td>\n",
       "      <td>0.000000</td>\n",
       "      <td>0.000000</td>\n",
       "      <td>0.000000</td>\n",
       "      <td>0.000000</td>\n",
       "    </tr>\n",
       "    <tr>\n",
       "      <th>75%</th>\n",
       "      <td>38.000000</td>\n",
       "      <td>47.000000</td>\n",
       "      <td>76.000000</td>\n",
       "      <td>27.000000</td>\n",
       "      <td>59.000000</td>\n",
       "      <td>46.000000</td>\n",
       "    </tr>\n",
       "    <tr>\n",
       "      <th>max</th>\n",
       "      <td>79.000000</td>\n",
       "      <td>14327.000000</td>\n",
       "      <td>29813.000000</td>\n",
       "      <td>23492.000000</td>\n",
       "      <td>22408.000000</td>\n",
       "      <td>24133.000000</td>\n",
       "    </tr>\n",
       "  </tbody>\n",
       "</table>\n",
       "</div>"
      ],
      "text/plain": [
       "               Age   RoomService     FoodCourt  ShoppingMall           Spa  \\\n",
       "count  8514.000000   8512.000000   8510.000000   8485.000000   8510.000000   \n",
       "mean     28.827930    224.687617    458.077203    173.729169    311.138778   \n",
       "std      14.489021    666.717663   1611.489240    604.696458   1136.705535   \n",
       "min       0.000000      0.000000      0.000000      0.000000      0.000000   \n",
       "25%      19.000000      0.000000      0.000000      0.000000      0.000000   \n",
       "50%      27.000000      0.000000      0.000000      0.000000      0.000000   \n",
       "75%      38.000000     47.000000     76.000000     27.000000     59.000000   \n",
       "max      79.000000  14327.000000  29813.000000  23492.000000  22408.000000   \n",
       "\n",
       "             VRDeck  \n",
       "count   8505.000000  \n",
       "mean     304.854791  \n",
       "std     1145.717189  \n",
       "min        0.000000  \n",
       "25%        0.000000  \n",
       "50%        0.000000  \n",
       "75%       46.000000  \n",
       "max    24133.000000  "
      ]
     },
     "metadata": {},
     "output_type": "display_data"
    }
   ],
   "source": [
    "display(train_data.describe())"
   ]
  },
  {
   "cell_type": "code",
   "execution_count": 4,
   "metadata": {},
   "outputs": [
    {
     "data": {
      "text/plain": [
       "PassengerId       0\n",
       "HomePlanet      201\n",
       "CryoSleep       217\n",
       "Cabin           199\n",
       "Destination     182\n",
       "Age             179\n",
       "VIP             203\n",
       "RoomService     181\n",
       "FoodCourt       183\n",
       "ShoppingMall    208\n",
       "Spa             183\n",
       "VRDeck          188\n",
       "Name            200\n",
       "Transported       0\n",
       "dtype: int64"
      ]
     },
     "execution_count": 4,
     "metadata": {},
     "output_type": "execute_result"
    }
   ],
   "source": [
    "train_data.isnull().sum()"
   ]
  },
  {
   "cell_type": "markdown",
   "metadata": {},
   "source": [
    "Możemy zauważyć, że kolumna \"Cabin\" jest nieznormalizowana: zawiera, Pokład/Number/Stronę. Możemy rozdzielić te informacje na trzy kolumny: Deck, CabinNumber, Side."
   ]
  },
  {
   "cell_type": "code",
   "execution_count": 5,
   "metadata": {},
   "outputs": [],
   "source": [
    "train_data[[\"Deck\", \"Cabin_num\", \"Side\"]] = train_data[\"Cabin\"].str.split(\n",
    "    \"/\", expand=True\n",
    ")\n",
    "train_data[\"Cabin_num\"] = pd.to_numeric(train_data[\"Cabin_num\"], errors=\"coerce\")"
   ]
  },
  {
   "cell_type": "code",
   "execution_count": 6,
   "metadata": {},
   "outputs": [],
   "source": [
    "try:\n",
    "    train_data = train_data.drop(\"Cabin\", axis=1)\n",
    "except KeyError:\n",
    "    print(\"Field does not exist\")"
   ]
  },
  {
   "cell_type": "markdown",
   "metadata": {},
   "source": [
    "Dla naszego modelu imię i id pasażera nie są istotne, więc możemy je usunąć."
   ]
  },
  {
   "cell_type": "code",
   "execution_count": 7,
   "metadata": {},
   "outputs": [],
   "source": [
    "train_data = train_data.drop([\"PassengerId\", \"Name\"], axis=1)"
   ]
  },
  {
   "cell_type": "code",
   "execution_count": 8,
   "metadata": {},
   "outputs": [
    {
     "data": {
      "text/html": [
       "<div>\n",
       "<style scoped>\n",
       "    .dataframe tbody tr th:only-of-type {\n",
       "        vertical-align: middle;\n",
       "    }\n",
       "\n",
       "    .dataframe tbody tr th {\n",
       "        vertical-align: top;\n",
       "    }\n",
       "\n",
       "    .dataframe thead th {\n",
       "        text-align: right;\n",
       "    }\n",
       "</style>\n",
       "<table border=\"1\" class=\"dataframe\">\n",
       "  <thead>\n",
       "    <tr style=\"text-align: right;\">\n",
       "      <th></th>\n",
       "      <th>HomePlanet</th>\n",
       "      <th>CryoSleep</th>\n",
       "      <th>Destination</th>\n",
       "      <th>Age</th>\n",
       "      <th>VIP</th>\n",
       "      <th>RoomService</th>\n",
       "      <th>FoodCourt</th>\n",
       "      <th>ShoppingMall</th>\n",
       "      <th>Spa</th>\n",
       "      <th>VRDeck</th>\n",
       "      <th>Transported</th>\n",
       "      <th>Deck</th>\n",
       "      <th>Cabin_num</th>\n",
       "      <th>Side</th>\n",
       "    </tr>\n",
       "  </thead>\n",
       "  <tbody>\n",
       "    <tr>\n",
       "      <th>0</th>\n",
       "      <td>Europa</td>\n",
       "      <td>False</td>\n",
       "      <td>TRAPPIST-1e</td>\n",
       "      <td>39.0</td>\n",
       "      <td>False</td>\n",
       "      <td>0.0</td>\n",
       "      <td>0.0</td>\n",
       "      <td>0.0</td>\n",
       "      <td>0.0</td>\n",
       "      <td>0.0</td>\n",
       "      <td>False</td>\n",
       "      <td>B</td>\n",
       "      <td>0.0</td>\n",
       "      <td>P</td>\n",
       "    </tr>\n",
       "    <tr>\n",
       "      <th>1</th>\n",
       "      <td>Earth</td>\n",
       "      <td>False</td>\n",
       "      <td>TRAPPIST-1e</td>\n",
       "      <td>24.0</td>\n",
       "      <td>False</td>\n",
       "      <td>109.0</td>\n",
       "      <td>9.0</td>\n",
       "      <td>25.0</td>\n",
       "      <td>549.0</td>\n",
       "      <td>44.0</td>\n",
       "      <td>True</td>\n",
       "      <td>F</td>\n",
       "      <td>0.0</td>\n",
       "      <td>S</td>\n",
       "    </tr>\n",
       "    <tr>\n",
       "      <th>2</th>\n",
       "      <td>Europa</td>\n",
       "      <td>False</td>\n",
       "      <td>TRAPPIST-1e</td>\n",
       "      <td>58.0</td>\n",
       "      <td>True</td>\n",
       "      <td>43.0</td>\n",
       "      <td>3576.0</td>\n",
       "      <td>0.0</td>\n",
       "      <td>6715.0</td>\n",
       "      <td>49.0</td>\n",
       "      <td>False</td>\n",
       "      <td>A</td>\n",
       "      <td>0.0</td>\n",
       "      <td>S</td>\n",
       "    </tr>\n",
       "    <tr>\n",
       "      <th>3</th>\n",
       "      <td>Europa</td>\n",
       "      <td>False</td>\n",
       "      <td>TRAPPIST-1e</td>\n",
       "      <td>33.0</td>\n",
       "      <td>False</td>\n",
       "      <td>0.0</td>\n",
       "      <td>1283.0</td>\n",
       "      <td>371.0</td>\n",
       "      <td>3329.0</td>\n",
       "      <td>193.0</td>\n",
       "      <td>False</td>\n",
       "      <td>A</td>\n",
       "      <td>0.0</td>\n",
       "      <td>S</td>\n",
       "    </tr>\n",
       "    <tr>\n",
       "      <th>4</th>\n",
       "      <td>Earth</td>\n",
       "      <td>False</td>\n",
       "      <td>TRAPPIST-1e</td>\n",
       "      <td>16.0</td>\n",
       "      <td>False</td>\n",
       "      <td>303.0</td>\n",
       "      <td>70.0</td>\n",
       "      <td>151.0</td>\n",
       "      <td>565.0</td>\n",
       "      <td>2.0</td>\n",
       "      <td>True</td>\n",
       "      <td>F</td>\n",
       "      <td>1.0</td>\n",
       "      <td>S</td>\n",
       "    </tr>\n",
       "    <tr>\n",
       "      <th>...</th>\n",
       "      <td>...</td>\n",
       "      <td>...</td>\n",
       "      <td>...</td>\n",
       "      <td>...</td>\n",
       "      <td>...</td>\n",
       "      <td>...</td>\n",
       "      <td>...</td>\n",
       "      <td>...</td>\n",
       "      <td>...</td>\n",
       "      <td>...</td>\n",
       "      <td>...</td>\n",
       "      <td>...</td>\n",
       "      <td>...</td>\n",
       "      <td>...</td>\n",
       "    </tr>\n",
       "    <tr>\n",
       "      <th>8688</th>\n",
       "      <td>Europa</td>\n",
       "      <td>False</td>\n",
       "      <td>55 Cancri e</td>\n",
       "      <td>41.0</td>\n",
       "      <td>True</td>\n",
       "      <td>0.0</td>\n",
       "      <td>6819.0</td>\n",
       "      <td>0.0</td>\n",
       "      <td>1643.0</td>\n",
       "      <td>74.0</td>\n",
       "      <td>False</td>\n",
       "      <td>A</td>\n",
       "      <td>98.0</td>\n",
       "      <td>P</td>\n",
       "    </tr>\n",
       "    <tr>\n",
       "      <th>8689</th>\n",
       "      <td>Earth</td>\n",
       "      <td>True</td>\n",
       "      <td>PSO J318.5-22</td>\n",
       "      <td>18.0</td>\n",
       "      <td>False</td>\n",
       "      <td>0.0</td>\n",
       "      <td>0.0</td>\n",
       "      <td>0.0</td>\n",
       "      <td>0.0</td>\n",
       "      <td>0.0</td>\n",
       "      <td>False</td>\n",
       "      <td>G</td>\n",
       "      <td>1499.0</td>\n",
       "      <td>S</td>\n",
       "    </tr>\n",
       "    <tr>\n",
       "      <th>8690</th>\n",
       "      <td>Earth</td>\n",
       "      <td>False</td>\n",
       "      <td>TRAPPIST-1e</td>\n",
       "      <td>26.0</td>\n",
       "      <td>False</td>\n",
       "      <td>0.0</td>\n",
       "      <td>0.0</td>\n",
       "      <td>1872.0</td>\n",
       "      <td>1.0</td>\n",
       "      <td>0.0</td>\n",
       "      <td>True</td>\n",
       "      <td>G</td>\n",
       "      <td>1500.0</td>\n",
       "      <td>S</td>\n",
       "    </tr>\n",
       "    <tr>\n",
       "      <th>8691</th>\n",
       "      <td>Europa</td>\n",
       "      <td>False</td>\n",
       "      <td>55 Cancri e</td>\n",
       "      <td>32.0</td>\n",
       "      <td>False</td>\n",
       "      <td>0.0</td>\n",
       "      <td>1049.0</td>\n",
       "      <td>0.0</td>\n",
       "      <td>353.0</td>\n",
       "      <td>3235.0</td>\n",
       "      <td>False</td>\n",
       "      <td>E</td>\n",
       "      <td>608.0</td>\n",
       "      <td>S</td>\n",
       "    </tr>\n",
       "    <tr>\n",
       "      <th>8692</th>\n",
       "      <td>Europa</td>\n",
       "      <td>False</td>\n",
       "      <td>TRAPPIST-1e</td>\n",
       "      <td>44.0</td>\n",
       "      <td>False</td>\n",
       "      <td>126.0</td>\n",
       "      <td>4688.0</td>\n",
       "      <td>0.0</td>\n",
       "      <td>0.0</td>\n",
       "      <td>12.0</td>\n",
       "      <td>True</td>\n",
       "      <td>E</td>\n",
       "      <td>608.0</td>\n",
       "      <td>S</td>\n",
       "    </tr>\n",
       "  </tbody>\n",
       "</table>\n",
       "<p>8693 rows × 14 columns</p>\n",
       "</div>"
      ],
      "text/plain": [
       "     HomePlanet CryoSleep    Destination   Age    VIP  RoomService  FoodCourt  \\\n",
       "0        Europa     False    TRAPPIST-1e  39.0  False          0.0        0.0   \n",
       "1         Earth     False    TRAPPIST-1e  24.0  False        109.0        9.0   \n",
       "2        Europa     False    TRAPPIST-1e  58.0   True         43.0     3576.0   \n",
       "3        Europa     False    TRAPPIST-1e  33.0  False          0.0     1283.0   \n",
       "4         Earth     False    TRAPPIST-1e  16.0  False        303.0       70.0   \n",
       "...         ...       ...            ...   ...    ...          ...        ...   \n",
       "8688     Europa     False    55 Cancri e  41.0   True          0.0     6819.0   \n",
       "8689      Earth      True  PSO J318.5-22  18.0  False          0.0        0.0   \n",
       "8690      Earth     False    TRAPPIST-1e  26.0  False          0.0        0.0   \n",
       "8691     Europa     False    55 Cancri e  32.0  False          0.0     1049.0   \n",
       "8692     Europa     False    TRAPPIST-1e  44.0  False        126.0     4688.0   \n",
       "\n",
       "      ShoppingMall     Spa  VRDeck  Transported Deck  Cabin_num Side  \n",
       "0              0.0     0.0     0.0        False    B        0.0    P  \n",
       "1             25.0   549.0    44.0         True    F        0.0    S  \n",
       "2              0.0  6715.0    49.0        False    A        0.0    S  \n",
       "3            371.0  3329.0   193.0        False    A        0.0    S  \n",
       "4            151.0   565.0     2.0         True    F        1.0    S  \n",
       "...            ...     ...     ...          ...  ...        ...  ...  \n",
       "8688           0.0  1643.0    74.0        False    A       98.0    P  \n",
       "8689           0.0     0.0     0.0        False    G     1499.0    S  \n",
       "8690        1872.0     1.0     0.0         True    G     1500.0    S  \n",
       "8691           0.0   353.0  3235.0        False    E      608.0    S  \n",
       "8692           0.0     0.0    12.0         True    E      608.0    S  \n",
       "\n",
       "[8693 rows x 14 columns]"
      ]
     },
     "metadata": {},
     "output_type": "display_data"
    }
   ],
   "source": [
    "display(train_data)"
   ]
  },
  {
   "cell_type": "code",
   "execution_count": 9,
   "metadata": {},
   "outputs": [],
   "source": [
    "train_data[\"CryoSleep\"] = train_data[\"CryoSleep\"].astype(bool)\n",
    "train_data[\"VIP\"] = train_data[\"VIP\"].astype(bool)\n",
    "\n",
    "categorical_columns = [\"HomePlanet\", \"Destination\", \"Deck\", \"Side\"]\n",
    "for col in categorical_columns:\n",
    "    train_data[col] = train_data[col].astype(\"category\")"
   ]
  },
  {
   "cell_type": "code",
   "execution_count": 10,
   "metadata": {},
   "outputs": [],
   "source": [
    "train_data_before_missing = train_data.copy()"
   ]
  },
  {
   "cell_type": "markdown",
   "metadata": {},
   "source": [
    "## Wypełnienie brakujących wartości (zależnie od modelu)"
   ]
  },
  {
   "cell_type": "code",
   "execution_count": 11,
   "metadata": {},
   "outputs": [
    {
     "name": "stderr",
     "output_type": "stream",
     "text": [
      "C:\\Users\\filip\\AppData\\Local\\Temp\\ipykernel_7756\\1692797710.py:8: FutureWarning: A value is trying to be set on a copy of a DataFrame or Series through chained assignment using an inplace method.\n",
      "The behavior will change in pandas 3.0. This inplace method will never work because the intermediate object on which we are setting values always behaves as a copy.\n",
      "\n",
      "For example, when doing 'df[col].method(value, inplace=True)', try using 'df.method({col: value}, inplace=True)' or df[col] = df[col].method(value) instead, to perform the operation inplace on the original object.\n",
      "\n",
      "\n",
      "  train_data[column].fillna(train_data[column].mode()[0], inplace=True)\n",
      "C:\\Users\\filip\\AppData\\Local\\Temp\\ipykernel_7756\\1692797710.py:11: FutureWarning: A value is trying to be set on a copy of a DataFrame or Series through chained assignment using an inplace method.\n",
      "The behavior will change in pandas 3.0. This inplace method will never work because the intermediate object on which we are setting values always behaves as a copy.\n",
      "\n",
      "For example, when doing 'df[col].method(value, inplace=True)', try using 'df.method({col: value}, inplace=True)' or df[col] = df[col].method(value) instead, to perform the operation inplace on the original object.\n",
      "\n",
      "\n",
      "  train_data[column].fillna(train_data[column].median(), inplace=True)\n",
      "C:\\Users\\filip\\AppData\\Local\\Temp\\ipykernel_7756\\1692797710.py:11: FutureWarning: A value is trying to be set on a copy of a DataFrame or Series through chained assignment using an inplace method.\n",
      "The behavior will change in pandas 3.0. This inplace method will never work because the intermediate object on which we are setting values always behaves as a copy.\n",
      "\n",
      "For example, when doing 'df[col].method(value, inplace=True)', try using 'df.method({col: value}, inplace=True)' or df[col] = df[col].method(value) instead, to perform the operation inplace on the original object.\n",
      "\n",
      "\n",
      "  train_data[column].fillna(train_data[column].median(), inplace=True)\n",
      "C:\\Users\\filip\\AppData\\Local\\Temp\\ipykernel_7756\\1692797710.py:11: FutureWarning: A value is trying to be set on a copy of a DataFrame or Series through chained assignment using an inplace method.\n",
      "The behavior will change in pandas 3.0. This inplace method will never work because the intermediate object on which we are setting values always behaves as a copy.\n",
      "\n",
      "For example, when doing 'df[col].method(value, inplace=True)', try using 'df.method({col: value}, inplace=True)' or df[col] = df[col].method(value) instead, to perform the operation inplace on the original object.\n",
      "\n",
      "\n",
      "  train_data[column].fillna(train_data[column].median(), inplace=True)\n",
      "C:\\Users\\filip\\AppData\\Local\\Temp\\ipykernel_7756\\1692797710.py:11: FutureWarning: A value is trying to be set on a copy of a DataFrame or Series through chained assignment using an inplace method.\n",
      "The behavior will change in pandas 3.0. This inplace method will never work because the intermediate object on which we are setting values always behaves as a copy.\n",
      "\n",
      "For example, when doing 'df[col].method(value, inplace=True)', try using 'df.method({col: value}, inplace=True)' or df[col] = df[col].method(value) instead, to perform the operation inplace on the original object.\n",
      "\n",
      "\n",
      "  train_data[column].fillna(train_data[column].median(), inplace=True)\n",
      "C:\\Users\\filip\\AppData\\Local\\Temp\\ipykernel_7756\\1692797710.py:11: FutureWarning: A value is trying to be set on a copy of a DataFrame or Series through chained assignment using an inplace method.\n",
      "The behavior will change in pandas 3.0. This inplace method will never work because the intermediate object on which we are setting values always behaves as a copy.\n",
      "\n",
      "For example, when doing 'df[col].method(value, inplace=True)', try using 'df.method({col: value}, inplace=True)' or df[col] = df[col].method(value) instead, to perform the operation inplace on the original object.\n",
      "\n",
      "\n",
      "  train_data[column].fillna(train_data[column].median(), inplace=True)\n",
      "C:\\Users\\filip\\AppData\\Local\\Temp\\ipykernel_7756\\1692797710.py:11: FutureWarning: A value is trying to be set on a copy of a DataFrame or Series through chained assignment using an inplace method.\n",
      "The behavior will change in pandas 3.0. This inplace method will never work because the intermediate object on which we are setting values always behaves as a copy.\n",
      "\n",
      "For example, when doing 'df[col].method(value, inplace=True)', try using 'df.method({col: value}, inplace=True)' or df[col] = df[col].method(value) instead, to perform the operation inplace on the original object.\n",
      "\n",
      "\n",
      "  train_data[column].fillna(train_data[column].median(), inplace=True)\n"
     ]
    }
   ],
   "source": [
    "for column in train_data.columns:\n",
    "    train_data[column + \"_is_null\"] = train_data[column].isnull().astype(int)\n",
    "\n",
    "categorical_columns = [\"HomePlanet\", \"CryoSleep\", \"Destination\", \"VIP\"]\n",
    "numerical_columns = [\"Age\", \"FoodCourt\", \"ShoppingMall\", \"Spa\", \"VRDeck\", \"RoomService\"]\n",
    "\n",
    "for column in categorical_columns:\n",
    "    train_data[column].fillna(train_data[column].mode()[0], inplace=True)\n",
    "\n",
    "for column in numerical_columns:\n",
    "    train_data[column].fillna(train_data[column].median(), inplace=True)"
   ]
  },
  {
   "cell_type": "code",
   "execution_count": 12,
   "metadata": {},
   "outputs": [
    {
     "data": {
      "text/plain": [
       "HomePlanet                0\n",
       "CryoSleep                 0\n",
       "Destination               0\n",
       "Age                       0\n",
       "VIP                       0\n",
       "RoomService               0\n",
       "FoodCourt                 0\n",
       "ShoppingMall              0\n",
       "Spa                       0\n",
       "VRDeck                    0\n",
       "Transported               0\n",
       "Deck                    199\n",
       "Cabin_num               199\n",
       "Side                    199\n",
       "HomePlanet_is_null        0\n",
       "CryoSleep_is_null         0\n",
       "Destination_is_null       0\n",
       "Age_is_null               0\n",
       "VIP_is_null               0\n",
       "RoomService_is_null       0\n",
       "FoodCourt_is_null         0\n",
       "ShoppingMall_is_null      0\n",
       "Spa_is_null               0\n",
       "VRDeck_is_null            0\n",
       "Transported_is_null       0\n",
       "Deck_is_null              0\n",
       "Cabin_num_is_null         0\n",
       "Side_is_null              0\n",
       "dtype: int64"
      ]
     },
     "execution_count": 12,
     "metadata": {},
     "output_type": "execute_result"
    }
   ],
   "source": [
    "train_data.isnull().sum()"
   ]
  },
  {
   "cell_type": "code",
   "execution_count": 13,
   "metadata": {},
   "outputs": [
    {
     "data": {
      "text/html": [
       "<div>\n",
       "<style scoped>\n",
       "    .dataframe tbody tr th:only-of-type {\n",
       "        vertical-align: middle;\n",
       "    }\n",
       "\n",
       "    .dataframe tbody tr th {\n",
       "        vertical-align: top;\n",
       "    }\n",
       "\n",
       "    .dataframe thead th {\n",
       "        text-align: right;\n",
       "    }\n",
       "</style>\n",
       "<table border=\"1\" class=\"dataframe\">\n",
       "  <thead>\n",
       "    <tr style=\"text-align: right;\">\n",
       "      <th></th>\n",
       "      <th>Age</th>\n",
       "      <th>RoomService</th>\n",
       "      <th>FoodCourt</th>\n",
       "      <th>ShoppingMall</th>\n",
       "      <th>Spa</th>\n",
       "      <th>VRDeck</th>\n",
       "      <th>Cabin_num</th>\n",
       "      <th>HomePlanet_is_null</th>\n",
       "      <th>CryoSleep_is_null</th>\n",
       "      <th>Destination_is_null</th>\n",
       "      <th>...</th>\n",
       "      <th>VIP_is_null</th>\n",
       "      <th>RoomService_is_null</th>\n",
       "      <th>FoodCourt_is_null</th>\n",
       "      <th>ShoppingMall_is_null</th>\n",
       "      <th>Spa_is_null</th>\n",
       "      <th>VRDeck_is_null</th>\n",
       "      <th>Transported_is_null</th>\n",
       "      <th>Deck_is_null</th>\n",
       "      <th>Cabin_num_is_null</th>\n",
       "      <th>Side_is_null</th>\n",
       "    </tr>\n",
       "  </thead>\n",
       "  <tbody>\n",
       "    <tr>\n",
       "      <th>count</th>\n",
       "      <td>8693.000000</td>\n",
       "      <td>8693.000000</td>\n",
       "      <td>8693.000000</td>\n",
       "      <td>8693.000000</td>\n",
       "      <td>8693.000000</td>\n",
       "      <td>8693.000000</td>\n",
       "      <td>8494.000000</td>\n",
       "      <td>8693.000000</td>\n",
       "      <td>8693.0</td>\n",
       "      <td>8693.000000</td>\n",
       "      <td>...</td>\n",
       "      <td>8693.0</td>\n",
       "      <td>8693.000000</td>\n",
       "      <td>8693.000000</td>\n",
       "      <td>8693.000000</td>\n",
       "      <td>8693.000000</td>\n",
       "      <td>8693.000000</td>\n",
       "      <td>8693.0</td>\n",
       "      <td>8693.000000</td>\n",
       "      <td>8693.000000</td>\n",
       "      <td>8693.000000</td>\n",
       "    </tr>\n",
       "    <tr>\n",
       "      <th>mean</th>\n",
       "      <td>28.790291</td>\n",
       "      <td>220.009318</td>\n",
       "      <td>448.434027</td>\n",
       "      <td>169.572300</td>\n",
       "      <td>304.588865</td>\n",
       "      <td>298.261820</td>\n",
       "      <td>600.367671</td>\n",
       "      <td>0.023122</td>\n",
       "      <td>0.0</td>\n",
       "      <td>0.020936</td>\n",
       "      <td>...</td>\n",
       "      <td>0.0</td>\n",
       "      <td>0.020821</td>\n",
       "      <td>0.021051</td>\n",
       "      <td>0.023927</td>\n",
       "      <td>0.021051</td>\n",
       "      <td>0.021627</td>\n",
       "      <td>0.0</td>\n",
       "      <td>0.022892</td>\n",
       "      <td>0.022892</td>\n",
       "      <td>0.022892</td>\n",
       "    </tr>\n",
       "    <tr>\n",
       "      <th>std</th>\n",
       "      <td>14.341404</td>\n",
       "      <td>660.519050</td>\n",
       "      <td>1595.790627</td>\n",
       "      <td>598.007164</td>\n",
       "      <td>1125.562559</td>\n",
       "      <td>1134.126417</td>\n",
       "      <td>511.867226</td>\n",
       "      <td>0.150300</td>\n",
       "      <td>0.0</td>\n",
       "      <td>0.143180</td>\n",
       "      <td>...</td>\n",
       "      <td>0.0</td>\n",
       "      <td>0.142794</td>\n",
       "      <td>0.143564</td>\n",
       "      <td>0.152832</td>\n",
       "      <td>0.143564</td>\n",
       "      <td>0.145469</td>\n",
       "      <td>0.0</td>\n",
       "      <td>0.149568</td>\n",
       "      <td>0.149568</td>\n",
       "      <td>0.149568</td>\n",
       "    </tr>\n",
       "    <tr>\n",
       "      <th>min</th>\n",
       "      <td>0.000000</td>\n",
       "      <td>0.000000</td>\n",
       "      <td>0.000000</td>\n",
       "      <td>0.000000</td>\n",
       "      <td>0.000000</td>\n",
       "      <td>0.000000</td>\n",
       "      <td>0.000000</td>\n",
       "      <td>0.000000</td>\n",
       "      <td>0.0</td>\n",
       "      <td>0.000000</td>\n",
       "      <td>...</td>\n",
       "      <td>0.0</td>\n",
       "      <td>0.000000</td>\n",
       "      <td>0.000000</td>\n",
       "      <td>0.000000</td>\n",
       "      <td>0.000000</td>\n",
       "      <td>0.000000</td>\n",
       "      <td>0.0</td>\n",
       "      <td>0.000000</td>\n",
       "      <td>0.000000</td>\n",
       "      <td>0.000000</td>\n",
       "    </tr>\n",
       "    <tr>\n",
       "      <th>25%</th>\n",
       "      <td>20.000000</td>\n",
       "      <td>0.000000</td>\n",
       "      <td>0.000000</td>\n",
       "      <td>0.000000</td>\n",
       "      <td>0.000000</td>\n",
       "      <td>0.000000</td>\n",
       "      <td>167.250000</td>\n",
       "      <td>0.000000</td>\n",
       "      <td>0.0</td>\n",
       "      <td>0.000000</td>\n",
       "      <td>...</td>\n",
       "      <td>0.0</td>\n",
       "      <td>0.000000</td>\n",
       "      <td>0.000000</td>\n",
       "      <td>0.000000</td>\n",
       "      <td>0.000000</td>\n",
       "      <td>0.000000</td>\n",
       "      <td>0.0</td>\n",
       "      <td>0.000000</td>\n",
       "      <td>0.000000</td>\n",
       "      <td>0.000000</td>\n",
       "    </tr>\n",
       "    <tr>\n",
       "      <th>50%</th>\n",
       "      <td>27.000000</td>\n",
       "      <td>0.000000</td>\n",
       "      <td>0.000000</td>\n",
       "      <td>0.000000</td>\n",
       "      <td>0.000000</td>\n",
       "      <td>0.000000</td>\n",
       "      <td>427.000000</td>\n",
       "      <td>0.000000</td>\n",
       "      <td>0.0</td>\n",
       "      <td>0.000000</td>\n",
       "      <td>...</td>\n",
       "      <td>0.0</td>\n",
       "      <td>0.000000</td>\n",
       "      <td>0.000000</td>\n",
       "      <td>0.000000</td>\n",
       "      <td>0.000000</td>\n",
       "      <td>0.000000</td>\n",
       "      <td>0.0</td>\n",
       "      <td>0.000000</td>\n",
       "      <td>0.000000</td>\n",
       "      <td>0.000000</td>\n",
       "    </tr>\n",
       "    <tr>\n",
       "      <th>75%</th>\n",
       "      <td>37.000000</td>\n",
       "      <td>41.000000</td>\n",
       "      <td>61.000000</td>\n",
       "      <td>22.000000</td>\n",
       "      <td>53.000000</td>\n",
       "      <td>40.000000</td>\n",
       "      <td>999.000000</td>\n",
       "      <td>0.000000</td>\n",
       "      <td>0.0</td>\n",
       "      <td>0.000000</td>\n",
       "      <td>...</td>\n",
       "      <td>0.0</td>\n",
       "      <td>0.000000</td>\n",
       "      <td>0.000000</td>\n",
       "      <td>0.000000</td>\n",
       "      <td>0.000000</td>\n",
       "      <td>0.000000</td>\n",
       "      <td>0.0</td>\n",
       "      <td>0.000000</td>\n",
       "      <td>0.000000</td>\n",
       "      <td>0.000000</td>\n",
       "    </tr>\n",
       "    <tr>\n",
       "      <th>max</th>\n",
       "      <td>79.000000</td>\n",
       "      <td>14327.000000</td>\n",
       "      <td>29813.000000</td>\n",
       "      <td>23492.000000</td>\n",
       "      <td>22408.000000</td>\n",
       "      <td>24133.000000</td>\n",
       "      <td>1894.000000</td>\n",
       "      <td>1.000000</td>\n",
       "      <td>0.0</td>\n",
       "      <td>1.000000</td>\n",
       "      <td>...</td>\n",
       "      <td>0.0</td>\n",
       "      <td>1.000000</td>\n",
       "      <td>1.000000</td>\n",
       "      <td>1.000000</td>\n",
       "      <td>1.000000</td>\n",
       "      <td>1.000000</td>\n",
       "      <td>0.0</td>\n",
       "      <td>1.000000</td>\n",
       "      <td>1.000000</td>\n",
       "      <td>1.000000</td>\n",
       "    </tr>\n",
       "  </tbody>\n",
       "</table>\n",
       "<p>8 rows × 21 columns</p>\n",
       "</div>"
      ],
      "text/plain": [
       "               Age   RoomService     FoodCourt  ShoppingMall           Spa  \\\n",
       "count  8693.000000   8693.000000   8693.000000   8693.000000   8693.000000   \n",
       "mean     28.790291    220.009318    448.434027    169.572300    304.588865   \n",
       "std      14.341404    660.519050   1595.790627    598.007164   1125.562559   \n",
       "min       0.000000      0.000000      0.000000      0.000000      0.000000   \n",
       "25%      20.000000      0.000000      0.000000      0.000000      0.000000   \n",
       "50%      27.000000      0.000000      0.000000      0.000000      0.000000   \n",
       "75%      37.000000     41.000000     61.000000     22.000000     53.000000   \n",
       "max      79.000000  14327.000000  29813.000000  23492.000000  22408.000000   \n",
       "\n",
       "             VRDeck    Cabin_num  HomePlanet_is_null  CryoSleep_is_null  \\\n",
       "count   8693.000000  8494.000000         8693.000000             8693.0   \n",
       "mean     298.261820   600.367671            0.023122                0.0   \n",
       "std     1134.126417   511.867226            0.150300                0.0   \n",
       "min        0.000000     0.000000            0.000000                0.0   \n",
       "25%        0.000000   167.250000            0.000000                0.0   \n",
       "50%        0.000000   427.000000            0.000000                0.0   \n",
       "75%       40.000000   999.000000            0.000000                0.0   \n",
       "max    24133.000000  1894.000000            1.000000                0.0   \n",
       "\n",
       "       Destination_is_null  ...  VIP_is_null  RoomService_is_null  \\\n",
       "count          8693.000000  ...       8693.0          8693.000000   \n",
       "mean              0.020936  ...          0.0             0.020821   \n",
       "std               0.143180  ...          0.0             0.142794   \n",
       "min               0.000000  ...          0.0             0.000000   \n",
       "25%               0.000000  ...          0.0             0.000000   \n",
       "50%               0.000000  ...          0.0             0.000000   \n",
       "75%               0.000000  ...          0.0             0.000000   \n",
       "max               1.000000  ...          0.0             1.000000   \n",
       "\n",
       "       FoodCourt_is_null  ShoppingMall_is_null  Spa_is_null  VRDeck_is_null  \\\n",
       "count        8693.000000           8693.000000  8693.000000     8693.000000   \n",
       "mean            0.021051              0.023927     0.021051        0.021627   \n",
       "std             0.143564              0.152832     0.143564        0.145469   \n",
       "min             0.000000              0.000000     0.000000        0.000000   \n",
       "25%             0.000000              0.000000     0.000000        0.000000   \n",
       "50%             0.000000              0.000000     0.000000        0.000000   \n",
       "75%             0.000000              0.000000     0.000000        0.000000   \n",
       "max             1.000000              1.000000     1.000000        1.000000   \n",
       "\n",
       "       Transported_is_null  Deck_is_null  Cabin_num_is_null  Side_is_null  \n",
       "count               8693.0   8693.000000        8693.000000   8693.000000  \n",
       "mean                   0.0      0.022892           0.022892      0.022892  \n",
       "std                    0.0      0.149568           0.149568      0.149568  \n",
       "min                    0.0      0.000000           0.000000      0.000000  \n",
       "25%                    0.0      0.000000           0.000000      0.000000  \n",
       "50%                    0.0      0.000000           0.000000      0.000000  \n",
       "75%                    0.0      0.000000           0.000000      0.000000  \n",
       "max                    0.0      1.000000           1.000000      1.000000  \n",
       "\n",
       "[8 rows x 21 columns]"
      ]
     },
     "execution_count": 13,
     "metadata": {},
     "output_type": "execute_result"
    }
   ],
   "source": [
    "train_data.describe()"
   ]
  },
  {
   "cell_type": "code",
   "execution_count": 14,
   "metadata": {},
   "outputs": [
    {
     "name": "stdout",
     "output_type": "stream",
     "text": [
      "<class 'pandas.core.frame.DataFrame'>\n",
      "RangeIndex: 8693 entries, 0 to 8692\n",
      "Data columns (total 28 columns):\n",
      " #   Column                Non-Null Count  Dtype   \n",
      "---  ------                --------------  -----   \n",
      " 0   HomePlanet            8693 non-null   category\n",
      " 1   CryoSleep             8693 non-null   bool    \n",
      " 2   Destination           8693 non-null   category\n",
      " 3   Age                   8693 non-null   float64 \n",
      " 4   VIP                   8693 non-null   bool    \n",
      " 5   RoomService           8693 non-null   float64 \n",
      " 6   FoodCourt             8693 non-null   float64 \n",
      " 7   ShoppingMall          8693 non-null   float64 \n",
      " 8   Spa                   8693 non-null   float64 \n",
      " 9   VRDeck                8693 non-null   float64 \n",
      " 10  Transported           8693 non-null   bool    \n",
      " 11  Deck                  8494 non-null   category\n",
      " 12  Cabin_num             8494 non-null   float64 \n",
      " 13  Side                  8494 non-null   category\n",
      " 14  HomePlanet_is_null    8693 non-null   int32   \n",
      " 15  CryoSleep_is_null     8693 non-null   int32   \n",
      " 16  Destination_is_null   8693 non-null   int32   \n",
      " 17  Age_is_null           8693 non-null   int32   \n",
      " 18  VIP_is_null           8693 non-null   int32   \n",
      " 19  RoomService_is_null   8693 non-null   int32   \n",
      " 20  FoodCourt_is_null     8693 non-null   int32   \n",
      " 21  ShoppingMall_is_null  8693 non-null   int32   \n",
      " 22  Spa_is_null           8693 non-null   int32   \n",
      " 23  VRDeck_is_null        8693 non-null   int32   \n",
      " 24  Transported_is_null   8693 non-null   int32   \n",
      " 25  Deck_is_null          8693 non-null   int32   \n",
      " 26  Cabin_num_is_null     8693 non-null   int32   \n",
      " 27  Side_is_null          8693 non-null   int32   \n",
      "dtypes: bool(3), category(4), float64(7), int32(14)\n",
      "memory usage: 1011.1 KB\n"
     ]
    }
   ],
   "source": [
    "train_data.info()"
   ]
  },
  {
   "cell_type": "markdown",
   "metadata": {},
   "source": [
    "Zbalansowanie klas"
   ]
  },
  {
   "cell_type": "code",
   "execution_count": 77,
   "metadata": {},
   "outputs": [
    {
     "data": {
      "text/plain": [
       "<Axes: xlabel='Transported'>"
      ]
     },
     "execution_count": 77,
     "metadata": {},
     "output_type": "execute_result"
    },
    {
     "data": {
      "image/png": "[encoded data removed]",
      "text/plain": [
       "<Figure size 640x480 with 1 Axes>"
      ]
     },
     "metadata": {},
     "output_type": "display_data"
    }
   ],
   "source": [
    "plot_df = train_data.Transported.value_counts()\n",
    "plot_df.plot(kind=\"bar\")"
   ]
  },
  {
   "cell_type": "code",
   "execution_count": 16,
   "metadata": {},
   "outputs": [
    {
     "data": {
      "text/plain": [
       "<Axes: xlabel='Cabin_num', ylabel='Count'>"
      ]
     },
     "execution_count": 16,
     "metadata": {},
     "output_type": "execute_result"
    },
    {
     "data": {
      "image/png": "[encoded data removed]",
      "text/plain": [
       "<Figure size 1000x1000 with 7 Axes>"
      ]
     },
     "metadata": {},
     "output_type": "display_data"
    }
   ],
   "source": [
    "fig, ax = plt.subplots(7, 1, figsize=(10, 10))\n",
    "plt.subplots_adjust(top=2)\n",
    "\n",
    "sns.histplot(data=train_data, x=\"Age\",  bins=50, ax=ax[0], hue=\"Transported\")\n",
    "sns.histplot(data=train_data, x=\"FoodCourt\", bins=50, ax=ax[1], hue=\"Transported\")\n",
    "sns.histplot(data=train_data, x=\"ShoppingMall\", bins=50, ax=ax[2], hue=\"Transported\")\n",
    "sns.histplot(data=train_data, x=\"Spa\", bins=50, ax=ax[3], hue=\"Transported\")\n",
    "sns.histplot(data=train_data, x=\"VRDeck\", bins=50, ax=ax[4], hue=\"Transported\")\n",
    "sns.histplot(data=train_data, x=\"RoomService\", bins=50, ax=ax[5], hue=\"Transported\")\n",
    "sns.histplot(data=train_data, x=\"Cabin_num\", bins=50, ax=ax[6], hue=\"Transported\")"
   ]
  },
  {
   "cell_type": "code",
   "execution_count": 17,
   "metadata": {},
   "outputs": [
    {
     "data": {
      "text/plain": [
       "<Axes: xlabel='CryoSleep', ylabel='count'>"
      ]
     },
     "execution_count": 17,
     "metadata": {},
     "output_type": "execute_result"
    },
    {
     "data": {
      "image/png": "[encoded data removed]",
      "text/plain": [
       "<Figure size 1000x2000 with 6 Axes>"
      ]
     },
     "metadata": {},
     "output_type": "display_data"
    }
   ],
   "source": [
    "fig, ax = plt.subplots(6, 1, figsize=(10, 20))\n",
    "plt.subplots_adjust(top=2)\n",
    "\n",
    "sns.countplot(x='HomePlanet', hue='Transported', data=train_data, ax=ax[0])\n",
    "sns.countplot(x='Destination', hue='Transported', data=train_data, ax=ax[1])\n",
    "sns.countplot(x='VIP', hue='Transported', data=train_data, ax=ax[2])\n",
    "sns.countplot(x='Deck', hue='Transported', data=train_data, ax=ax[3])\n",
    "sns.countplot(x='Side', hue='Transported', data=train_data, ax=ax[4])\n",
    "sns.countplot(x='CryoSleep', hue='Transported', data=train_data, ax=ax[5])"
   ]
  },
  {
   "cell_type": "code",
   "execution_count": 75,
   "metadata": {},
   "outputs": [
    {
     "data": {
      "image/png": "[encoded data removed]",
      "text/plain": [
       "<Figure size 640x480 with 2 Axes>"
      ]
     },
     "metadata": {},
     "output_type": "display_data"
    }
   ],
   "source": [
    "numerical_columns = [\"Age\", \"RoomService\", \"FoodCourt\", \"ShoppingMall\", \"Spa\", \"VRDeck\", \"Cabin_num\"]\n",
    "numerical_corr = train_data[numerical_columns].corr()\n",
    "ax =plt.axes()\n",
    "sns.heatmap(numerical_corr, cmap=\"coolwarm\", annot=True, ax=ax)\n",
    "ax.set_title(\"Correlation Matrix\")\n",
    "plt.show()"
   ]
  },
  {
   "cell_type": "markdown",
   "metadata": {},
   "source": [
    "One Hot Encoding"
   ]
  },
  {
   "cell_type": "code",
   "execution_count": 19,
   "metadata": {},
   "outputs": [],
   "source": [
    "\n",
    "\n",
    "train_data_before_encoding = train_data.copy()\n",
    "\n",
    "encoder = OneHotEncoder(drop=\"first\")\n",
    "train_data_encoded = encoder.fit_transform(\n",
    "    train_data[[\"HomePlanet\", \"Destination\", \"VIP\", \"Deck\", \"Side\"]]\n",
    ")\n",
    "\n",
    "\n",
    "train_data_encoded = pd.DataFrame(\n",
    "    train_data_encoded.toarray(),\n",
    "    columns=encoder.get_feature_names_out(\n",
    "        [\"HomePlanet\", \"Destination\", \"VIP\", \"Deck\", \"Side\"]\n",
    "    ),\n",
    ")\n",
    "\n",
    "train_data.drop(\n",
    "    [\"HomePlanet\", \"Destination\", \"VIP\", \"Deck\", \"Side\"], axis=1, inplace=True\n",
    ")\n",
    "\n",
    "train_data = pd.concat([train_data, train_data_encoded], axis=1)"
   ]
  },
  {
   "cell_type": "markdown",
   "metadata": {},
   "source": [
    "Walidacja krzyżowa"
   ]
  },
  {
   "cell_type": "code",
   "execution_count": 20,
   "metadata": {},
   "outputs": [],
   "source": [
    "skf = StratifiedKFold(n_splits=5, shuffle=True, random_state=42)"
   ]
  },
  {
   "cell_type": "code",
   "execution_count": 21,
   "metadata": {},
   "outputs": [],
   "source": [
    "def split_data(data):\n",
    "    X = data.drop(columns=[\"Transported\"])\n",
    "    y = data[\"Transported\"]\n",
    "    return X, y"
   ]
  },
  {
   "cell_type": "code",
   "execution_count": 22,
   "metadata": {},
   "outputs": [],
   "source": [
    "X, y = split_data(train_data)\n",
    "X_before_missing, y_before_missing = split_data(train_data_before_missing)\n",
    "X_before_encoding, y_before_encoding = split_data(train_data_before_encoding)"
   ]
  },
  {
   "cell_type": "code",
   "execution_count": 23,
   "metadata": {},
   "outputs": [
    {
     "data": {
      "text/html": [
       "<div>\n",
       "<style scoped>\n",
       "    .dataframe tbody tr th:only-of-type {\n",
       "        vertical-align: middle;\n",
       "    }\n",
       "\n",
       "    .dataframe tbody tr th {\n",
       "        vertical-align: top;\n",
       "    }\n",
       "\n",
       "    .dataframe thead th {\n",
       "        text-align: right;\n",
       "    }\n",
       "</style>\n",
       "<table border=\"1\" class=\"dataframe\">\n",
       "  <thead>\n",
       "    <tr style=\"text-align: right;\">\n",
       "      <th></th>\n",
       "      <th>HomePlanet</th>\n",
       "      <th>CryoSleep</th>\n",
       "      <th>Destination</th>\n",
       "      <th>Age</th>\n",
       "      <th>VIP</th>\n",
       "      <th>RoomService</th>\n",
       "      <th>FoodCourt</th>\n",
       "      <th>ShoppingMall</th>\n",
       "      <th>Spa</th>\n",
       "      <th>VRDeck</th>\n",
       "      <th>Deck</th>\n",
       "      <th>Cabin_num</th>\n",
       "      <th>Side</th>\n",
       "    </tr>\n",
       "  </thead>\n",
       "  <tbody>\n",
       "    <tr>\n",
       "      <th>0</th>\n",
       "      <td>Europa</td>\n",
       "      <td>False</td>\n",
       "      <td>TRAPPIST-1e</td>\n",
       "      <td>39.0</td>\n",
       "      <td>False</td>\n",
       "      <td>0.0</td>\n",
       "      <td>0.0</td>\n",
       "      <td>0.0</td>\n",
       "      <td>0.0</td>\n",
       "      <td>0.0</td>\n",
       "      <td>B</td>\n",
       "      <td>0.0</td>\n",
       "      <td>P</td>\n",
       "    </tr>\n",
       "    <tr>\n",
       "      <th>1</th>\n",
       "      <td>Earth</td>\n",
       "      <td>False</td>\n",
       "      <td>TRAPPIST-1e</td>\n",
       "      <td>24.0</td>\n",
       "      <td>False</td>\n",
       "      <td>109.0</td>\n",
       "      <td>9.0</td>\n",
       "      <td>25.0</td>\n",
       "      <td>549.0</td>\n",
       "      <td>44.0</td>\n",
       "      <td>F</td>\n",
       "      <td>0.0</td>\n",
       "      <td>S</td>\n",
       "    </tr>\n",
       "    <tr>\n",
       "      <th>2</th>\n",
       "      <td>Europa</td>\n",
       "      <td>False</td>\n",
       "      <td>TRAPPIST-1e</td>\n",
       "      <td>58.0</td>\n",
       "      <td>True</td>\n",
       "      <td>43.0</td>\n",
       "      <td>3576.0</td>\n",
       "      <td>0.0</td>\n",
       "      <td>6715.0</td>\n",
       "      <td>49.0</td>\n",
       "      <td>A</td>\n",
       "      <td>0.0</td>\n",
       "      <td>S</td>\n",
       "    </tr>\n",
       "    <tr>\n",
       "      <th>3</th>\n",
       "      <td>Europa</td>\n",
       "      <td>False</td>\n",
       "      <td>TRAPPIST-1e</td>\n",
       "      <td>33.0</td>\n",
       "      <td>False</td>\n",
       "      <td>0.0</td>\n",
       "      <td>1283.0</td>\n",
       "      <td>371.0</td>\n",
       "      <td>3329.0</td>\n",
       "      <td>193.0</td>\n",
       "      <td>A</td>\n",
       "      <td>0.0</td>\n",
       "      <td>S</td>\n",
       "    </tr>\n",
       "    <tr>\n",
       "      <th>4</th>\n",
       "      <td>Earth</td>\n",
       "      <td>False</td>\n",
       "      <td>TRAPPIST-1e</td>\n",
       "      <td>16.0</td>\n",
       "      <td>False</td>\n",
       "      <td>303.0</td>\n",
       "      <td>70.0</td>\n",
       "      <td>151.0</td>\n",
       "      <td>565.0</td>\n",
       "      <td>2.0</td>\n",
       "      <td>F</td>\n",
       "      <td>1.0</td>\n",
       "      <td>S</td>\n",
       "    </tr>\n",
       "    <tr>\n",
       "      <th>...</th>\n",
       "      <td>...</td>\n",
       "      <td>...</td>\n",
       "      <td>...</td>\n",
       "      <td>...</td>\n",
       "      <td>...</td>\n",
       "      <td>...</td>\n",
       "      <td>...</td>\n",
       "      <td>...</td>\n",
       "      <td>...</td>\n",
       "      <td>...</td>\n",
       "      <td>...</td>\n",
       "      <td>...</td>\n",
       "      <td>...</td>\n",
       "    </tr>\n",
       "    <tr>\n",
       "      <th>8688</th>\n",
       "      <td>Europa</td>\n",
       "      <td>False</td>\n",
       "      <td>55 Cancri e</td>\n",
       "      <td>41.0</td>\n",
       "      <td>True</td>\n",
       "      <td>0.0</td>\n",
       "      <td>6819.0</td>\n",
       "      <td>0.0</td>\n",
       "      <td>1643.0</td>\n",
       "      <td>74.0</td>\n",
       "      <td>A</td>\n",
       "      <td>98.0</td>\n",
       "      <td>P</td>\n",
       "    </tr>\n",
       "    <tr>\n",
       "      <th>8689</th>\n",
       "      <td>Earth</td>\n",
       "      <td>True</td>\n",
       "      <td>PSO J318.5-22</td>\n",
       "      <td>18.0</td>\n",
       "      <td>False</td>\n",
       "      <td>0.0</td>\n",
       "      <td>0.0</td>\n",
       "      <td>0.0</td>\n",
       "      <td>0.0</td>\n",
       "      <td>0.0</td>\n",
       "      <td>G</td>\n",
       "      <td>1499.0</td>\n",
       "      <td>S</td>\n",
       "    </tr>\n",
       "    <tr>\n",
       "      <th>8690</th>\n",
       "      <td>Earth</td>\n",
       "      <td>False</td>\n",
       "      <td>TRAPPIST-1e</td>\n",
       "      <td>26.0</td>\n",
       "      <td>False</td>\n",
       "      <td>0.0</td>\n",
       "      <td>0.0</td>\n",
       "      <td>1872.0</td>\n",
       "      <td>1.0</td>\n",
       "      <td>0.0</td>\n",
       "      <td>G</td>\n",
       "      <td>1500.0</td>\n",
       "      <td>S</td>\n",
       "    </tr>\n",
       "    <tr>\n",
       "      <th>8691</th>\n",
       "      <td>Europa</td>\n",
       "      <td>False</td>\n",
       "      <td>55 Cancri e</td>\n",
       "      <td>32.0</td>\n",
       "      <td>False</td>\n",
       "      <td>0.0</td>\n",
       "      <td>1049.0</td>\n",
       "      <td>0.0</td>\n",
       "      <td>353.0</td>\n",
       "      <td>3235.0</td>\n",
       "      <td>E</td>\n",
       "      <td>608.0</td>\n",
       "      <td>S</td>\n",
       "    </tr>\n",
       "    <tr>\n",
       "      <th>8692</th>\n",
       "      <td>Europa</td>\n",
       "      <td>False</td>\n",
       "      <td>TRAPPIST-1e</td>\n",
       "      <td>44.0</td>\n",
       "      <td>False</td>\n",
       "      <td>126.0</td>\n",
       "      <td>4688.0</td>\n",
       "      <td>0.0</td>\n",
       "      <td>0.0</td>\n",
       "      <td>12.0</td>\n",
       "      <td>E</td>\n",
       "      <td>608.0</td>\n",
       "      <td>S</td>\n",
       "    </tr>\n",
       "  </tbody>\n",
       "</table>\n",
       "<p>8693 rows × 13 columns</p>\n",
       "</div>"
      ],
      "text/plain": [
       "     HomePlanet  CryoSleep    Destination   Age    VIP  RoomService  \\\n",
       "0        Europa      False    TRAPPIST-1e  39.0  False          0.0   \n",
       "1         Earth      False    TRAPPIST-1e  24.0  False        109.0   \n",
       "2        Europa      False    TRAPPIST-1e  58.0   True         43.0   \n",
       "3        Europa      False    TRAPPIST-1e  33.0  False          0.0   \n",
       "4         Earth      False    TRAPPIST-1e  16.0  False        303.0   \n",
       "...         ...        ...            ...   ...    ...          ...   \n",
       "8688     Europa      False    55 Cancri e  41.0   True          0.0   \n",
       "8689      Earth       True  PSO J318.5-22  18.0  False          0.0   \n",
       "8690      Earth      False    TRAPPIST-1e  26.0  False          0.0   \n",
       "8691     Europa      False    55 Cancri e  32.0  False          0.0   \n",
       "8692     Europa      False    TRAPPIST-1e  44.0  False        126.0   \n",
       "\n",
       "      FoodCourt  ShoppingMall     Spa  VRDeck Deck  Cabin_num Side  \n",
       "0           0.0           0.0     0.0     0.0    B        0.0    P  \n",
       "1           9.0          25.0   549.0    44.0    F        0.0    S  \n",
       "2        3576.0           0.0  6715.0    49.0    A        0.0    S  \n",
       "3        1283.0         371.0  3329.0   193.0    A        0.0    S  \n",
       "4          70.0         151.0   565.0     2.0    F        1.0    S  \n",
       "...         ...           ...     ...     ...  ...        ...  ...  \n",
       "8688     6819.0           0.0  1643.0    74.0    A       98.0    P  \n",
       "8689        0.0           0.0     0.0     0.0    G     1499.0    S  \n",
       "8690        0.0        1872.0     1.0     0.0    G     1500.0    S  \n",
       "8691     1049.0           0.0   353.0  3235.0    E      608.0    S  \n",
       "8692     4688.0           0.0     0.0    12.0    E      608.0    S  \n",
       "\n",
       "[8693 rows x 13 columns]"
      ]
     },
     "metadata": {},
     "output_type": "display_data"
    },
    {
     "data": {
      "text/html": [
       "<div>\n",
       "<style scoped>\n",
       "    .dataframe tbody tr th:only-of-type {\n",
       "        vertical-align: middle;\n",
       "    }\n",
       "\n",
       "    .dataframe tbody tr th {\n",
       "        vertical-align: top;\n",
       "    }\n",
       "\n",
       "    .dataframe thead th {\n",
       "        text-align: right;\n",
       "    }\n",
       "</style>\n",
       "<table border=\"1\" class=\"dataframe\">\n",
       "  <thead>\n",
       "    <tr style=\"text-align: right;\">\n",
       "      <th></th>\n",
       "      <th>HomePlanet</th>\n",
       "      <th>CryoSleep</th>\n",
       "      <th>Destination</th>\n",
       "      <th>Age</th>\n",
       "      <th>VIP</th>\n",
       "      <th>RoomService</th>\n",
       "      <th>FoodCourt</th>\n",
       "      <th>ShoppingMall</th>\n",
       "      <th>Spa</th>\n",
       "      <th>VRDeck</th>\n",
       "      <th>...</th>\n",
       "      <th>VIP_is_null</th>\n",
       "      <th>RoomService_is_null</th>\n",
       "      <th>FoodCourt_is_null</th>\n",
       "      <th>ShoppingMall_is_null</th>\n",
       "      <th>Spa_is_null</th>\n",
       "      <th>VRDeck_is_null</th>\n",
       "      <th>Transported_is_null</th>\n",
       "      <th>Deck_is_null</th>\n",
       "      <th>Cabin_num_is_null</th>\n",
       "      <th>Side_is_null</th>\n",
       "    </tr>\n",
       "  </thead>\n",
       "  <tbody>\n",
       "    <tr>\n",
       "      <th>0</th>\n",
       "      <td>Europa</td>\n",
       "      <td>False</td>\n",
       "      <td>TRAPPIST-1e</td>\n",
       "      <td>39.0</td>\n",
       "      <td>False</td>\n",
       "      <td>0.0</td>\n",
       "      <td>0.0</td>\n",
       "      <td>0.0</td>\n",
       "      <td>0.0</td>\n",
       "      <td>0.0</td>\n",
       "      <td>...</td>\n",
       "      <td>0</td>\n",
       "      <td>0</td>\n",
       "      <td>0</td>\n",
       "      <td>0</td>\n",
       "      <td>0</td>\n",
       "      <td>0</td>\n",
       "      <td>0</td>\n",
       "      <td>0</td>\n",
       "      <td>0</td>\n",
       "      <td>0</td>\n",
       "    </tr>\n",
       "    <tr>\n",
       "      <th>1</th>\n",
       "      <td>Earth</td>\n",
       "      <td>False</td>\n",
       "      <td>TRAPPIST-1e</td>\n",
       "      <td>24.0</td>\n",
       "      <td>False</td>\n",
       "      <td>109.0</td>\n",
       "      <td>9.0</td>\n",
       "      <td>25.0</td>\n",
       "      <td>549.0</td>\n",
       "      <td>44.0</td>\n",
       "      <td>...</td>\n",
       "      <td>0</td>\n",
       "      <td>0</td>\n",
       "      <td>0</td>\n",
       "      <td>0</td>\n",
       "      <td>0</td>\n",
       "      <td>0</td>\n",
       "      <td>0</td>\n",
       "      <td>0</td>\n",
       "      <td>0</td>\n",
       "      <td>0</td>\n",
       "    </tr>\n",
       "    <tr>\n",
       "      <th>2</th>\n",
       "      <td>Europa</td>\n",
       "      <td>False</td>\n",
       "      <td>TRAPPIST-1e</td>\n",
       "      <td>58.0</td>\n",
       "      <td>True</td>\n",
       "      <td>43.0</td>\n",
       "      <td>3576.0</td>\n",
       "      <td>0.0</td>\n",
       "      <td>6715.0</td>\n",
       "      <td>49.0</td>\n",
       "      <td>...</td>\n",
       "      <td>0</td>\n",
       "      <td>0</td>\n",
       "      <td>0</td>\n",
       "      <td>0</td>\n",
       "      <td>0</td>\n",
       "      <td>0</td>\n",
       "      <td>0</td>\n",
       "      <td>0</td>\n",
       "      <td>0</td>\n",
       "      <td>0</td>\n",
       "    </tr>\n",
       "    <tr>\n",
       "      <th>3</th>\n",
       "      <td>Europa</td>\n",
       "      <td>False</td>\n",
       "      <td>TRAPPIST-1e</td>\n",
       "      <td>33.0</td>\n",
       "      <td>False</td>\n",
       "      <td>0.0</td>\n",
       "      <td>1283.0</td>\n",
       "      <td>371.0</td>\n",
       "      <td>3329.0</td>\n",
       "      <td>193.0</td>\n",
       "      <td>...</td>\n",
       "      <td>0</td>\n",
       "      <td>0</td>\n",
       "      <td>0</td>\n",
       "      <td>0</td>\n",
       "      <td>0</td>\n",
       "      <td>0</td>\n",
       "      <td>0</td>\n",
       "      <td>0</td>\n",
       "      <td>0</td>\n",
       "      <td>0</td>\n",
       "    </tr>\n",
       "    <tr>\n",
       "      <th>4</th>\n",
       "      <td>Earth</td>\n",
       "      <td>False</td>\n",
       "      <td>TRAPPIST-1e</td>\n",
       "      <td>16.0</td>\n",
       "      <td>False</td>\n",
       "      <td>303.0</td>\n",
       "      <td>70.0</td>\n",
       "      <td>151.0</td>\n",
       "      <td>565.0</td>\n",
       "      <td>2.0</td>\n",
       "      <td>...</td>\n",
       "      <td>0</td>\n",
       "      <td>0</td>\n",
       "      <td>0</td>\n",
       "      <td>0</td>\n",
       "      <td>0</td>\n",
       "      <td>0</td>\n",
       "      <td>0</td>\n",
       "      <td>0</td>\n",
       "      <td>0</td>\n",
       "      <td>0</td>\n",
       "    </tr>\n",
       "    <tr>\n",
       "      <th>...</th>\n",
       "      <td>...</td>\n",
       "      <td>...</td>\n",
       "      <td>...</td>\n",
       "      <td>...</td>\n",
       "      <td>...</td>\n",
       "      <td>...</td>\n",
       "      <td>...</td>\n",
       "      <td>...</td>\n",
       "      <td>...</td>\n",
       "      <td>...</td>\n",
       "      <td>...</td>\n",
       "      <td>...</td>\n",
       "      <td>...</td>\n",
       "      <td>...</td>\n",
       "      <td>...</td>\n",
       "      <td>...</td>\n",
       "      <td>...</td>\n",
       "      <td>...</td>\n",
       "      <td>...</td>\n",
       "      <td>...</td>\n",
       "      <td>...</td>\n",
       "    </tr>\n",
       "    <tr>\n",
       "      <th>8688</th>\n",
       "      <td>Europa</td>\n",
       "      <td>False</td>\n",
       "      <td>55 Cancri e</td>\n",
       "      <td>41.0</td>\n",
       "      <td>True</td>\n",
       "      <td>0.0</td>\n",
       "      <td>6819.0</td>\n",
       "      <td>0.0</td>\n",
       "      <td>1643.0</td>\n",
       "      <td>74.0</td>\n",
       "      <td>...</td>\n",
       "      <td>0</td>\n",
       "      <td>0</td>\n",
       "      <td>0</td>\n",
       "      <td>0</td>\n",
       "      <td>0</td>\n",
       "      <td>0</td>\n",
       "      <td>0</td>\n",
       "      <td>0</td>\n",
       "      <td>0</td>\n",
       "      <td>0</td>\n",
       "    </tr>\n",
       "    <tr>\n",
       "      <th>8689</th>\n",
       "      <td>Earth</td>\n",
       "      <td>True</td>\n",
       "      <td>PSO J318.5-22</td>\n",
       "      <td>18.0</td>\n",
       "      <td>False</td>\n",
       "      <td>0.0</td>\n",
       "      <td>0.0</td>\n",
       "      <td>0.0</td>\n",
       "      <td>0.0</td>\n",
       "      <td>0.0</td>\n",
       "      <td>...</td>\n",
       "      <td>0</td>\n",
       "      <td>0</td>\n",
       "      <td>0</td>\n",
       "      <td>0</td>\n",
       "      <td>0</td>\n",
       "      <td>0</td>\n",
       "      <td>0</td>\n",
       "      <td>0</td>\n",
       "      <td>0</td>\n",
       "      <td>0</td>\n",
       "    </tr>\n",
       "    <tr>\n",
       "      <th>8690</th>\n",
       "      <td>Earth</td>\n",
       "      <td>False</td>\n",
       "      <td>TRAPPIST-1e</td>\n",
       "      <td>26.0</td>\n",
       "      <td>False</td>\n",
       "      <td>0.0</td>\n",
       "      <td>0.0</td>\n",
       "      <td>1872.0</td>\n",
       "      <td>1.0</td>\n",
       "      <td>0.0</td>\n",
       "      <td>...</td>\n",
       "      <td>0</td>\n",
       "      <td>0</td>\n",
       "      <td>0</td>\n",
       "      <td>0</td>\n",
       "      <td>0</td>\n",
       "      <td>0</td>\n",
       "      <td>0</td>\n",
       "      <td>0</td>\n",
       "      <td>0</td>\n",
       "      <td>0</td>\n",
       "    </tr>\n",
       "    <tr>\n",
       "      <th>8691</th>\n",
       "      <td>Europa</td>\n",
       "      <td>False</td>\n",
       "      <td>55 Cancri e</td>\n",
       "      <td>32.0</td>\n",
       "      <td>False</td>\n",
       "      <td>0.0</td>\n",
       "      <td>1049.0</td>\n",
       "      <td>0.0</td>\n",
       "      <td>353.0</td>\n",
       "      <td>3235.0</td>\n",
       "      <td>...</td>\n",
       "      <td>0</td>\n",
       "      <td>0</td>\n",
       "      <td>0</td>\n",
       "      <td>0</td>\n",
       "      <td>0</td>\n",
       "      <td>0</td>\n",
       "      <td>0</td>\n",
       "      <td>0</td>\n",
       "      <td>0</td>\n",
       "      <td>0</td>\n",
       "    </tr>\n",
       "    <tr>\n",
       "      <th>8692</th>\n",
       "      <td>Europa</td>\n",
       "      <td>False</td>\n",
       "      <td>TRAPPIST-1e</td>\n",
       "      <td>44.0</td>\n",
       "      <td>False</td>\n",
       "      <td>126.0</td>\n",
       "      <td>4688.0</td>\n",
       "      <td>0.0</td>\n",
       "      <td>0.0</td>\n",
       "      <td>12.0</td>\n",
       "      <td>...</td>\n",
       "      <td>0</td>\n",
       "      <td>0</td>\n",
       "      <td>0</td>\n",
       "      <td>0</td>\n",
       "      <td>0</td>\n",
       "      <td>0</td>\n",
       "      <td>0</td>\n",
       "      <td>0</td>\n",
       "      <td>0</td>\n",
       "      <td>0</td>\n",
       "    </tr>\n",
       "  </tbody>\n",
       "</table>\n",
       "<p>8693 rows × 27 columns</p>\n",
       "</div>"
      ],
      "text/plain": [
       "     HomePlanet  CryoSleep    Destination   Age    VIP  RoomService  \\\n",
       "0        Europa      False    TRAPPIST-1e  39.0  False          0.0   \n",
       "1         Earth      False    TRAPPIST-1e  24.0  False        109.0   \n",
       "2        Europa      False    TRAPPIST-1e  58.0   True         43.0   \n",
       "3        Europa      False    TRAPPIST-1e  33.0  False          0.0   \n",
       "4         Earth      False    TRAPPIST-1e  16.0  False        303.0   \n",
       "...         ...        ...            ...   ...    ...          ...   \n",
       "8688     Europa      False    55 Cancri e  41.0   True          0.0   \n",
       "8689      Earth       True  PSO J318.5-22  18.0  False          0.0   \n",
       "8690      Earth      False    TRAPPIST-1e  26.0  False          0.0   \n",
       "8691     Europa      False    55 Cancri e  32.0  False          0.0   \n",
       "8692     Europa      False    TRAPPIST-1e  44.0  False        126.0   \n",
       "\n",
       "      FoodCourt  ShoppingMall     Spa  VRDeck  ... VIP_is_null  \\\n",
       "0           0.0           0.0     0.0     0.0  ...           0   \n",
       "1           9.0          25.0   549.0    44.0  ...           0   \n",
       "2        3576.0           0.0  6715.0    49.0  ...           0   \n",
       "3        1283.0         371.0  3329.0   193.0  ...           0   \n",
       "4          70.0         151.0   565.0     2.0  ...           0   \n",
       "...         ...           ...     ...     ...  ...         ...   \n",
       "8688     6819.0           0.0  1643.0    74.0  ...           0   \n",
       "8689        0.0           0.0     0.0     0.0  ...           0   \n",
       "8690        0.0        1872.0     1.0     0.0  ...           0   \n",
       "8691     1049.0           0.0   353.0  3235.0  ...           0   \n",
       "8692     4688.0           0.0     0.0    12.0  ...           0   \n",
       "\n",
       "      RoomService_is_null FoodCourt_is_null  ShoppingMall_is_null  \\\n",
       "0                       0                 0                     0   \n",
       "1                       0                 0                     0   \n",
       "2                       0                 0                     0   \n",
       "3                       0                 0                     0   \n",
       "4                       0                 0                     0   \n",
       "...                   ...               ...                   ...   \n",
       "8688                    0                 0                     0   \n",
       "8689                    0                 0                     0   \n",
       "8690                    0                 0                     0   \n",
       "8691                    0                 0                     0   \n",
       "8692                    0                 0                     0   \n",
       "\n",
       "      Spa_is_null  VRDeck_is_null  Transported_is_null  Deck_is_null  \\\n",
       "0               0               0                    0             0   \n",
       "1               0               0                    0             0   \n",
       "2               0               0                    0             0   \n",
       "3               0               0                    0             0   \n",
       "4               0               0                    0             0   \n",
       "...           ...             ...                  ...           ...   \n",
       "8688            0               0                    0             0   \n",
       "8689            0               0                    0             0   \n",
       "8690            0               0                    0             0   \n",
       "8691            0               0                    0             0   \n",
       "8692            0               0                    0             0   \n",
       "\n",
       "      Cabin_num_is_null  Side_is_null  \n",
       "0                     0             0  \n",
       "1                     0             0  \n",
       "2                     0             0  \n",
       "3                     0             0  \n",
       "4                     0             0  \n",
       "...                 ...           ...  \n",
       "8688                  0             0  \n",
       "8689                  0             0  \n",
       "8690                  0             0  \n",
       "8691                  0             0  \n",
       "8692                  0             0  \n",
       "\n",
       "[8693 rows x 27 columns]"
      ]
     },
     "metadata": {},
     "output_type": "display_data"
    },
    {
     "data": {
      "text/html": [
       "<div>\n",
       "<style scoped>\n",
       "    .dataframe tbody tr th:only-of-type {\n",
       "        vertical-align: middle;\n",
       "    }\n",
       "\n",
       "    .dataframe tbody tr th {\n",
       "        vertical-align: top;\n",
       "    }\n",
       "\n",
       "    .dataframe thead th {\n",
       "        text-align: right;\n",
       "    }\n",
       "</style>\n",
       "<table border=\"1\" class=\"dataframe\">\n",
       "  <thead>\n",
       "    <tr style=\"text-align: right;\">\n",
       "      <th></th>\n",
       "      <th>CryoSleep</th>\n",
       "      <th>Age</th>\n",
       "      <th>RoomService</th>\n",
       "      <th>FoodCourt</th>\n",
       "      <th>ShoppingMall</th>\n",
       "      <th>Spa</th>\n",
       "      <th>VRDeck</th>\n",
       "      <th>Cabin_num</th>\n",
       "      <th>HomePlanet_is_null</th>\n",
       "      <th>CryoSleep_is_null</th>\n",
       "      <th>...</th>\n",
       "      <th>Deck_B</th>\n",
       "      <th>Deck_C</th>\n",
       "      <th>Deck_D</th>\n",
       "      <th>Deck_E</th>\n",
       "      <th>Deck_F</th>\n",
       "      <th>Deck_G</th>\n",
       "      <th>Deck_T</th>\n",
       "      <th>Deck_nan</th>\n",
       "      <th>Side_S</th>\n",
       "      <th>Side_nan</th>\n",
       "    </tr>\n",
       "  </thead>\n",
       "  <tbody>\n",
       "    <tr>\n",
       "      <th>0</th>\n",
       "      <td>False</td>\n",
       "      <td>39.0</td>\n",
       "      <td>0.0</td>\n",
       "      <td>0.0</td>\n",
       "      <td>0.0</td>\n",
       "      <td>0.0</td>\n",
       "      <td>0.0</td>\n",
       "      <td>0.0</td>\n",
       "      <td>0</td>\n",
       "      <td>0</td>\n",
       "      <td>...</td>\n",
       "      <td>1.0</td>\n",
       "      <td>0.0</td>\n",
       "      <td>0.0</td>\n",
       "      <td>0.0</td>\n",
       "      <td>0.0</td>\n",
       "      <td>0.0</td>\n",
       "      <td>0.0</td>\n",
       "      <td>0.0</td>\n",
       "      <td>0.0</td>\n",
       "      <td>0.0</td>\n",
       "    </tr>\n",
       "    <tr>\n",
       "      <th>1</th>\n",
       "      <td>False</td>\n",
       "      <td>24.0</td>\n",
       "      <td>109.0</td>\n",
       "      <td>9.0</td>\n",
       "      <td>25.0</td>\n",
       "      <td>549.0</td>\n",
       "      <td>44.0</td>\n",
       "      <td>0.0</td>\n",
       "      <td>0</td>\n",
       "      <td>0</td>\n",
       "      <td>...</td>\n",
       "      <td>0.0</td>\n",
       "      <td>0.0</td>\n",
       "      <td>0.0</td>\n",
       "      <td>0.0</td>\n",
       "      <td>1.0</td>\n",
       "      <td>0.0</td>\n",
       "      <td>0.0</td>\n",
       "      <td>0.0</td>\n",
       "      <td>1.0</td>\n",
       "      <td>0.0</td>\n",
       "    </tr>\n",
       "    <tr>\n",
       "      <th>2</th>\n",
       "      <td>False</td>\n",
       "      <td>58.0</td>\n",
       "      <td>43.0</td>\n",
       "      <td>3576.0</td>\n",
       "      <td>0.0</td>\n",
       "      <td>6715.0</td>\n",
       "      <td>49.0</td>\n",
       "      <td>0.0</td>\n",
       "      <td>0</td>\n",
       "      <td>0</td>\n",
       "      <td>...</td>\n",
       "      <td>0.0</td>\n",
       "      <td>0.0</td>\n",
       "      <td>0.0</td>\n",
       "      <td>0.0</td>\n",
       "      <td>0.0</td>\n",
       "      <td>0.0</td>\n",
       "      <td>0.0</td>\n",
       "      <td>0.0</td>\n",
       "      <td>1.0</td>\n",
       "      <td>0.0</td>\n",
       "    </tr>\n",
       "    <tr>\n",
       "      <th>3</th>\n",
       "      <td>False</td>\n",
       "      <td>33.0</td>\n",
       "      <td>0.0</td>\n",
       "      <td>1283.0</td>\n",
       "      <td>371.0</td>\n",
       "      <td>3329.0</td>\n",
       "      <td>193.0</td>\n",
       "      <td>0.0</td>\n",
       "      <td>0</td>\n",
       "      <td>0</td>\n",
       "      <td>...</td>\n",
       "      <td>0.0</td>\n",
       "      <td>0.0</td>\n",
       "      <td>0.0</td>\n",
       "      <td>0.0</td>\n",
       "      <td>0.0</td>\n",
       "      <td>0.0</td>\n",
       "      <td>0.0</td>\n",
       "      <td>0.0</td>\n",
       "      <td>1.0</td>\n",
       "      <td>0.0</td>\n",
       "    </tr>\n",
       "    <tr>\n",
       "      <th>4</th>\n",
       "      <td>False</td>\n",
       "      <td>16.0</td>\n",
       "      <td>303.0</td>\n",
       "      <td>70.0</td>\n",
       "      <td>151.0</td>\n",
       "      <td>565.0</td>\n",
       "      <td>2.0</td>\n",
       "      <td>1.0</td>\n",
       "      <td>0</td>\n",
       "      <td>0</td>\n",
       "      <td>...</td>\n",
       "      <td>0.0</td>\n",
       "      <td>0.0</td>\n",
       "      <td>0.0</td>\n",
       "      <td>0.0</td>\n",
       "      <td>1.0</td>\n",
       "      <td>0.0</td>\n",
       "      <td>0.0</td>\n",
       "      <td>0.0</td>\n",
       "      <td>1.0</td>\n",
       "      <td>0.0</td>\n",
       "    </tr>\n",
       "    <tr>\n",
       "      <th>...</th>\n",
       "      <td>...</td>\n",
       "      <td>...</td>\n",
       "      <td>...</td>\n",
       "      <td>...</td>\n",
       "      <td>...</td>\n",
       "      <td>...</td>\n",
       "      <td>...</td>\n",
       "      <td>...</td>\n",
       "      <td>...</td>\n",
       "      <td>...</td>\n",
       "      <td>...</td>\n",
       "      <td>...</td>\n",
       "      <td>...</td>\n",
       "      <td>...</td>\n",
       "      <td>...</td>\n",
       "      <td>...</td>\n",
       "      <td>...</td>\n",
       "      <td>...</td>\n",
       "      <td>...</td>\n",
       "      <td>...</td>\n",
       "      <td>...</td>\n",
       "    </tr>\n",
       "    <tr>\n",
       "      <th>8688</th>\n",
       "      <td>False</td>\n",
       "      <td>41.0</td>\n",
       "      <td>0.0</td>\n",
       "      <td>6819.0</td>\n",
       "      <td>0.0</td>\n",
       "      <td>1643.0</td>\n",
       "      <td>74.0</td>\n",
       "      <td>98.0</td>\n",
       "      <td>0</td>\n",
       "      <td>0</td>\n",
       "      <td>...</td>\n",
       "      <td>0.0</td>\n",
       "      <td>0.0</td>\n",
       "      <td>0.0</td>\n",
       "      <td>0.0</td>\n",
       "      <td>0.0</td>\n",
       "      <td>0.0</td>\n",
       "      <td>0.0</td>\n",
       "      <td>0.0</td>\n",
       "      <td>0.0</td>\n",
       "      <td>0.0</td>\n",
       "    </tr>\n",
       "    <tr>\n",
       "      <th>8689</th>\n",
       "      <td>True</td>\n",
       "      <td>18.0</td>\n",
       "      <td>0.0</td>\n",
       "      <td>0.0</td>\n",
       "      <td>0.0</td>\n",
       "      <td>0.0</td>\n",
       "      <td>0.0</td>\n",
       "      <td>1499.0</td>\n",
       "      <td>0</td>\n",
       "      <td>0</td>\n",
       "      <td>...</td>\n",
       "      <td>0.0</td>\n",
       "      <td>0.0</td>\n",
       "      <td>0.0</td>\n",
       "      <td>0.0</td>\n",
       "      <td>0.0</td>\n",
       "      <td>1.0</td>\n",
       "      <td>0.0</td>\n",
       "      <td>0.0</td>\n",
       "      <td>1.0</td>\n",
       "      <td>0.0</td>\n",
       "    </tr>\n",
       "    <tr>\n",
       "      <th>8690</th>\n",
       "      <td>False</td>\n",
       "      <td>26.0</td>\n",
       "      <td>0.0</td>\n",
       "      <td>0.0</td>\n",
       "      <td>1872.0</td>\n",
       "      <td>1.0</td>\n",
       "      <td>0.0</td>\n",
       "      <td>1500.0</td>\n",
       "      <td>0</td>\n",
       "      <td>0</td>\n",
       "      <td>...</td>\n",
       "      <td>0.0</td>\n",
       "      <td>0.0</td>\n",
       "      <td>0.0</td>\n",
       "      <td>0.0</td>\n",
       "      <td>0.0</td>\n",
       "      <td>1.0</td>\n",
       "      <td>0.0</td>\n",
       "      <td>0.0</td>\n",
       "      <td>1.0</td>\n",
       "      <td>0.0</td>\n",
       "    </tr>\n",
       "    <tr>\n",
       "      <th>8691</th>\n",
       "      <td>False</td>\n",
       "      <td>32.0</td>\n",
       "      <td>0.0</td>\n",
       "      <td>1049.0</td>\n",
       "      <td>0.0</td>\n",
       "      <td>353.0</td>\n",
       "      <td>3235.0</td>\n",
       "      <td>608.0</td>\n",
       "      <td>0</td>\n",
       "      <td>0</td>\n",
       "      <td>...</td>\n",
       "      <td>0.0</td>\n",
       "      <td>0.0</td>\n",
       "      <td>0.0</td>\n",
       "      <td>1.0</td>\n",
       "      <td>0.0</td>\n",
       "      <td>0.0</td>\n",
       "      <td>0.0</td>\n",
       "      <td>0.0</td>\n",
       "      <td>1.0</td>\n",
       "      <td>0.0</td>\n",
       "    </tr>\n",
       "    <tr>\n",
       "      <th>8692</th>\n",
       "      <td>False</td>\n",
       "      <td>44.0</td>\n",
       "      <td>126.0</td>\n",
       "      <td>4688.0</td>\n",
       "      <td>0.0</td>\n",
       "      <td>0.0</td>\n",
       "      <td>12.0</td>\n",
       "      <td>608.0</td>\n",
       "      <td>0</td>\n",
       "      <td>0</td>\n",
       "      <td>...</td>\n",
       "      <td>0.0</td>\n",
       "      <td>0.0</td>\n",
       "      <td>0.0</td>\n",
       "      <td>1.0</td>\n",
       "      <td>0.0</td>\n",
       "      <td>0.0</td>\n",
       "      <td>0.0</td>\n",
       "      <td>0.0</td>\n",
       "      <td>1.0</td>\n",
       "      <td>0.0</td>\n",
       "    </tr>\n",
       "  </tbody>\n",
       "</table>\n",
       "<p>8693 rows × 37 columns</p>\n",
       "</div>"
      ],
      "text/plain": [
       "      CryoSleep   Age  RoomService  FoodCourt  ShoppingMall     Spa  VRDeck  \\\n",
       "0         False  39.0          0.0        0.0           0.0     0.0     0.0   \n",
       "1         False  24.0        109.0        9.0          25.0   549.0    44.0   \n",
       "2         False  58.0         43.0     3576.0           0.0  6715.0    49.0   \n",
       "3         False  33.0          0.0     1283.0         371.0  3329.0   193.0   \n",
       "4         False  16.0        303.0       70.0         151.0   565.0     2.0   \n",
       "...         ...   ...          ...        ...           ...     ...     ...   \n",
       "8688      False  41.0          0.0     6819.0           0.0  1643.0    74.0   \n",
       "8689       True  18.0          0.0        0.0           0.0     0.0     0.0   \n",
       "8690      False  26.0          0.0        0.0        1872.0     1.0     0.0   \n",
       "8691      False  32.0          0.0     1049.0           0.0   353.0  3235.0   \n",
       "8692      False  44.0        126.0     4688.0           0.0     0.0    12.0   \n",
       "\n",
       "      Cabin_num  HomePlanet_is_null  CryoSleep_is_null  ...  Deck_B  Deck_C  \\\n",
       "0           0.0                   0                  0  ...     1.0     0.0   \n",
       "1           0.0                   0                  0  ...     0.0     0.0   \n",
       "2           0.0                   0                  0  ...     0.0     0.0   \n",
       "3           0.0                   0                  0  ...     0.0     0.0   \n",
       "4           1.0                   0                  0  ...     0.0     0.0   \n",
       "...         ...                 ...                ...  ...     ...     ...   \n",
       "8688       98.0                   0                  0  ...     0.0     0.0   \n",
       "8689     1499.0                   0                  0  ...     0.0     0.0   \n",
       "8690     1500.0                   0                  0  ...     0.0     0.0   \n",
       "8691      608.0                   0                  0  ...     0.0     0.0   \n",
       "8692      608.0                   0                  0  ...     0.0     0.0   \n",
       "\n",
       "      Deck_D  Deck_E  Deck_F  Deck_G  Deck_T  Deck_nan  Side_S  Side_nan  \n",
       "0        0.0     0.0     0.0     0.0     0.0       0.0     0.0       0.0  \n",
       "1        0.0     0.0     1.0     0.0     0.0       0.0     1.0       0.0  \n",
       "2        0.0     0.0     0.0     0.0     0.0       0.0     1.0       0.0  \n",
       "3        0.0     0.0     0.0     0.0     0.0       0.0     1.0       0.0  \n",
       "4        0.0     0.0     1.0     0.0     0.0       0.0     1.0       0.0  \n",
       "...      ...     ...     ...     ...     ...       ...     ...       ...  \n",
       "8688     0.0     0.0     0.0     0.0     0.0       0.0     0.0       0.0  \n",
       "8689     0.0     0.0     0.0     1.0     0.0       0.0     1.0       0.0  \n",
       "8690     0.0     0.0     0.0     1.0     0.0       0.0     1.0       0.0  \n",
       "8691     0.0     1.0     0.0     0.0     0.0       0.0     1.0       0.0  \n",
       "8692     0.0     1.0     0.0     0.0     0.0       0.0     1.0       0.0  \n",
       "\n",
       "[8693 rows x 37 columns]"
      ]
     },
     "metadata": {},
     "output_type": "display_data"
    }
   ],
   "source": [
    "display(X_before_missing)\n",
    "display(X_before_encoding)\n",
    "display(X)"
   ]
  },
  {
   "cell_type": "markdown",
   "metadata": {},
   "source": [
    "# Uruchomienie algorytmów Random Forest [1], Histogram-based Gradient Boosting [2], XGBoost [3], LightGBM[4], CatBoost[5] bez szukania hiperparametrów, ale z walidacją krzyżową. Porównanie rezultatów."
   ]
  },
  {
   "cell_type": "code",
   "execution_count": 24,
   "metadata": {},
   "outputs": [],
   "source": [
    "def show_results(results):\n",
    "    print(f\"Mean test score: {results[\"test_f1\"].mean():.4f} +/- {results[\"test_f1\"].std():.4f}\")\n",
    "    print(f\"Mean train score: {results[\"train_f1\"].mean():.4f} +/- {results[\"train_f1\"].std():.4f}\")\n",
    "    print(f\"Mean fit time: {results[\"fit_time\"].mean():.4f} +/- {results[\"fit_time\"].std():.4f} seconds\")\n",
    "    print(f\"Mean score time: {results[\"score_time\"].mean():.4f} +/- {results[\"score_time\"].std():.4f} seconds\")"
   ]
  },
  {
   "cell_type": "markdown",
   "metadata": {},
   "source": [
    "## Random Forest\n",
    "- Ogólnie zbiór drzew decyzyjnych. \n",
    "- Wprowadzona losować przeciwdziała nadmiernemu dopasowaniu.\n",
    "- Każde drzewo jest trenowane na innym podzbiorze danych. (nieskorealowane jest ważne) bootstraping\n",
    "- Klasyfikacja odbywa się przez głosowanie większościowe."
   ]
  },
  {
   "cell_type": "code",
   "execution_count": 25,
   "metadata": {},
   "outputs": [
    {
     "name": "stdout",
     "output_type": "stream",
     "text": [
      "Mean test score: 0.7938 +/- 0.0122\n",
      "Mean train score: 0.9996 +/- 0.0001\n",
      "Mean fit time: 1.6794 +/- 0.3286 seconds\n",
      "Mean score time: 0.0517 +/- 0.0096 seconds\n"
     ]
    }
   ],
   "source": [
    "\n",
    "\n",
    "rfc = RandomForestClassifier(random_state=42)\n",
    "\n",
    "\n",
    "scoring = [\"f1\"]\n",
    "rfc_results = cross_validate(\n",
    "    rfc,\n",
    "    X,\n",
    "    y,\n",
    "    scoring=scoring,\n",
    "    cv=skf,\n",
    "    return_train_score=True,\n",
    ")\n",
    "\n",
    "show_results(rfc_results)"
   ]
  },
  {
   "cell_type": "markdown",
   "metadata": {},
   "source": [
    "- Random Forest nie przyjmuje brakujących danych, więc trzeba je uzupełnić. \n",
    "- Random Forest nie przyjmuje danych kategorialnych, więc trzeba je zakodować."
   ]
  },
  {
   "cell_type": "markdown",
   "metadata": {},
   "source": [
    "## Histogram-based Gradient Boosting"
   ]
  },
  {
   "cell_type": "markdown",
   "metadata": {},
   "source": [
    "- głosowanie większościowe\n",
    "- Wprowadza wczesne zatrzymywanie (early stopping) - zatrzymuje trenowanie, gdy nie ma poprawy - przeciwdziała niepotrzebnemu tworzeniu drzew. A do tego używa zbioru walidacyjnego.\n",
    "- buduje drzewa sekwencyjnie, gdzie każde kolejne drzewo próbuje skorygować błędy popełnione przez poprzednie. HGBT używa histogramów cech (tj. dyskretyzuje ciągłe cechy do skończonej liczby przedziałów)"
   ]
  },
  {
   "cell_type": "code",
   "execution_count": 26,
   "metadata": {},
   "outputs": [
    {
     "name": "stderr",
     "output_type": "stream",
     "text": [
      "c:\\Users\\filip\\AppData\\Local\\Programs\\Python\\Python312\\Lib\\site-packages\\sklearn\\experimental\\enable_hist_gradient_boosting.py:16: UserWarning: Since version 1.0, it is not needed to import enable_hist_gradient_boosting anymore. HistGradientBoostingClassifier and HistGradientBoostingRegressor are now stable and can be normally imported from sklearn.ensemble.\n",
      "  warnings.warn(\n",
      "c:\\Users\\filip\\AppData\\Local\\Programs\\Python\\Python312\\Lib\\site-packages\\joblib\\externals\\loky\\backend\\context.py:136: UserWarning: Could not find the number of physical cores for the following reason:\n",
      "found 0 physical cores < 1\n",
      "Returning the number of logical cores instead. You can silence this warning by setting LOKY_MAX_CPU_COUNT to the number of cores you want to use.\n",
      "  warnings.warn(\n",
      "  File \"c:\\Users\\filip\\AppData\\Local\\Programs\\Python\\Python312\\Lib\\site-packages\\joblib\\externals\\loky\\backend\\context.py\", line 282, in _count_physical_cores\n",
      "    raise ValueError(f\"found {cpu_count_physical} physical cores < 1\")\n"
     ]
    },
    {
     "name": "stdout",
     "output_type": "stream",
     "text": [
      "Mean test score: 0.8125 +/- 0.0072\n",
      "Mean train score: 0.8976 +/- 0.0019\n",
      "Mean fit time: 1.7949 +/- 0.3040 seconds\n",
      "Mean score time: 0.0472 +/- 0.0065 seconds\n"
     ]
    }
   ],
   "source": [
    "\n",
    "\n",
    "categorical_columns = [\"HomePlanet\", \"Destination\", \"Deck\", \"Side\"]\n",
    "\n",
    "hgbc = HistGradientBoostingClassifier(\n",
    "    random_state=42, categorical_features=categorical_columns\n",
    ")\n",
    "# perform cross validation\n",
    "scoring = [\"f1\"]\n",
    "hgbc_results = cross_validate(\n",
    "    hgbc,\n",
    "    X_before_missing,\n",
    "    y_before_missing,\n",
    "    scoring=scoring,\n",
    "    cv=skf,\n",
    "    return_train_score=True,\n",
    ")\n",
    "\n",
    "show_results(hgbc_results)"
   ]
  },
  {
   "cell_type": "markdown",
   "metadata": {},
   "source": [
    "- Histogram-based Gradient Boosting przyjmuje brakujące dane, więc nie trzeba ich uzupełniać.\n",
    "- Histogram-based Gradient Boosting przyjmuje dane kategorialne, więc nie trzeba ich kodować. - wystarczy przekazać kolumny kategorialne w parametrze `categorical_features`."
   ]
  },
  {
   "cell_type": "markdown",
   "metadata": {},
   "source": [
    "## XGBoost"
   ]
  },
  {
   "cell_type": "markdown",
   "metadata": {},
   "source": [
    "- ekstremanlnie szybki algorytm ;)\n",
    "- wbudowana regularyzacja L1 i L2 - przeciwdziała nadmiernemu dopasowaniu\n",
    "- wysoka wydajność, skalowalność i dokładność\n",
    "- Dobrze radzi sobie z niezbalansowanymi klasami"
   ]
  },
  {
   "cell_type": "code",
   "execution_count": 27,
   "metadata": {},
   "outputs": [
    {
     "name": "stdout",
     "output_type": "stream",
     "text": [
      "Mean test score: 0.8023 +/- 0.0104\n",
      "Mean train score: 0.9409 +/- 0.0034\n",
      "Mean fit time: 0.5275 +/- 0.0405 seconds\n",
      "Mean score time: 0.0359 +/- 0.0042 seconds\n"
     ]
    }
   ],
   "source": [
    "\n",
    "\n",
    "xgb = XGBClassifier(\n",
    "    random_state=42,\n",
    "    enable_categorical=True,\n",
    ")\n",
    "\n",
    "xgb_results = cross_validate(\n",
    "    xgb,\n",
    "    X_before_missing,\n",
    "    y_before_missing,\n",
    "    scoring=scoring,\n",
    "    cv=skf,\n",
    "    return_train_score=True,\n",
    ")\n",
    "\n",
    "show_results(xgb_results)"
   ]
  },
  {
   "cell_type": "markdown",
   "metadata": {},
   "source": [
    "- XGBoost przyjmue dane katoryczne, nie trzeba ich kodować\n",
    "- XGBoost przyjmuje brakujące dane"
   ]
  },
  {
   "cell_type": "markdown",
   "metadata": {},
   "source": [
    "## LightGBM"
   ]
  },
  {
   "cell_type": "markdown",
   "metadata": {},
   "source": [
    "- Wersja \"light\" XGBoost - mmniejsze zużycie pamięci, \n",
    "- szybsze trenowanie\n",
    "- idealny do \"dużych\" zbiorów danych\n",
    "- np. Techniki Gradient-Based One-Side Sampling (GOSS) - handle large datasets \n",
    "- np. techniki DART (Dropouts meet Multiple Additive Regression Trees)\n",
    "- Leaf-wise Tree Growth - Działa poprzez powiększenie węzła liścia z największym przyrostem podziału spośród wszystkich liści drzewa. Najlepsza funkcja i próg, które optymalizują funkcję celu, dzielą węzeł główny na dwa węzły podrzędne. Procedura jest następnie powtarzana do momentu osiągnięcia warunku zatrzymania (takiego jak maksymalna głębokość, maksymalna liczba liści lub minimalna poprawa) poprzez wybranie jednego z węzłów podrzędnych jako następnego liścia do podziału. Nawet przy użyciu planu rozwoju drzewa według liści, drzewo może nie być zrównoważone lub mieć liście o podobnej głębokości\n"
   ]
  },
  {
   "cell_type": "code",
   "execution_count": 28,
   "metadata": {},
   "outputs": [
    {
     "name": "stdout",
     "output_type": "stream",
     "text": [
      "[LightGBM] [Info] Number of positive: 3502, number of negative: 3452\n",
      "[LightGBM] [Info] Auto-choosing row-wise multi-threading, the overhead of testing was 0.001286 seconds.\n",
      "You can set `force_row_wise=true` to remove the overhead.\n",
      "And if memory is not enough, you can set `force_col_wise=true`.\n",
      "[LightGBM] [Info] Total Bins 1633\n",
      "[LightGBM] [Info] Number of data points in the train set: 6954, number of used features: 13\n",
      "[LightGBM] [Info] [binary:BoostFromScore]: pavg=0.503595 -> initscore=0.014380\n",
      "[LightGBM] [Info] Start training from score 0.014380\n",
      "[LightGBM] [Info] Number of positive: 3502, number of negative: 3452\n",
      "[LightGBM] [Info] Auto-choosing col-wise multi-threading, the overhead of testing was 0.001557 seconds.\n",
      "You can set `force_col_wise=true` to remove the overhead.\n",
      "[LightGBM] [Info] Total Bins 1633\n",
      "[LightGBM] [Info] Number of data points in the train set: 6954, number of used features: 13\n",
      "[LightGBM] [Info] [binary:BoostFromScore]: pavg=0.503595 -> initscore=0.014380\n",
      "[LightGBM] [Info] Start training from score 0.014380\n",
      "[LightGBM] [Info] Number of positive: 3502, number of negative: 3452\n",
      "[LightGBM] [Info] Auto-choosing row-wise multi-threading, the overhead of testing was 0.001148 seconds.\n",
      "You can set `force_row_wise=true` to remove the overhead.\n",
      "And if memory is not enough, you can set `force_col_wise=true`.\n",
      "[LightGBM] [Info] Total Bins 1632\n",
      "[LightGBM] [Info] Number of data points in the train set: 6954, number of used features: 13\n",
      "[LightGBM] [Info] [binary:BoostFromScore]: pavg=0.503595 -> initscore=0.014380\n",
      "[LightGBM] [Info] Start training from score 0.014380\n",
      "[LightGBM] [Info] Number of positive: 3503, number of negative: 3452\n",
      "[LightGBM] [Info] Auto-choosing row-wise multi-threading, the overhead of testing was 0.001186 seconds.\n",
      "You can set `force_row_wise=true` to remove the overhead.\n",
      "And if memory is not enough, you can set `force_col_wise=true`.\n",
      "[LightGBM] [Info] Total Bins 1634\n",
      "[LightGBM] [Info] Number of data points in the train set: 6955, number of used features: 13\n",
      "[LightGBM] [Info] [binary:BoostFromScore]: pavg=0.503666 -> initscore=0.014666\n",
      "[LightGBM] [Info] Start training from score 0.014666\n",
      "[LightGBM] [Info] Number of positive: 3503, number of negative: 3452\n",
      "[LightGBM] [Info] Auto-choosing row-wise multi-threading, the overhead of testing was 0.000796 seconds.\n",
      "You can set `force_row_wise=true` to remove the overhead.\n",
      "And if memory is not enough, you can set `force_col_wise=true`.\n",
      "[LightGBM] [Info] Total Bins 1633\n",
      "[LightGBM] [Info] Number of data points in the train set: 6955, number of used features: 13\n",
      "[LightGBM] [Info] [binary:BoostFromScore]: pavg=0.503666 -> initscore=0.014666\n",
      "[LightGBM] [Info] Start training from score 0.014666\n",
      "Mean test score: 0.8094 +/- 0.0050\n",
      "Mean train score: 0.8993 +/- 0.0011\n",
      "Mean fit time: 0.4117 +/- 0.0720 seconds\n",
      "Mean score time: 0.0262 +/- 0.0035 seconds\n"
     ]
    }
   ],
   "source": [
    "\n",
    "\n",
    "lgbm = lgb.LGBMClassifier(random_state=42)\n",
    "\n",
    "\n",
    "lgbm_results = cross_validate(\n",
    "    lgbm,\n",
    "    X_before_missing,\n",
    "    y_before_missing,\n",
    "    scoring=scoring,\n",
    "    cv=skf,\n",
    "    return_train_score=True,\n",
    ")\n",
    "\n",
    "show_results(lgbm_results)"
   ]
  },
  {
   "cell_type": "markdown",
   "metadata": {},
   "source": [
    "- LightGBM przyjmuje dane katoryczne, nie trzeba ich kodować\n",
    "- LightGBM przyjmuje brakujące dane"
   ]
  },
  {
   "cell_type": "markdown",
   "metadata": {},
   "source": [
    "## CatBoost (Categorical Boosting)"
   ]
  },
  {
   "cell_type": "markdown",
   "metadata": {},
   "source": [
    "- brak potrzeby kodowania danych kategorycznych - CatBoost sam to robi (one hot prowadzi do sparse matrix - które prowadzą do przeuczenia)\n",
    "- brakujące dane - symmetric weighted quantile sketch(SWQS)  (technika dzielenia)\n",
    "- automatyzczne skalowanie\n",
    "- Bardzo dobre wyniki\n",
    "- Długi treninig...\n",
    "- odporność na przeuczenie\n"
   ]
  },
  {
   "cell_type": "code",
   "execution_count": 29,
   "metadata": {},
   "outputs": [
    {
     "name": "stdout",
     "output_type": "stream",
     "text": [
      "Mean test score: 0.8162 +/- 0.0064\n",
      "Mean train score: 0.8652 +/- 0.0032\n",
      "Mean fit time: 50.6410 +/- 11.7851 seconds\n",
      "Mean score time: 0.0279 +/- 0.0111 seconds\n"
     ]
    }
   ],
   "source": [
    "\n",
    "\n",
    "X_before_missing[\"HomePlanet\"] = X_before_missing[\"HomePlanet\"].astype(str)\n",
    "X_before_missing[\"Destination\"] = X_before_missing[\"Destination\"].astype(str)\n",
    "X_before_missing[\"Deck\"] = X_before_missing[\"Deck\"].astype(str)\n",
    "X_before_missing[\"Side\"] = X_before_missing[\"Side\"].astype(str)\n",
    "\n",
    "cat = CatBoostClassifier(random_state=42, verbose=0, cat_features=categorical_columns)\n",
    "\n",
    "cat_results = cross_validate(\n",
    "    cat,\n",
    "    X_before_missing,\n",
    "    y_before_missing,\n",
    "    scoring=scoring,\n",
    "    cv=skf,\n",
    "    return_train_score=True,\n",
    ")\n",
    "\n",
    "show_results(cat_results)"
   ]
  },
  {
   "cell_type": "markdown",
   "metadata": {},
   "source": [
    "## Porównanie"
   ]
  },
  {
   "cell_type": "code",
   "execution_count": 30,
   "metadata": {},
   "outputs": [
    {
     "data": {
      "image/png": "[encoded data removed]",
      "text/plain": [
       "<Figure size 1000x500 with 1 Axes>"
      ]
     },
     "metadata": {},
     "output_type": "display_data"
    },
    {
     "data": {
      "image/png": "[encoded data removed]",
      "text/plain": [
       "<Figure size 1000x500 with 1 Axes>"
      ]
     },
     "metadata": {},
     "output_type": "display_data"
    }
   ],
   "source": [
    "models = [\"Random Forest\", \"HG Boosting\", \"XGBoost\", \"LightGBM\", \"CatBoost\"]\n",
    "\n",
    "mean_train_scores = [\n",
    "    rfc_results[\"train_f1\"].mean(),\n",
    "    hgbc_results[\"train_f1\"].mean(),\n",
    "    xgb_results[\"train_f1\"].mean(),\n",
    "    lgbm_results[\"train_f1\"].mean(),\n",
    "    cat_results[\"train_f1\"].mean(),\n",
    "]\n",
    "\n",
    "std_train_scores = [\n",
    "    rfc_results[\"train_f1\"].std(),\n",
    "    hgbc_results[\"train_f1\"].std(),\n",
    "    xgb_results[\"train_f1\"].std(),\n",
    "    lgbm_results[\"train_f1\"].std(),\n",
    "    cat_results[\"train_f1\"].std(),\n",
    "]\n",
    "\n",
    "mean_scores = [\n",
    "    rfc_results[\"test_f1\"].mean(),\n",
    "    hgbc_results[\"test_f1\"].mean(),\n",
    "    xgb_results[\"test_f1\"].mean(),\n",
    "    lgbm_results[\"test_f1\"].mean(),\n",
    "    cat_results[\"test_f1\"].mean(),\n",
    "]\n",
    "\n",
    "std_scores = [\n",
    "    rfc_results[\"test_f1\"].std(),\n",
    "    hgbc_results[\"test_f1\"].std(),\n",
    "    xgb_results[\"test_f1\"].std(),\n",
    "    lgbm_results[\"test_f1\"].std(),\n",
    "    cat_results[\"test_f1\"].std(),\n",
    "]\n",
    "\n",
    "fig, ax = plt.subplots(figsize=(10, 5))\n",
    "ax.bar(models, mean_train_scores, yerr=std_train_scores, capsize=5, color=\"b\", alpha=0.7, label=\"Train Score\")\n",
    "ax.bar(models, mean_scores, yerr=std_scores, capsize=5, color=\"r\", alpha=0.7, label=\"Test Score\")\n",
    "ax.set_xlabel(\"Models\")\n",
    "ax.set_ylabel(\"F1 Score\")\n",
    "plt.ylim(0.75, 1.0)\n",
    "ax.set_title(\"F1 Score for each model\")\n",
    "plt.legend()\n",
    "plt.show()\n",
    "\n",
    "models = [\"Random Forest\", \"HG Boosting\", \"XGBoost\", \"LightGBM\", \"CatBoost\"]\n",
    "\n",
    "mean_fit_time = [\n",
    "    rfc_results[\"fit_time\"].mean(),\n",
    "    hgbc_results[\"fit_time\"].mean(),\n",
    "    xgb_results[\"fit_time\"].mean(),\n",
    "    lgbm_results[\"fit_time\"].mean(),\n",
    "    cat_results[\"fit_time\"].mean(),\n",
    "]\n",
    "\n",
    "mean_score_time = [\n",
    "    rfc_results[\"score_time\"].mean(),\n",
    "    hgbc_results[\"score_time\"].mean(),\n",
    "    xgb_results[\"score_time\"].mean(),\n",
    "    lgbm_results[\"score_time\"].mean(),\n",
    "    cat_results[\"score_time\"].mean(),\n",
    "]\n",
    "\n",
    "fig, ax = plt.subplots(figsize=(10, 5))\n",
    "ax.bar(models, mean_fit_time, color=\"b\", alpha=0.7, label=\"Fit Time\", yerr=std_train_scores, capsize=5,)\n",
    "ax.bar(models, mean_score_time, color=\"r\", alpha=0.7, label=\"Score Time\", yerr=std_scores, capsize=5,)\n",
    "ax.set_xlabel(\"Models\")\n",
    "ax.set_ylabel(\"Time (seconds)\")\n",
    "ax.set_title(\"Time taken by each model\")\n",
    "plt.legend()\n",
    "plt.show()\n"
   ]
  },
  {
   "cell_type": "markdown",
   "metadata": {},
   "source": [
    "# Szukanie hiperparametrów za pomocą Optuny dla CatBoost'a\n",
    "## jak działa Optuna?\n",
    "- optuna jest biblioteką do automatycznego strojenia hiperparametrów\n",
    "- używa algorytmów optymalizacji bayesowskiej"
   ]
  },
  {
   "cell_type": "code",
   "execution_count": 31,
   "metadata": {},
   "outputs": [
    {
     "name": "stderr",
     "output_type": "stream",
     "text": [
      "c:\\Users\\filip\\AppData\\Local\\Programs\\Python\\Python312\\Lib\\site-packages\\tqdm\\auto.py:21: TqdmWarning: IProgress not found. Please update jupyter and ipywidgets. See https://ipywidgets.readthedocs.io/en/stable/user_install.html\n",
      "  from .autonotebook import tqdm as notebook_tqdm\n"
     ]
    }
   ],
   "source": [
    "warnings.filterwarnings(\"ignore\")"
   ]
  },
  {
   "cell_type": "markdown",
   "metadata": {},
   "source": [
    "## jakie parametry będziemy stroić?:\n",
    "- `learning_rate` - Określa \"szybkość uczenia się\" modelu. Niskie wartości wymagają większej liczby drzew (n_estimators) do trenowania modelu\n",
    "- `n_estimators` - Liczba drzew do zbudowania w ramach modelu. Większa liczba drzew może poprawić dokładność\n",
    "- `objective` - Funkcja celu, którą model stara się zoptymalizować.\n",
    "- `colsample_bylevel` - jaki procent kolumn wybieramy na każdym poziomie drzewa do budowania węzłów. \n",
    "- `depth` - Maksymalna głębokość drzew. Głębsze drzewa mogą lepiej dopasować się do danych, ale również zwiększają ryzyko przeuczenia.\n",
    "- `boosting_type` - typ boosting'u. Typ metody boosting. \"Ordered\" zapewnia lepszą dokładność na koszt większego czasu trenowania, podczas gdy \"Plain\" jest szybszy, ale może być mniej dokładny.\n",
    "- `bootstrap_type` - typ bootstrap'u. Metoda próbkowania używana do trenowania drzew. \"Bayesian\" i \"Bernoulli\" pozwalają na losowe próbkowanie danych z pewnymi strategiami, podczas gdy \"MVS\" jest metodą próbkowania opartą na minimalnej wariancji.\n",
    "- `bagging_temperature` - temperatura bagging'u. (dla \"Bayesian\"): Reguluje stopień losowości w próbkowaniu, gdzie wyższe wartości prowadzą do większej losowości.\n",
    "- `subsample` - (dla \"Bernoulli\") jaki procent danych używamy do trenowania, co może pomóc w zapobieganiu przeuczeniu."
   ]
  },
  {
   "cell_type": "code",
   "execution_count": 34,
   "metadata": {},
   "outputs": [],
   "source": [
    "def objective(trial: optuna.Trial) -> float:\n",
    "\n",
    "    param = {\n",
    "        \"learning_rate\": trial.suggest_float(\"learning_rate\", 1e-3, 1, log=True),\n",
    "        \"n_estimators\": trial.suggest_int(\"n_estimators\", 100, 1000),\n",
    "        \"objective\": trial.suggest_categorical(\n",
    "            \"objective\", [\"Logloss\", \"CrossEntropy\"]\n",
    "        ),\n",
    "        \"colsample_bylevel\": trial.suggest_float(\n",
    "            \"colsample_bylevel\", 0.01, 0.1, log=True\n",
    "        ),\n",
    "        \"depth\": trial.suggest_int(\"depth\", 1, 12),\n",
    "        \"boosting_type\": trial.suggest_categorical(\n",
    "            \"boosting_type\", [\"Ordered\", \"Plain\"]\n",
    "        ),\n",
    "        \"bootstrap_type\": trial.suggest_categorical(\n",
    "            \"bootstrap_type\", [\"Bayesian\", \"Bernoulli\", \"MVS\"]\n",
    "        ),\n",
    "        \"used_ram_limit\": \"3gb\",\n",
    "        \"eval_metric\": \"F1\",\n",
    "    }\n",
    "\n",
    "    if param[\"bootstrap_type\"] == \"Bayesian\":\n",
    "        param[\"bagging_temperature\"] = trial.suggest_float(\"bagging_temperature\", 0, 10)\n",
    "    elif param[\"bootstrap_type\"] == \"Bernoulli\":\n",
    "        param[\"subsample\"] = trial.suggest_float(\"subsample\", 0.1, 1, log=True)\n",
    "\n",
    "    fi_scores = []\n",
    "    skf = StratifiedKFold(n_splits=5, shuffle=True, random_state=42)\n",
    "\n",
    "    for train_index, valid_index in skf.split(X_before_missing, y_before_missing):\n",
    "        train_x, valid_x = X.iloc[train_index], X.iloc[valid_index]\n",
    "        train_y, valid_y = y.iloc[train_index], y.iloc[valid_index]\n",
    "\n",
    "        gbm = cb.CatBoostClassifier(**param)\n",
    "\n",
    "        # pruning_callback = CatBoostPruningCallback(trial, \"F1\")\n",
    "\n",
    "        gbm.fit(\n",
    "            train_x,\n",
    "            train_y,\n",
    "            verbose=0,\n",
    "            # callbacks=[pruning_callback],\n",
    "        )\n",
    "\n",
    "        # pruning_callback.check_pruned()\n",
    "\n",
    "        preds = gbm.predict(valid_x)\n",
    "        f1 = f1_score(valid_y, preds)\n",
    "\n",
    "        fi_scores.append(f1)\n",
    "\n",
    "    return np.mean(fi_scores)"
   ]
  },
  {
   "cell_type": "code",
   "execution_count": 35,
   "metadata": {},
   "outputs": [
    {
     "name": "stderr",
     "output_type": "stream",
     "text": [
      "[I 2024-06-12 11:10:04,919] A new study created in memory with name: no-name-0831b983-3f51-4e4b-bf5c-f5a1a9551e24\n",
      "[I 2024-06-12 11:10:54,711] Trial 0 finished with value: 0.7276248308437891 and parameters: {'learning_rate': 0.002076353848732037, 'n_estimators': 803, 'objective': 'CrossEntropy', 'colsample_bylevel': 0.02453297656303739, 'depth': 1, 'boosting_type': 'Ordered', 'bootstrap_type': 'Bayesian', 'bagging_temperature': 3.5363233442780073}. Best is trial 0 with value: 0.7276248308437891.\n",
      "[I 2024-06-12 11:11:18,526] Trial 1 finished with value: 0.7977268163153175 and parameters: {'learning_rate': 0.4379099216302617, 'n_estimators': 423, 'objective': 'CrossEntropy', 'colsample_bylevel': 0.011471000579654429, 'depth': 5, 'boosting_type': 'Ordered', 'bootstrap_type': 'Bayesian', 'bagging_temperature': 3.73281895258239}. Best is trial 1 with value: 0.7977268163153175.\n",
      "[I 2024-06-12 11:11:41,179] Trial 2 finished with value: 0.8056386389291366 and parameters: {'learning_rate': 0.41724204956832767, 'n_estimators': 365, 'objective': 'CrossEntropy', 'colsample_bylevel': 0.02826175849607238, 'depth': 9, 'boosting_type': 'Ordered', 'bootstrap_type': 'Bayesian', 'bagging_temperature': 4.357943734427502}. Best is trial 2 with value: 0.8056386389291366.\n",
      "[I 2024-06-12 11:11:52,693] Trial 3 finished with value: 0.730558601585154 and parameters: {'learning_rate': 0.005583866556433495, 'n_estimators': 717, 'objective': 'Logloss', 'colsample_bylevel': 0.012225394771158719, 'depth': 7, 'boosting_type': 'Plain', 'bootstrap_type': 'Bayesian', 'bagging_temperature': 4.805466500516622}. Best is trial 2 with value: 0.8056386389291366.\n",
      "[I 2024-06-12 11:11:54,807] Trial 4 finished with value: 0.7316018061236207 and parameters: {'learning_rate': 0.0052484834175615365, 'n_estimators': 119, 'objective': 'Logloss', 'colsample_bylevel': 0.020140962998511078, 'depth': 1, 'boosting_type': 'Plain', 'bootstrap_type': 'MVS'}. Best is trial 2 with value: 0.8056386389291366.\n",
      "[I 2024-06-12 11:12:40,802] Trial 5 finished with value: 0.7957360811456973 and parameters: {'learning_rate': 0.26900202162625325, 'n_estimators': 883, 'objective': 'CrossEntropy', 'colsample_bylevel': 0.02568182827742291, 'depth': 1, 'boosting_type': 'Ordered', 'bootstrap_type': 'Bayesian', 'bagging_temperature': 8.197865647827504}. Best is trial 2 with value: 0.8056386389291366.\n",
      "[I 2024-06-12 11:13:15,194] Trial 6 finished with value: 0.8019595654929603 and parameters: {'learning_rate': 0.08453276661370922, 'n_estimators': 596, 'objective': 'CrossEntropy', 'colsample_bylevel': 0.022455414190597895, 'depth': 11, 'boosting_type': 'Ordered', 'bootstrap_type': 'MVS'}. Best is trial 2 with value: 0.8056386389291366.\n",
      "[I 2024-06-12 11:13:40,467] Trial 7 finished with value: 0.7855163194315602 and parameters: {'learning_rate': 0.14328369914811298, 'n_estimators': 399, 'objective': 'CrossEntropy', 'colsample_bylevel': 0.01647286504814161, 'depth': 5, 'boosting_type': 'Ordered', 'bootstrap_type': 'MVS'}. Best is trial 2 with value: 0.8056386389291366.\n",
      "[I 2024-06-12 11:14:04,481] Trial 8 finished with value: 0.7384146883771896 and parameters: {'learning_rate': 0.001208651490338985, 'n_estimators': 435, 'objective': 'Logloss', 'colsample_bylevel': 0.012386011839831243, 'depth': 12, 'boosting_type': 'Ordered', 'bootstrap_type': 'Bernoulli', 'subsample': 0.22307552888579565}. Best is trial 2 with value: 0.8056386389291366.\n",
      "[I 2024-06-12 11:14:52,640] Trial 9 finished with value: 0.807751469859239 and parameters: {'learning_rate': 0.38017752384838194, 'n_estimators': 732, 'objective': 'Logloss', 'colsample_bylevel': 0.034048691060796915, 'depth': 4, 'boosting_type': 'Ordered', 'bootstrap_type': 'Bayesian', 'bagging_temperature': 2.862169613624138}. Best is trial 9 with value: 0.807751469859239.\n",
      "[I 2024-06-12 11:15:17,320] Trial 10 finished with value: 0.809131637793717 and parameters: {'learning_rate': 0.029701543389949552, 'n_estimators': 998, 'objective': 'Logloss', 'colsample_bylevel': 0.06345819766930745, 'depth': 4, 'boosting_type': 'Plain', 'bootstrap_type': 'Bernoulli', 'subsample': 0.8169792497026664}. Best is trial 10 with value: 0.809131637793717.\n",
      "[I 2024-06-12 11:15:38,861] Trial 11 finished with value: 0.8072661769075257 and parameters: {'learning_rate': 0.02544840623231765, 'n_estimators': 983, 'objective': 'Logloss', 'colsample_bylevel': 0.05745560325435642, 'depth': 3, 'boosting_type': 'Plain', 'bootstrap_type': 'Bernoulli', 'subsample': 0.899393389579332}. Best is trial 10 with value: 0.809131637793717.\n",
      "[I 2024-06-12 11:16:02,092] Trial 12 finished with value: 0.8066913542711699 and parameters: {'learning_rate': 0.026665723502558577, 'n_estimators': 967, 'objective': 'Logloss', 'colsample_bylevel': 0.0487545136479361, 'depth': 4, 'boosting_type': 'Plain', 'bootstrap_type': 'Bernoulli', 'subsample': 0.9722716124369021}. Best is trial 10 with value: 0.809131637793717.\n",
      "[I 2024-06-12 11:16:29,189] Trial 13 finished with value: 0.7843677996150902 and parameters: {'learning_rate': 0.9004603335174581, 'n_estimators': 696, 'objective': 'Logloss', 'colsample_bylevel': 0.09572001378065356, 'depth': 7, 'boosting_type': 'Plain', 'bootstrap_type': 'Bernoulli', 'subsample': 0.4218380482784388}. Best is trial 10 with value: 0.809131637793717.\n",
      "[I 2024-06-12 11:16:43,850] Trial 14 finished with value: 0.8056999580181738 and parameters: {'learning_rate': 0.057134530407938644, 'n_estimators': 797, 'objective': 'Logloss', 'colsample_bylevel': 0.04350554806464157, 'depth': 3, 'boosting_type': 'Plain', 'bootstrap_type': 'Bernoulli', 'subsample': 0.10877909116939569}. Best is trial 10 with value: 0.809131637793717.\n",
      "[I 2024-06-12 11:17:02,337] Trial 15 finished with value: 0.8042096389225689 and parameters: {'learning_rate': 0.01203655285140881, 'n_estimators': 582, 'objective': 'Logloss', 'colsample_bylevel': 0.07896522019180995, 'depth': 6, 'boosting_type': 'Plain', 'bootstrap_type': 'Bayesian', 'bagging_temperature': 0.9524534486213687}. Best is trial 10 with value: 0.809131637793717.\n",
      "[I 2024-06-12 11:17:18,187] Trial 16 finished with value: 0.8064420682976664 and parameters: {'learning_rate': 0.06085139386735597, 'n_estimators': 863, 'objective': 'Logloss', 'colsample_bylevel': 0.03821456885139236, 'depth': 3, 'boosting_type': 'Plain', 'bootstrap_type': 'Bernoulli', 'subsample': 0.4664653582833253}. Best is trial 10 with value: 0.809131637793717.\n",
      "[I 2024-06-12 11:18:32,432] Trial 17 finished with value: 0.8031166231082796 and parameters: {'learning_rate': 0.013131857956747215, 'n_estimators': 671, 'objective': 'Logloss', 'colsample_bylevel': 0.06442278097872732, 'depth': 9, 'boosting_type': 'Ordered', 'bootstrap_type': 'Bernoulli', 'subsample': 0.22648630375104412}. Best is trial 10 with value: 0.809131637793717.\n",
      "[I 2024-06-12 11:18:50,554] Trial 18 finished with value: 0.8067430318467139 and parameters: {'learning_rate': 0.13115938756717105, 'n_estimators': 274, 'objective': 'Logloss', 'colsample_bylevel': 0.035964479963088165, 'depth': 8, 'boosting_type': 'Ordered', 'bootstrap_type': 'Bayesian', 'bagging_temperature': 0.15859146402306346}. Best is trial 10 with value: 0.809131637793717.\n",
      "[I 2024-06-12 11:19:16,925] Trial 19 finished with value: 0.7903534906420132 and parameters: {'learning_rate': 0.9017084468556071, 'n_estimators': 911, 'objective': 'Logloss', 'colsample_bylevel': 0.06672589374304093, 'depth': 5, 'boosting_type': 'Plain', 'bootstrap_type': 'MVS'}. Best is trial 10 with value: 0.809131637793717.\n",
      "[I 2024-06-12 11:20:02,127] Trial 20 finished with value: 0.7448204244068971 and parameters: {'learning_rate': 0.012050446196025338, 'n_estimators': 793, 'objective': 'Logloss', 'colsample_bylevel': 0.032405410482103165, 'depth': 2, 'boosting_type': 'Ordered', 'bootstrap_type': 'Bernoulli', 'subsample': 0.5845901857526465}. Best is trial 10 with value: 0.809131637793717.\n",
      "[I 2024-06-12 11:20:23,086] Trial 21 finished with value: 0.8062551940240201 and parameters: {'learning_rate': 0.03026315632771391, 'n_estimators': 964, 'objective': 'Logloss', 'colsample_bylevel': 0.057252172527176855, 'depth': 3, 'boosting_type': 'Plain', 'bootstrap_type': 'Bernoulli', 'subsample': 0.9662428043011362}. Best is trial 10 with value: 0.809131637793717.\n",
      "[I 2024-06-12 11:20:47,246] Trial 22 finished with value: 0.8039014787792432 and parameters: {'learning_rate': 0.019121313509344904, 'n_estimators': 987, 'objective': 'Logloss', 'colsample_bylevel': 0.04955376230566093, 'depth': 4, 'boosting_type': 'Plain', 'bootstrap_type': 'Bernoulli', 'subsample': 0.6797924227579369}. Best is trial 10 with value: 0.809131637793717.\n",
      "[I 2024-06-12 11:21:10,398] Trial 23 finished with value: 0.8125846418759834 and parameters: {'learning_rate': 0.04838979231006747, 'n_estimators': 886, 'objective': 'Logloss', 'colsample_bylevel': 0.0823653960924905, 'depth': 4, 'boosting_type': 'Plain', 'bootstrap_type': 'Bernoulli', 'subsample': 0.7203516351427589}. Best is trial 23 with value: 0.8125846418759834.\n",
      "[I 2024-06-12 11:21:35,782] Trial 24 finished with value: 0.8036935159237858 and parameters: {'learning_rate': 0.18207967030697578, 'n_estimators': 862, 'objective': 'Logloss', 'colsample_bylevel': 0.08227066747263653, 'depth': 6, 'boosting_type': 'Plain', 'bootstrap_type': 'Bernoulli', 'subsample': 0.6392762886692763}. Best is trial 23 with value: 0.8125846418759834.\n",
      "[I 2024-06-12 11:21:55,561] Trial 25 finished with value: 0.8098595224207827 and parameters: {'learning_rate': 0.04898600801684359, 'n_estimators': 748, 'objective': 'Logloss', 'colsample_bylevel': 0.09258235240941129, 'depth': 4, 'boosting_type': 'Plain', 'bootstrap_type': 'Bayesian', 'bagging_temperature': 7.639550322109412}. Best is trial 23 with value: 0.8125846418759834.\n",
      "[I 2024-06-12 11:22:04,992] Trial 26 finished with value: 0.80595427299585 and parameters: {'learning_rate': 0.06299195510733924, 'n_estimators': 519, 'objective': 'Logloss', 'colsample_bylevel': 0.09628380633509352, 'depth': 2, 'boosting_type': 'Plain', 'bootstrap_type': 'Bernoulli', 'subsample': 0.3187128708107136}. Best is trial 23 with value: 0.8125846418759834.\n",
      "[I 2024-06-12 11:22:27,538] Trial 27 finished with value: 0.7959358107833789 and parameters: {'learning_rate': 0.0076712179633605685, 'n_estimators': 904, 'objective': 'Logloss', 'colsample_bylevel': 0.06761212915217343, 'depth': 5, 'boosting_type': 'Plain', 'bootstrap_type': 'Bernoulli', 'subsample': 0.41610953822565344}. Best is trial 23 with value: 0.8125846418759834.\n",
      "[I 2024-06-12 11:22:40,785] Trial 28 finished with value: 0.8049300135570547 and parameters: {'learning_rate': 0.042807026655425594, 'n_estimators': 642, 'objective': 'Logloss', 'colsample_bylevel': 0.08473279681263039, 'depth': 2, 'boosting_type': 'Plain', 'bootstrap_type': 'MVS'}. Best is trial 23 with value: 0.8125846418759834.\n",
      "[I 2024-06-12 11:22:59,974] Trial 29 finished with value: 0.7366900110379453 and parameters: {'learning_rate': 0.002953189136046512, 'n_estimators': 777, 'objective': 'CrossEntropy', 'colsample_bylevel': 0.07352568366782548, 'depth': 4, 'boosting_type': 'Plain', 'bootstrap_type': 'Bayesian', 'bagging_temperature': 8.117096431752604}. Best is trial 23 with value: 0.8125846418759834.\n",
      "[I 2024-06-12 11:23:29,166] Trial 30 finished with value: 0.8046172503575667 and parameters: {'learning_rate': 0.09925450129064638, 'n_estimators': 846, 'objective': 'Logloss', 'colsample_bylevel': 0.0999910103205168, 'depth': 6, 'boosting_type': 'Plain', 'bootstrap_type': 'Bayesian', 'bagging_temperature': 9.741497439477204}. Best is trial 23 with value: 0.8125846418759834.\n",
      "[I 2024-06-12 11:23:47,813] Trial 31 finished with value: 0.8065158258257759 and parameters: {'learning_rate': 0.24166226269907376, 'n_estimators': 745, 'objective': 'Logloss', 'colsample_bylevel': 0.056686732488988874, 'depth': 4, 'boosting_type': 'Plain', 'bootstrap_type': 'Bayesian', 'bagging_temperature': 6.682156339553828}. Best is trial 23 with value: 0.8125846418759834.\n",
      "[I 2024-06-12 11:25:15,347] Trial 32 finished with value: 0.8107710475282299 and parameters: {'learning_rate': 0.04002482865983832, 'n_estimators': 923, 'objective': 'Logloss', 'colsample_bylevel': 0.08254189838335245, 'depth': 5, 'boosting_type': 'Ordered', 'bootstrap_type': 'Bayesian', 'bagging_temperature': 2.105039486587975}. Best is trial 23 with value: 0.8125846418759834.\n",
      "[I 2024-06-12 11:26:45,575] Trial 33 finished with value: 0.8091365666588128 and parameters: {'learning_rate': 0.03910560820301083, 'n_estimators': 927, 'objective': 'Logloss', 'colsample_bylevel': 0.08574158940810785, 'depth': 5, 'boosting_type': 'Ordered', 'bootstrap_type': 'Bayesian', 'bagging_temperature': 6.471749552315716}. Best is trial 23 with value: 0.8125846418759834.\n",
      "[I 2024-06-12 11:28:12,225] Trial 34 finished with value: 0.8097341108949261 and parameters: {'learning_rate': 0.04341599968442469, 'n_estimators': 828, 'objective': 'CrossEntropy', 'colsample_bylevel': 0.08621432093581444, 'depth': 5, 'boosting_type': 'Ordered', 'bootstrap_type': 'Bayesian', 'bagging_temperature': 6.175324935670462}. Best is trial 23 with value: 0.8125846418759834.\n",
      "[I 2024-06-12 11:29:42,619] Trial 35 finished with value: 0.8042367135042274 and parameters: {'learning_rate': 0.01696186221406608, 'n_estimators': 839, 'objective': 'CrossEntropy', 'colsample_bylevel': 0.0747675845462684, 'depth': 7, 'boosting_type': 'Ordered', 'bootstrap_type': 'Bayesian', 'bagging_temperature': 6.717998775489189}. Best is trial 23 with value: 0.8125846418759834.\n",
      "[I 2024-06-12 11:31:38,690] Trial 36 finished with value: 0.8149321500165314 and parameters: {'learning_rate': 0.08552803940812516, 'n_estimators': 825, 'objective': 'CrossEntropy', 'colsample_bylevel': 0.0908426219969301, 'depth': 8, 'boosting_type': 'Ordered', 'bootstrap_type': 'Bayesian', 'bagging_temperature': 1.6669910436397064}. Best is trial 36 with value: 0.8149321500165314.\n",
      "[I 2024-06-12 11:33:34,930] Trial 37 finished with value: 0.8116792307330923 and parameters: {'learning_rate': 0.08205308653523802, 'n_estimators': 758, 'objective': 'CrossEntropy', 'colsample_bylevel': 0.07151926673836011, 'depth': 8, 'boosting_type': 'Ordered', 'bootstrap_type': 'Bayesian', 'bagging_temperature': 1.9039436708711657}. Best is trial 36 with value: 0.8149321500165314.\n",
      "[I 2024-06-12 11:34:32,706] Trial 38 finished with value: 0.8112266645339735 and parameters: {'learning_rate': 0.10070718418144597, 'n_estimators': 640, 'objective': 'CrossEntropy', 'colsample_bylevel': 0.05086016446469082, 'depth': 9, 'boosting_type': 'Ordered', 'bootstrap_type': 'Bayesian', 'bagging_temperature': 1.9353140609729906}. Best is trial 36 with value: 0.8149321500165314.\n",
      "[I 2024-06-12 11:35:37,153] Trial 39 finished with value: 0.8117800773571565 and parameters: {'learning_rate': 0.09202152952464468, 'n_estimators': 643, 'objective': 'CrossEntropy', 'colsample_bylevel': 0.043694210155388026, 'depth': 9, 'boosting_type': 'Ordered', 'bootstrap_type': 'Bayesian', 'bagging_temperature': 1.6691363231020522}. Best is trial 36 with value: 0.8149321500165314.\n",
      "[I 2024-06-12 11:36:24,727] Trial 40 finished with value: 0.8113058933652464 and parameters: {'learning_rate': 0.17986056494345917, 'n_estimators': 516, 'objective': 'CrossEntropy', 'colsample_bylevel': 0.03950749230150672, 'depth': 10, 'boosting_type': 'Ordered', 'bootstrap_type': 'Bayesian', 'bagging_temperature': 1.7213708707554725}. Best is trial 36 with value: 0.8149321500165314.\n",
      "[I 2024-06-12 11:37:17,249] Trial 41 finished with value: 0.8085254423102173 and parameters: {'learning_rate': 0.1964864090601406, 'n_estimators': 517, 'objective': 'CrossEntropy', 'colsample_bylevel': 0.04246962282212371, 'depth': 10, 'boosting_type': 'Ordered', 'bootstrap_type': 'Bayesian', 'bagging_temperature': 1.5598526605068241}. Best is trial 36 with value: 0.8149321500165314.\n",
      "[I 2024-06-12 11:37:58,973] Trial 42 finished with value: 0.8102113700753566 and parameters: {'learning_rate': 0.3596766138082, 'n_estimators': 557, 'objective': 'CrossEntropy', 'colsample_bylevel': 0.029073941355042106, 'depth': 10, 'boosting_type': 'Ordered', 'bootstrap_type': 'Bayesian', 'bagging_temperature': 0.412241831856341}. Best is trial 36 with value: 0.8149321500165314.\n",
      "[I 2024-06-12 11:38:47,965] Trial 43 finished with value: 0.8075632355108366 and parameters: {'learning_rate': 0.07883768193527894, 'n_estimators': 461, 'objective': 'CrossEntropy', 'colsample_bylevel': 0.041444896993336734, 'depth': 8, 'boosting_type': 'Ordered', 'bootstrap_type': 'Bayesian', 'bagging_temperature': 2.7959747635385517}. Best is trial 36 with value: 0.8149321500165314.\n",
      "[I 2024-06-12 11:39:14,428] Trial 44 finished with value: 0.7882570939212828 and parameters: {'learning_rate': 0.1338107949311004, 'n_estimators': 333, 'objective': 'CrossEntropy', 'colsample_bylevel': 0.018993371038038765, 'depth': 8, 'boosting_type': 'Ordered', 'bootstrap_type': 'Bayesian', 'bagging_temperature': 1.1786198134439783}. Best is trial 36 with value: 0.8149321500165314.\n",
      "[I 2024-06-12 11:39:59,461] Trial 45 finished with value: 0.8026801844528432 and parameters: {'learning_rate': 0.5100193057688003, 'n_estimators': 628, 'objective': 'CrossEntropy', 'colsample_bylevel': 0.026323280920407473, 'depth': 10, 'boosting_type': 'Ordered', 'bootstrap_type': 'MVS'}. Best is trial 36 with value: 0.8149321500165314.\n",
      "[I 2024-06-12 11:42:52,135] Trial 46 finished with value: 0.8106226882596894 and parameters: {'learning_rate': 0.0855230625277156, 'n_estimators': 698, 'objective': 'CrossEntropy', 'colsample_bylevel': 0.06951496117371622, 'depth': 11, 'boosting_type': 'Ordered', 'bootstrap_type': 'Bayesian', 'bagging_temperature': 2.2382973826549413}. Best is trial 36 with value: 0.8149321500165314.\n",
      "[I 2024-06-12 11:43:27,642] Trial 47 finished with value: 0.810830283813065 and parameters: {'learning_rate': 0.14904327552961044, 'n_estimators': 152, 'objective': 'CrossEntropy', 'colsample_bylevel': 0.06021480788278626, 'depth': 11, 'boosting_type': 'Ordered', 'bootstrap_type': 'Bayesian', 'bagging_temperature': 0.7834523484639089}. Best is trial 36 with value: 0.8149321500165314.\n",
      "[I 2024-06-12 11:44:08,635] Trial 48 finished with value: 0.7882180621955316 and parameters: {'learning_rate': 0.3296670184989103, 'n_estimators': 477, 'objective': 'CrossEntropy', 'colsample_bylevel': 0.01058327334508766, 'depth': 9, 'boosting_type': 'Ordered', 'bootstrap_type': 'Bayesian', 'bagging_temperature': 2.5771523669991376}. Best is trial 36 with value: 0.8149321500165314.\n",
      "[I 2024-06-12 11:45:14,079] Trial 49 finished with value: 0.8133661709460644 and parameters: {'learning_rate': 0.11054474523316159, 'n_estimators': 604, 'objective': 'CrossEntropy', 'colsample_bylevel': 0.05312863974176188, 'depth': 8, 'boosting_type': 'Ordered', 'bootstrap_type': 'Bayesian', 'bagging_temperature': 3.4810195973482507}. Best is trial 36 with value: 0.8149321500165314.\n",
      "[I 2024-06-12 11:47:11,859] Trial 50 finished with value: 0.7976610137317142 and parameters: {'learning_rate': 0.5283469012004681, 'n_estimators': 768, 'objective': 'CrossEntropy', 'colsample_bylevel': 0.052814606229956325, 'depth': 7, 'boosting_type': 'Ordered', 'bootstrap_type': 'MVS'}. Best is trial 36 with value: 0.8149321500165314.\n",
      "[I 2024-06-12 11:48:16,190] Trial 51 finished with value: 0.8118662852607764 and parameters: {'learning_rate': 0.06937722684425932, 'n_estimators': 594, 'objective': 'CrossEntropy', 'colsample_bylevel': 0.046341721423825054, 'depth': 8, 'boosting_type': 'Ordered', 'bootstrap_type': 'Bayesian', 'bagging_temperature': 3.151872252823494}. Best is trial 36 with value: 0.8149321500165314.\n",
      "[I 2024-06-12 11:49:28,148] Trial 52 finished with value: 0.8107430415220325 and parameters: {'learning_rate': 0.07427315880395115, 'n_estimators': 592, 'objective': 'CrossEntropy', 'colsample_bylevel': 0.04656774775620196, 'depth': 8, 'boosting_type': 'Ordered', 'bootstrap_type': 'Bayesian', 'bagging_temperature': 3.4800480883375133}. Best is trial 36 with value: 0.8149321500165314.\n",
      "[I 2024-06-12 11:50:49,777] Trial 53 finished with value: 0.811448452397423 and parameters: {'learning_rate': 0.10955932454391519, 'n_estimators': 678, 'objective': 'CrossEntropy', 'colsample_bylevel': 0.07498078168647472, 'depth': 7, 'boosting_type': 'Ordered', 'bootstrap_type': 'Bayesian', 'bagging_temperature': 3.4838444498695944}. Best is trial 36 with value: 0.8149321500165314.\n",
      "[I 2024-06-12 11:51:46,166] Trial 54 finished with value: 0.8095220661069622 and parameters: {'learning_rate': 0.06465410907943893, 'n_estimators': 610, 'objective': 'CrossEntropy', 'colsample_bylevel': 0.04590405172229667, 'depth': 8, 'boosting_type': 'Ordered', 'bootstrap_type': 'Bayesian', 'bagging_temperature': 3.049049636123175}. Best is trial 36 with value: 0.8149321500165314.\n",
      "[I 2024-06-12 11:52:48,866] Trial 55 finished with value: 0.7999554865169569 and parameters: {'learning_rate': 0.02212294337488933, 'n_estimators': 569, 'objective': 'CrossEntropy', 'colsample_bylevel': 0.053153343578429754, 'depth': 9, 'boosting_type': 'Ordered', 'bootstrap_type': 'Bayesian', 'bagging_temperature': 4.111433745074107}. Best is trial 36 with value: 0.8149321500165314.\n",
      "[I 2024-06-12 11:54:09,822] Trial 56 finished with value: 0.8101684337209658 and parameters: {'learning_rate': 0.11313083555825308, 'n_estimators': 668, 'objective': 'CrossEntropy', 'colsample_bylevel': 0.06348042116396989, 'depth': 8, 'boosting_type': 'Ordered', 'bootstrap_type': 'Bayesian', 'bagging_temperature': 1.4217699395390455}. Best is trial 36 with value: 0.8149321500165314.\n",
      "[I 2024-06-12 11:55:11,320] Trial 57 finished with value: 0.804357115547303 and parameters: {'learning_rate': 0.2511759881613252, 'n_estimators': 723, 'objective': 'CrossEntropy', 'colsample_bylevel': 0.035729646619169615, 'depth': 9, 'boosting_type': 'Ordered', 'bootstrap_type': 'Bayesian', 'bagging_temperature': 5.534223636294561}. Best is trial 36 with value: 0.8149321500165314.\n",
      "[I 2024-06-12 11:56:47,488] Trial 58 finished with value: 0.8089892963863423 and parameters: {'learning_rate': 0.054524291760060045, 'n_estimators': 813, 'objective': 'CrossEntropy', 'colsample_bylevel': 0.0608987923051915, 'depth': 7, 'boosting_type': 'Ordered', 'bootstrap_type': 'Bayesian', 'bagging_temperature': 4.51849602421671}. Best is trial 36 with value: 0.8149321500165314.\n",
      "[I 2024-06-12 11:59:06,574] Trial 59 finished with value: 0.8129720995136631 and parameters: {'learning_rate': 0.08687311352403752, 'n_estimators': 706, 'objective': 'CrossEntropy', 'colsample_bylevel': 0.09033968504993782, 'depth': 9, 'boosting_type': 'Ordered', 'bootstrap_type': 'Bayesian', 'bagging_temperature': 3.9309331957084503}. Best is trial 36 with value: 0.8149321500165314.\n",
      "[I 2024-06-12 12:01:20,400] Trial 60 finished with value: 0.8145193694755374 and parameters: {'learning_rate': 0.03196470769156953, 'n_estimators': 694, 'objective': 'CrossEntropy', 'colsample_bylevel': 0.09053808226104265, 'depth': 9, 'boosting_type': 'Ordered', 'bootstrap_type': 'MVS'}. Best is trial 36 with value: 0.8149321500165314.\n",
      "[I 2024-06-12 12:03:50,762] Trial 61 finished with value: 0.8136593036668602 and parameters: {'learning_rate': 0.03610221375676394, 'n_estimators': 716, 'objective': 'CrossEntropy', 'colsample_bylevel': 0.0919748615614829, 'depth': 9, 'boosting_type': 'Ordered', 'bootstrap_type': 'MVS'}. Best is trial 36 with value: 0.8149321500165314.\n",
      "[I 2024-06-12 12:07:12,012] Trial 62 finished with value: 0.8146687993871508 and parameters: {'learning_rate': 0.024713009047547512, 'n_estimators': 707, 'objective': 'CrossEntropy', 'colsample_bylevel': 0.08995999980401866, 'depth': 10, 'boosting_type': 'Ordered', 'bootstrap_type': 'MVS'}. Best is trial 36 with value: 0.8149321500165314.\n",
      "[I 2024-06-12 12:12:51,387] Trial 63 finished with value: 0.8169300449210075 and parameters: {'learning_rate': 0.03164368762305887, 'n_estimators': 701, 'objective': 'CrossEntropy', 'colsample_bylevel': 0.09157969124194265, 'depth': 12, 'boosting_type': 'Ordered', 'bootstrap_type': 'MVS'}. Best is trial 63 with value: 0.8169300449210075.\n",
      "[I 2024-06-12 12:18:38,654] Trial 64 finished with value: 0.8169411149917256 and parameters: {'learning_rate': 0.03481132516186627, 'n_estimators': 727, 'objective': 'CrossEntropy', 'colsample_bylevel': 0.0918455288282379, 'depth': 12, 'boosting_type': 'Ordered', 'bootstrap_type': 'MVS'}. Best is trial 64 with value: 0.8169411149917256.\n",
      "[I 2024-06-12 12:26:47,599] Trial 65 finished with value: 0.8163066669185438 and parameters: {'learning_rate': 0.033761390176053035, 'n_estimators': 793, 'objective': 'CrossEntropy', 'colsample_bylevel': 0.09985890490406385, 'depth': 12, 'boosting_type': 'Ordered', 'bootstrap_type': 'MVS'}. Best is trial 64 with value: 0.8169411149917256.\n",
      "[I 2024-06-12 12:34:57,577] Trial 66 finished with value: 0.815032470694874 and parameters: {'learning_rate': 0.0160244851309024, 'n_estimators': 797, 'objective': 'CrossEntropy', 'colsample_bylevel': 0.09989690128379043, 'depth': 12, 'boosting_type': 'Ordered', 'bootstrap_type': 'MVS'}. Best is trial 64 with value: 0.8169411149917256.\n",
      "[I 2024-06-12 12:41:27,427] Trial 67 finished with value: 0.8136718270833146 and parameters: {'learning_rate': 0.016130807140771603, 'n_estimators': 798, 'objective': 'CrossEntropy', 'colsample_bylevel': 0.07860197686315007, 'depth': 12, 'boosting_type': 'Ordered', 'bootstrap_type': 'MVS'}. Best is trial 64 with value: 0.8169411149917256.\n",
      "[I 2024-06-12 12:49:32,380] Trial 68 finished with value: 0.8172851544084103 and parameters: {'learning_rate': 0.025024970369097843, 'n_estimators': 877, 'objective': 'CrossEntropy', 'colsample_bylevel': 0.09884840440336061, 'depth': 12, 'boosting_type': 'Ordered', 'bootstrap_type': 'MVS'}. Best is trial 68 with value: 0.8172851544084103.\n",
      "[I 2024-06-12 12:57:51,374] Trial 69 finished with value: 0.8128163849560357 and parameters: {'learning_rate': 0.008918147290388976, 'n_estimators': 881, 'objective': 'CrossEntropy', 'colsample_bylevel': 0.09400375287825001, 'depth': 12, 'boosting_type': 'Ordered', 'bootstrap_type': 'MVS'}. Best is trial 68 with value: 0.8172851544084103.\n",
      "[I 2024-06-12 13:05:19,845] Trial 70 finished with value: 0.8156367327257328 and parameters: {'learning_rate': 0.02157923385734265, 'n_estimators': 950, 'objective': 'CrossEntropy', 'colsample_bylevel': 0.09975202731621369, 'depth': 12, 'boosting_type': 'Ordered', 'bootstrap_type': 'MVS'}. Best is trial 68 with value: 0.8172851544084103.\n",
      "[I 2024-06-12 13:11:49,628] Trial 71 finished with value: 0.8156338878312788 and parameters: {'learning_rate': 0.02284533056657824, 'n_estimators': 861, 'objective': 'CrossEntropy', 'colsample_bylevel': 0.09865081454848317, 'depth': 12, 'boosting_type': 'Ordered', 'bootstrap_type': 'MVS'}. Best is trial 68 with value: 0.8172851544084103.\n",
      "[I 2024-06-12 13:19:35,535] Trial 72 finished with value: 0.8127810907551247 and parameters: {'learning_rate': 0.009262783219996488, 'n_estimators': 948, 'objective': 'CrossEntropy', 'colsample_bylevel': 0.0992309169186713, 'depth': 12, 'boosting_type': 'Ordered', 'bootstrap_type': 'MVS'}. Best is trial 68 with value: 0.8172851544084103.\n",
      "[I 2024-06-12 13:24:24,074] Trial 73 finished with value: 0.8130579714654328 and parameters: {'learning_rate': 0.013627120735426847, 'n_estimators': 867, 'objective': 'CrossEntropy', 'colsample_bylevel': 0.07891095049272556, 'depth': 12, 'boosting_type': 'Ordered', 'bootstrap_type': 'MVS'}. Best is trial 68 with value: 0.8172851544084103.\n",
      "[I 2024-06-12 13:29:03,390] Trial 74 finished with value: 0.8160255116736627 and parameters: {'learning_rate': 0.020902221009203494, 'n_estimators': 822, 'objective': 'CrossEntropy', 'colsample_bylevel': 0.09771975757371114, 'depth': 11, 'boosting_type': 'Ordered', 'bootstrap_type': 'MVS'}. Best is trial 68 with value: 0.8172851544084103.\n",
      "[I 2024-06-12 13:34:32,767] Trial 75 finished with value: 0.8173159119002863 and parameters: {'learning_rate': 0.02061845168595623, 'n_estimators': 950, 'objective': 'CrossEntropy', 'colsample_bylevel': 0.09990836626654874, 'depth': 11, 'boosting_type': 'Ordered', 'bootstrap_type': 'MVS'}. Best is trial 75 with value: 0.8173159119002863.\n",
      "[I 2024-06-12 13:35:30,369] Trial 76 finished with value: 0.7498334130706384 and parameters: {'learning_rate': 0.02179812597646604, 'n_estimators': 947, 'objective': 'CrossEntropy', 'colsample_bylevel': 0.014000005969966091, 'depth': 11, 'boosting_type': 'Ordered', 'bootstrap_type': 'MVS'}. Best is trial 75 with value: 0.8173159119002863.\n",
      "[I 2024-06-12 13:39:20,725] Trial 77 finished with value: 0.815616902010099 and parameters: {'learning_rate': 0.028879168976607965, 'n_estimators': 897, 'objective': 'CrossEntropy', 'colsample_bylevel': 0.08510955092868583, 'depth': 11, 'boosting_type': 'Ordered', 'bootstrap_type': 'MVS'}. Best is trial 75 with value: 0.8173159119002863.\n",
      "[I 2024-06-12 13:43:04,242] Trial 78 finished with value: 0.8155706854698291 and parameters: {'learning_rate': 0.019781842039064315, 'n_estimators': 985, 'objective': 'CrossEntropy', 'colsample_bylevel': 0.07752581383835404, 'depth': 11, 'boosting_type': 'Ordered', 'bootstrap_type': 'MVS'}. Best is trial 75 with value: 0.8173159119002863.\n",
      "[I 2024-06-12 13:48:51,082] Trial 79 finished with value: 0.8070553802195578 and parameters: {'learning_rate': 0.006239218068413138, 'n_estimators': 846, 'objective': 'CrossEntropy', 'colsample_bylevel': 0.08605442659986988, 'depth': 12, 'boosting_type': 'Ordered', 'bootstrap_type': 'MVS'}. Best is trial 75 with value: 0.8173159119002863.\n",
      "[I 2024-06-12 13:54:05,445] Trial 80 finished with value: 0.8163232443105265 and parameters: {'learning_rate': 0.034160830835846666, 'n_estimators': 931, 'objective': 'CrossEntropy', 'colsample_bylevel': 0.08128761432314842, 'depth': 12, 'boosting_type': 'Ordered', 'bootstrap_type': 'MVS'}. Best is trial 75 with value: 0.8173159119002863.\n",
      "[I 2024-06-12 14:00:59,597] Trial 81 finished with value: 0.8167514046956603 and parameters: {'learning_rate': 0.03345874418751804, 'n_estimators': 946, 'objective': 'CrossEntropy', 'colsample_bylevel': 0.09691516998353344, 'depth': 12, 'boosting_type': 'Ordered', 'bootstrap_type': 'MVS'}. Best is trial 75 with value: 0.8173159119002863.\n",
      "[I 2024-06-12 14:06:16,346] Trial 82 finished with value: 0.8156972679330368 and parameters: {'learning_rate': 0.031146357467528963, 'n_estimators': 934, 'objective': 'CrossEntropy', 'colsample_bylevel': 0.08140945817959742, 'depth': 12, 'boosting_type': 'Ordered', 'bootstrap_type': 'MVS'}. Best is trial 75 with value: 0.8173159119002863.\n",
      "[I 2024-06-12 14:10:08,686] Trial 83 finished with value: 0.8145055466815455 and parameters: {'learning_rate': 0.03492501475288698, 'n_estimators': 925, 'objective': 'CrossEntropy', 'colsample_bylevel': 0.08033143684173945, 'depth': 11, 'boosting_type': 'Ordered', 'bootstrap_type': 'MVS'}. Best is trial 75 with value: 0.8173159119002863.\n",
      "[I 2024-06-12 14:13:17,270] Trial 84 finished with value: 0.8149232522826981 and parameters: {'learning_rate': 0.049679028148320245, 'n_estimators': 967, 'objective': 'CrossEntropy', 'colsample_bylevel': 0.07142743468905428, 'depth': 11, 'boosting_type': 'Ordered', 'bootstrap_type': 'MVS'}. Best is trial 75 with value: 0.8173159119002863.\n",
      "[I 2024-06-12 14:18:58,964] Trial 85 finished with value: 0.8159384661129595 and parameters: {'learning_rate': 0.026835408032530227, 'n_estimators': 904, 'objective': 'CrossEntropy', 'colsample_bylevel': 0.08784881406649452, 'depth': 12, 'boosting_type': 'Ordered', 'bootstrap_type': 'MVS'}. Best is trial 75 with value: 0.8173159119002863.\n",
      "[I 2024-06-12 14:23:43,898] Trial 86 finished with value: 0.8176445505770381 and parameters: {'learning_rate': 0.026604871347659466, 'n_estimators': 1000, 'objective': 'CrossEntropy', 'colsample_bylevel': 0.08823808134018762, 'depth': 11, 'boosting_type': 'Ordered', 'bootstrap_type': 'MVS'}. Best is trial 86 with value: 0.8176445505770381.\n",
      "[I 2024-06-12 14:29:03,566] Trial 87 finished with value: 0.8137507414524221 and parameters: {'learning_rate': 0.013764085140415518, 'n_estimators': 980, 'objective': 'CrossEntropy', 'colsample_bylevel': 0.09414719963603298, 'depth': 11, 'boosting_type': 'Ordered', 'bootstrap_type': 'MVS'}. Best is trial 86 with value: 0.8176445505770381.\n",
      "[I 2024-06-12 14:34:01,832] Trial 88 finished with value: 0.8154298173646346 and parameters: {'learning_rate': 0.04286142032720529, 'n_estimators': 994, 'objective': 'CrossEntropy', 'colsample_bylevel': 0.09450098800211906, 'depth': 11, 'boosting_type': 'Ordered', 'bootstrap_type': 'MVS'}. Best is trial 86 with value: 0.8176445505770381.\n",
      "[I 2024-06-12 14:37:05,131] Trial 89 finished with value: 0.81029582826127 and parameters: {'learning_rate': 0.01829890898874696, 'n_estimators': 777, 'objective': 'CrossEntropy', 'colsample_bylevel': 0.06713835903926554, 'depth': 12, 'boosting_type': 'Ordered', 'bootstrap_type': 'MVS'}. Best is trial 86 with value: 0.8176445505770381.\n",
      "[I 2024-06-12 14:41:10,856] Trial 90 finished with value: 0.8131300474734079 and parameters: {'learning_rate': 0.010724958586323243, 'n_estimators': 881, 'objective': 'CrossEntropy', 'colsample_bylevel': 0.08481265626162282, 'depth': 11, 'boosting_type': 'Ordered', 'bootstrap_type': 'MVS'}. Best is trial 86 with value: 0.8176445505770381.\n",
      "[I 2024-06-12 14:47:12,000] Trial 91 finished with value: 0.8158306253503135 and parameters: {'learning_rate': 0.028283054770503052, 'n_estimators': 906, 'objective': 'CrossEntropy', 'colsample_bylevel': 0.08820892027113585, 'depth': 12, 'boosting_type': 'Ordered', 'bootstrap_type': 'MVS'}. Best is trial 86 with value: 0.8176445505770381.\n",
      "[I 2024-06-12 14:51:35,977] Trial 92 finished with value: 0.8160038554884494 and parameters: {'learning_rate': 0.03563365151387107, 'n_estimators': 916, 'objective': 'CrossEntropy', 'colsample_bylevel': 0.07606069923375267, 'depth': 12, 'boosting_type': 'Ordered', 'bootstrap_type': 'MVS'}. Best is trial 86 with value: 0.8176445505770381.\n",
      "[I 2024-06-12 14:58:20,448] Trial 93 finished with value: 0.8140051394125558 and parameters: {'learning_rate': 0.03736433259122154, 'n_estimators': 965, 'objective': 'CrossEntropy', 'colsample_bylevel': 0.09431024399058273, 'depth': 12, 'boosting_type': 'Ordered', 'bootstrap_type': 'MVS'}. Best is trial 86 with value: 0.8176445505770381.\n",
      "[I 2024-06-12 15:01:07,041] Trial 94 finished with value: 0.8152531607107851 and parameters: {'learning_rate': 0.04741673871422355, 'n_estimators': 747, 'objective': 'CrossEntropy', 'colsample_bylevel': 0.0759612961401461, 'depth': 11, 'boosting_type': 'Ordered', 'bootstrap_type': 'MVS'}. Best is trial 86 with value: 0.8176445505770381.\n",
      "[I 2024-06-12 15:06:13,801] Trial 95 finished with value: 0.8126645609967789 and parameters: {'learning_rate': 0.05719229240613396, 'n_estimators': 921, 'objective': 'CrossEntropy', 'colsample_bylevel': 0.08343263991593416, 'depth': 12, 'boosting_type': 'Ordered', 'bootstrap_type': 'MVS'}. Best is trial 86 with value: 0.8176445505770381.\n",
      "[I 2024-06-12 15:12:12,121] Trial 96 finished with value: 0.8145321554969346 and parameters: {'learning_rate': 0.024988649317049395, 'n_estimators': 824, 'objective': 'CrossEntropy', 'colsample_bylevel': 0.09484083209132661, 'depth': 12, 'boosting_type': 'Ordered', 'bootstrap_type': 'MVS'}. Best is trial 86 with value: 0.8176445505770381.\n",
      "[I 2024-06-12 15:14:37,116] Trial 97 finished with value: 0.8139219061906081 and parameters: {'learning_rate': 0.03179108762115343, 'n_estimators': 868, 'objective': 'CrossEntropy', 'colsample_bylevel': 0.07275019411357235, 'depth': 10, 'boosting_type': 'Ordered', 'bootstrap_type': 'MVS'}. Best is trial 86 with value: 0.8176445505770381.\n",
      "[I 2024-06-12 15:19:09,988] Trial 98 finished with value: 0.814581778527969 and parameters: {'learning_rate': 0.01549055070189226, 'n_estimators': 842, 'objective': 'CrossEntropy', 'colsample_bylevel': 0.0897183408950578, 'depth': 11, 'boosting_type': 'Ordered', 'bootstrap_type': 'MVS'}. Best is trial 86 with value: 0.8176445505770381.\n",
      "[I 2024-06-12 15:24:54,601] Trial 99 finished with value: 0.8120285982290533 and parameters: {'learning_rate': 0.03543667574671118, 'n_estimators': 999, 'objective': 'CrossEntropy', 'colsample_bylevel': 0.08177211975173139, 'depth': 12, 'boosting_type': 'Ordered', 'bootstrap_type': 'MVS'}. Best is trial 86 with value: 0.8176445505770381.\n"
     ]
    },
    {
     "name": "stdout",
     "output_type": "stream",
     "text": [
      "Number of finished trials: 100\n",
      "Best trial:\n",
      "  Value: 0.8176445505770381\n",
      "  Params: \n",
      "    learning_rate: 0.026604871347659466\n",
      "    n_estimators: 1000\n",
      "    objective: CrossEntropy\n",
      "    colsample_bylevel: 0.08823808134018762\n",
      "    depth: 11\n",
      "    boosting_type: Ordered\n",
      "    bootstrap_type: MVS\n"
     ]
    }
   ],
   "source": [
    "study = optuna.create_study(direction=\"maximize\")\n",
    "study.optimize(objective, n_trials=100)\n",
    "\n",
    "print(\"Number of finished trials: {}\".format(len(study.trials)))\n",
    "\n",
    "print(\"Best trial:\")\n",
    "trial = study.best_trial\n",
    "\n",
    "print(\"  Value: {}\".format(trial.value))\n",
    "\n",
    "print(\"  Params: \")\n",
    "for key, value in trial.params.items():\n",
    "    print(\"    {}: {}\".format(key, value))"
   ]
  },
  {
   "cell_type": "code",
   "execution_count": 52,
   "metadata": {},
   "outputs": [],
   "source": [
    "\n",
    "\n",
    "with open(\"best_cat_hyperparameters.json\", \"w\") as f:\n",
    "    json.dump(study.best_params, f)"
   ]
  },
  {
   "cell_type": "code",
   "execution_count": 36,
   "metadata": {},
   "outputs": [
    {
     "data": {
      "application/vnd.plotly.v1+json": {
       "config": {
        "plotlyServerURL": "https://plot.ly"
       },
       "data": [
        {
         "mode": "markers",
         "name": "Objective Value",
         "type": "scatter",
         "x": [
          0,
          1,
          2,
          3,
          4,
          5,
          6,
          7,
          8,
          9,
          10,
          11,
          12,
          13,
          14,
          15,
          16,
          17,
          18,
          19,
          20,
          21,
          22,
          23,
          24,
          25,
          26,
          27,
          28,
          29,
          30,
          31,
          32,
          33,
          34,
          35,
          36,
          37,
          38,
          39,
          40,
          41,
          42,
          43,
          44,
          45,
          46,
          47,
          48,
          49,
          50,
          51,
          52,
          53,
          54,
          55,
          56,
          57,
          58,
          59,
          60,
          61,
          62,
          63,
          64,
          65,
          66,
          67,
          68,
          69,
          70,
          71,
          72,
          73,
          74,
          75,
          76,
          77,
          78,
          79,
          80,
          81,
          82,
          83,
          84,
          85,
          86,
          87,
          88,
          89,
          90,
          91,
          92,
          93,
          94,
          95,
          96,
          97,
          98,
          99
         ],
         "y": [
          0.7276248308437891,
          0.7977268163153175,
          0.8056386389291366,
          0.730558601585154,
          0.7316018061236207,
          0.7957360811456973,
          0.8019595654929603,
          0.7855163194315602,
          0.7384146883771896,
          0.807751469859239,
          0.809131637793717,
          0.8072661769075257,
          0.8066913542711699,
          0.7843677996150902,
          0.8056999580181738,
          0.8042096389225689,
          0.8064420682976664,
          0.8031166231082796,
          0.8067430318467139,
          0.7903534906420132,
          0.7448204244068971,
          0.8062551940240201,
          0.8039014787792432,
          0.8125846418759834,
          0.8036935159237858,
          0.8098595224207827,
          0.80595427299585,
          0.7959358107833789,
          0.8049300135570547,
          0.7366900110379453,
          0.8046172503575667,
          0.8065158258257759,
          0.8107710475282299,
          0.8091365666588128,
          0.8097341108949261,
          0.8042367135042274,
          0.8149321500165314,
          0.8116792307330923,
          0.8112266645339735,
          0.8117800773571565,
          0.8113058933652464,
          0.8085254423102173,
          0.8102113700753566,
          0.8075632355108366,
          0.7882570939212828,
          0.8026801844528432,
          0.8106226882596894,
          0.810830283813065,
          0.7882180621955316,
          0.8133661709460644,
          0.7976610137317142,
          0.8118662852607764,
          0.8107430415220325,
          0.811448452397423,
          0.8095220661069622,
          0.7999554865169569,
          0.8101684337209658,
          0.804357115547303,
          0.8089892963863423,
          0.8129720995136631,
          0.8145193694755374,
          0.8136593036668602,
          0.8146687993871508,
          0.8169300449210075,
          0.8169411149917256,
          0.8163066669185438,
          0.815032470694874,
          0.8136718270833146,
          0.8172851544084103,
          0.8128163849560357,
          0.8156367327257328,
          0.8156338878312788,
          0.8127810907551247,
          0.8130579714654328,
          0.8160255116736627,
          0.8173159119002863,
          0.7498334130706384,
          0.815616902010099,
          0.8155706854698291,
          0.8070553802195578,
          0.8163232443105265,
          0.8167514046956603,
          0.8156972679330368,
          0.8145055466815455,
          0.8149232522826981,
          0.8159384661129595,
          0.8176445505770381,
          0.8137507414524221,
          0.8154298173646346,
          0.81029582826127,
          0.8131300474734079,
          0.8158306253503135,
          0.8160038554884494,
          0.8140051394125558,
          0.8152531607107851,
          0.8126645609967789,
          0.8145321554969346,
          0.8139219061906081,
          0.814581778527969,
          0.8120285982290533
         ]
        },
        {
         "mode": "lines",
         "name": "Best Value",
         "type": "scatter",
         "x": [
          0,
          1,
          2,
          3,
          4,
          5,
          6,
          7,
          8,
          9,
          10,
          11,
          12,
          13,
          14,
          15,
          16,
          17,
          18,
          19,
          20,
          21,
          22,
          23,
          24,
          25,
          26,
          27,
          28,
          29,
          30,
          31,
          32,
          33,
          34,
          35,
          36,
          37,
          38,
          39,
          40,
          41,
          42,
          43,
          44,
          45,
          46,
          47,
          48,
          49,
          50,
          51,
          52,
          53,
          54,
          55,
          56,
          57,
          58,
          59,
          60,
          61,
          62,
          63,
          64,
          65,
          66,
          67,
          68,
          69,
          70,
          71,
          72,
          73,
          74,
          75,
          76,
          77,
          78,
          79,
          80,
          81,
          82,
          83,
          84,
          85,
          86,
          87,
          88,
          89,
          90,
          91,
          92,
          93,
          94,
          95,
          96,
          97,
          98,
          99
         ],
         "y": [
          0.7276248308437891,
          0.7977268163153175,
          0.8056386389291366,
          0.8056386389291366,
          0.8056386389291366,
          0.8056386389291366,
          0.8056386389291366,
          0.8056386389291366,
          0.8056386389291366,
          0.807751469859239,
          0.809131637793717,
          0.809131637793717,
          0.809131637793717,
          0.809131637793717,
          0.809131637793717,
          0.809131637793717,
          0.809131637793717,
          0.809131637793717,
          0.809131637793717,
          0.809131637793717,
          0.809131637793717,
          0.809131637793717,
          0.809131637793717,
          0.8125846418759834,
          0.8125846418759834,
          0.8125846418759834,
          0.8125846418759834,
          0.8125846418759834,
          0.8125846418759834,
          0.8125846418759834,
          0.8125846418759834,
          0.8125846418759834,
          0.8125846418759834,
          0.8125846418759834,
          0.8125846418759834,
          0.8125846418759834,
          0.8149321500165314,
          0.8149321500165314,
          0.8149321500165314,
          0.8149321500165314,
          0.8149321500165314,
          0.8149321500165314,
          0.8149321500165314,
          0.8149321500165314,
          0.8149321500165314,
          0.8149321500165314,
          0.8149321500165314,
          0.8149321500165314,
          0.8149321500165314,
          0.8149321500165314,
          0.8149321500165314,
          0.8149321500165314,
          0.8149321500165314,
          0.8149321500165314,
          0.8149321500165314,
          0.8149321500165314,
          0.8149321500165314,
          0.8149321500165314,
          0.8149321500165314,
          0.8149321500165314,
          0.8149321500165314,
          0.8149321500165314,
          0.8149321500165314,
          0.8169300449210075,
          0.8169411149917256,
          0.8169411149917256,
          0.8169411149917256,
          0.8169411149917256,
          0.8172851544084103,
          0.8172851544084103,
          0.8172851544084103,
          0.8172851544084103,
          0.8172851544084103,
          0.8172851544084103,
          0.8172851544084103,
          0.8173159119002863,
          0.8173159119002863,
          0.8173159119002863,
          0.8173159119002863,
          0.8173159119002863,
          0.8173159119002863,
          0.8173159119002863,
          0.8173159119002863,
          0.8173159119002863,
          0.8173159119002863,
          0.8173159119002863,
          0.8176445505770381,
          0.8176445505770381,
          0.8176445505770381,
          0.8176445505770381,
          0.8176445505770381,
          0.8176445505770381,
          0.8176445505770381,
          0.8176445505770381,
          0.8176445505770381,
          0.8176445505770381,
          0.8176445505770381,
          0.8176445505770381,
          0.8176445505770381,
          0.8176445505770381
         ]
        },
        {
         "marker": {
          "color": "#cccccc"
         },
         "mode": "markers",
         "name": "Infeasible Trial",
         "showlegend": false,
         "type": "scatter",
         "x": [],
         "y": []
        }
       ],
       "layout": {
        "template": {
         "data": {
          "bar": [
           {
            "error_x": {
             "color": "#2a3f5f"
            },
            "error_y": {
             "color": "#2a3f5f"
            },
            "marker": {
             "line": {
              "color": "#E5ECF6",
              "width": 0.5
             },
             "pattern": {
              "fillmode": "overlay",
              "size": 10,
              "solidity": 0.2
             }
            },
            "type": "bar"
           }
          ],
          "barpolar": [
           {
            "marker": {
             "line": {
              "color": "#E5ECF6",
              "width": 0.5
             },
             "pattern": {
              "fillmode": "overlay",
              "size": 10,
              "solidity": 0.2
             }
            },
            "type": "barpolar"
           }
          ],
          "carpet": [
           {
            "aaxis": {
             "endlinecolor": "#2a3f5f",
             "gridcolor": "white",
             "linecolor": "white",
             "minorgridcolor": "white",
             "startlinecolor": "#2a3f5f"
            },
            "baxis": {
             "endlinecolor": "#2a3f5f",
             "gridcolor": "white",
             "linecolor": "white",
             "minorgridcolor": "white",
             "startlinecolor": "#2a3f5f"
            },
            "type": "carpet"
           }
          ],
          "choropleth": [
           {
            "colorbar": {
             "outlinewidth": 0,
             "ticks": ""
            },
            "type": "choropleth"
           }
          ],
          "contour": [
           {
            "colorbar": {
             "outlinewidth": 0,
             "ticks": ""
            },
            "colorscale": [
             [
              0,
              "#0d0887"
             ],
             [
              0.1111111111111111,
              "#46039f"
             ],
             [
              0.2222222222222222,
              "#7201a8"
             ],
             [
              0.3333333333333333,
              "#9c179e"
             ],
             [
              0.4444444444444444,
              "#bd3786"
             ],
             [
              0.5555555555555556,
              "#d8576b"
             ],
             [
              0.6666666666666666,
              "#ed7953"
             ],
             [
              0.7777777777777778,
              "#fb9f3a"
             ],
             [
              0.8888888888888888,
              "#fdca26"
             ],
             [
              1,
              "#f0f921"
             ]
            ],
            "type": "contour"
           }
          ],
          "contourcarpet": [
           {
            "colorbar": {
             "outlinewidth": 0,
             "ticks": ""
            },
            "type": "contourcarpet"
           }
          ],
          "heatmap": [
           {
            "colorbar": {
             "outlinewidth": 0,
             "ticks": ""
            },
            "colorscale": [
             [
              0,
              "#0d0887"
             ],
             [
              0.1111111111111111,
              "#46039f"
             ],
             [
              0.2222222222222222,
              "#7201a8"
             ],
             [
              0.3333333333333333,
              "#9c179e"
             ],
             [
              0.4444444444444444,
              "#bd3786"
             ],
             [
              0.5555555555555556,
              "#d8576b"
             ],
             [
              0.6666666666666666,
              "#ed7953"
             ],
             [
              0.7777777777777778,
              "#fb9f3a"
             ],
             [
              0.8888888888888888,
              "#fdca26"
             ],
             [
              1,
              "#f0f921"
             ]
            ],
            "type": "heatmap"
           }
          ],
          "heatmapgl": [
           {
            "colorbar": {
             "outlinewidth": 0,
             "ticks": ""
            },
            "colorscale": [
             [
              0,
              "#0d0887"
             ],
             [
              0.1111111111111111,
              "#46039f"
             ],
             [
              0.2222222222222222,
              "#7201a8"
             ],
             [
              0.3333333333333333,
              "#9c179e"
             ],
             [
              0.4444444444444444,
              "#bd3786"
             ],
             [
              0.5555555555555556,
              "#d8576b"
             ],
             [
              0.6666666666666666,
              "#ed7953"
             ],
             [
              0.7777777777777778,
              "#fb9f3a"
             ],
             [
              0.8888888888888888,
              "#fdca26"
             ],
             [
              1,
              "#f0f921"
             ]
            ],
            "type": "heatmapgl"
           }
          ],
          "histogram": [
           {
            "marker": {
             "pattern": {
              "fillmode": "overlay",
              "size": 10,
              "solidity": 0.2
             }
            },
            "type": "histogram"
           }
          ],
          "histogram2d": [
           {
            "colorbar": {
             "outlinewidth": 0,
             "ticks": ""
            },
            "colorscale": [
             [
              0,
              "#0d0887"
             ],
             [
              0.1111111111111111,
              "#46039f"
             ],
             [
              0.2222222222222222,
              "#7201a8"
             ],
             [
              0.3333333333333333,
              "#9c179e"
             ],
             [
              0.4444444444444444,
              "#bd3786"
             ],
             [
              0.5555555555555556,
              "#d8576b"
             ],
             [
              0.6666666666666666,
              "#ed7953"
             ],
             [
              0.7777777777777778,
              "#fb9f3a"
             ],
             [
              0.8888888888888888,
              "#fdca26"
             ],
             [
              1,
              "#f0f921"
             ]
            ],
            "type": "histogram2d"
           }
          ],
          "histogram2dcontour": [
           {
            "colorbar": {
             "outlinewidth": 0,
             "ticks": ""
            },
            "colorscale": [
             [
              0,
              "#0d0887"
             ],
             [
              0.1111111111111111,
              "#46039f"
             ],
             [
              0.2222222222222222,
              "#7201a8"
             ],
             [
              0.3333333333333333,
              "#9c179e"
             ],
             [
              0.4444444444444444,
              "#bd3786"
             ],
             [
              0.5555555555555556,
              "#d8576b"
             ],
             [
              0.6666666666666666,
              "#ed7953"
             ],
             [
              0.7777777777777778,
              "#fb9f3a"
             ],
             [
              0.8888888888888888,
              "#fdca26"
             ],
             [
              1,
              "#f0f921"
             ]
            ],
            "type": "histogram2dcontour"
           }
          ],
          "mesh3d": [
           {
            "colorbar": {
             "outlinewidth": 0,
             "ticks": ""
            },
            "type": "mesh3d"
           }
          ],
          "parcoords": [
           {
            "line": {
             "colorbar": {
              "outlinewidth": 0,
              "ticks": ""
             }
            },
            "type": "parcoords"
           }
          ],
          "pie": [
           {
            "automargin": true,
            "type": "pie"
           }
          ],
          "scatter": [
           {
            "fillpattern": {
             "fillmode": "overlay",
             "size": 10,
             "solidity": 0.2
            },
            "type": "scatter"
           }
          ],
          "scatter3d": [
           {
            "line": {
             "colorbar": {
              "outlinewidth": 0,
              "ticks": ""
             }
            },
            "marker": {
             "colorbar": {
              "outlinewidth": 0,
              "ticks": ""
             }
            },
            "type": "scatter3d"
           }
          ],
          "scattercarpet": [
           {
            "marker": {
             "colorbar": {
              "outlinewidth": 0,
              "ticks": ""
             }
            },
            "type": "scattercarpet"
           }
          ],
          "scattergeo": [
           {
            "marker": {
             "colorbar": {
              "outlinewidth": 0,
              "ticks": ""
             }
            },
            "type": "scattergeo"
           }
          ],
          "scattergl": [
           {
            "marker": {
             "colorbar": {
              "outlinewidth": 0,
              "ticks": ""
             }
            },
            "type": "scattergl"
           }
          ],
          "scattermapbox": [
           {
            "marker": {
             "colorbar": {
              "outlinewidth": 0,
              "ticks": ""
             }
            },
            "type": "scattermapbox"
           }
          ],
          "scatterpolar": [
           {
            "marker": {
             "colorbar": {
              "outlinewidth": 0,
              "ticks": ""
             }
            },
            "type": "scatterpolar"
           }
          ],
          "scatterpolargl": [
           {
            "marker": {
             "colorbar": {
              "outlinewidth": 0,
              "ticks": ""
             }
            },
            "type": "scatterpolargl"
           }
          ],
          "scatterternary": [
           {
            "marker": {
             "colorbar": {
              "outlinewidth": 0,
              "ticks": ""
             }
            },
            "type": "scatterternary"
           }
          ],
          "surface": [
           {
            "colorbar": {
             "outlinewidth": 0,
             "ticks": ""
            },
            "colorscale": [
             [
              0,
              "#0d0887"
             ],
             [
              0.1111111111111111,
              "#46039f"
             ],
             [
              0.2222222222222222,
              "#7201a8"
             ],
             [
              0.3333333333333333,
              "#9c179e"
             ],
             [
              0.4444444444444444,
              "#bd3786"
             ],
             [
              0.5555555555555556,
              "#d8576b"
             ],
             [
              0.6666666666666666,
              "#ed7953"
             ],
             [
              0.7777777777777778,
              "#fb9f3a"
             ],
             [
              0.8888888888888888,
              "#fdca26"
             ],
             [
              1,
              "#f0f921"
             ]
            ],
            "type": "surface"
           }
          ],
          "table": [
           {
            "cells": {
             "fill": {
              "color": "#EBF0F8"
             },
             "line": {
              "color": "white"
             }
            },
            "header": {
             "fill": {
              "color": "#C8D4E3"
             },
             "line": {
              "color": "white"
             }
            },
            "type": "table"
           }
          ]
         },
         "layout": {
          "annotationdefaults": {
           "arrowcolor": "#2a3f5f",
           "arrowhead": 0,
           "arrowwidth": 1
          },
          "autotypenumbers": "strict",
          "coloraxis": {
           "colorbar": {
            "outlinewidth": 0,
            "ticks": ""
           }
          },
          "colorscale": {
           "diverging": [
            [
             0,
             "#8e0152"
            ],
            [
             0.1,
             "#c51b7d"
            ],
            [
             0.2,
             "#de77ae"
            ],
            [
             0.3,
             "#f1b6da"
            ],
            [
             0.4,
             "#fde0ef"
            ],
            [
             0.5,
             "#f7f7f7"
            ],
            [
             0.6,
             "#e6f5d0"
            ],
            [
             0.7,
             "#b8e186"
            ],
            [
             0.8,
             "#7fbc41"
            ],
            [
             0.9,
             "#4d9221"
            ],
            [
             1,
             "#276419"
            ]
           ],
           "sequential": [
            [
             0,
             "#0d0887"
            ],
            [
             0.1111111111111111,
             "#46039f"
            ],
            [
             0.2222222222222222,
             "#7201a8"
            ],
            [
             0.3333333333333333,
             "#9c179e"
            ],
            [
             0.4444444444444444,
             "#bd3786"
            ],
            [
             0.5555555555555556,
             "#d8576b"
            ],
            [
             0.6666666666666666,
             "#ed7953"
            ],
            [
             0.7777777777777778,
             "#fb9f3a"
            ],
            [
             0.8888888888888888,
             "#fdca26"
            ],
            [
             1,
             "#f0f921"
            ]
           ],
           "sequentialminus": [
            [
             0,
             "#0d0887"
            ],
            [
             0.1111111111111111,
             "#46039f"
            ],
            [
             0.2222222222222222,
             "#7201a8"
            ],
            [
             0.3333333333333333,
             "#9c179e"
            ],
            [
             0.4444444444444444,
             "#bd3786"
            ],
            [
             0.5555555555555556,
             "#d8576b"
            ],
            [
             0.6666666666666666,
             "#ed7953"
            ],
            [
             0.7777777777777778,
             "#fb9f3a"
            ],
            [
             0.8888888888888888,
             "#fdca26"
            ],
            [
             1,
             "#f0f921"
            ]
           ]
          },
          "colorway": [
           "#636efa",
           "#EF553B",
           "#00cc96",
           "#ab63fa",
           "#FFA15A",
           "#19d3f3",
           "#FF6692",
           "#B6E880",
           "#FF97FF",
           "#FECB52"
          ],
          "font": {
           "color": "#2a3f5f"
          },
          "geo": {
           "bgcolor": "white",
           "lakecolor": "white",
           "landcolor": "#E5ECF6",
           "showlakes": true,
           "showland": true,
           "subunitcolor": "white"
          },
          "hoverlabel": {
           "align": "left"
          },
          "hovermode": "closest",
          "mapbox": {
           "style": "light"
          },
          "paper_bgcolor": "white",
          "plot_bgcolor": "#E5ECF6",
          "polar": {
           "angularaxis": {
            "gridcolor": "white",
            "linecolor": "white",
            "ticks": ""
           },
           "bgcolor": "#E5ECF6",
           "radialaxis": {
            "gridcolor": "white",
            "linecolor": "white",
            "ticks": ""
           }
          },
          "scene": {
           "xaxis": {
            "backgroundcolor": "#E5ECF6",
            "gridcolor": "white",
            "gridwidth": 2,
            "linecolor": "white",
            "showbackground": true,
            "ticks": "",
            "zerolinecolor": "white"
           },
           "yaxis": {
            "backgroundcolor": "#E5ECF6",
            "gridcolor": "white",
            "gridwidth": 2,
            "linecolor": "white",
            "showbackground": true,
            "ticks": "",
            "zerolinecolor": "white"
           },
           "zaxis": {
            "backgroundcolor": "#E5ECF6",
            "gridcolor": "white",
            "gridwidth": 2,
            "linecolor": "white",
            "showbackground": true,
            "ticks": "",
            "zerolinecolor": "white"
           }
          },
          "shapedefaults": {
           "line": {
            "color": "#2a3f5f"
           }
          },
          "ternary": {
           "aaxis": {
            "gridcolor": "white",
            "linecolor": "white",
            "ticks": ""
           },
           "baxis": {
            "gridcolor": "white",
            "linecolor": "white",
            "ticks": ""
           },
           "bgcolor": "#E5ECF6",
           "caxis": {
            "gridcolor": "white",
            "linecolor": "white",
            "ticks": ""
           }
          },
          "title": {
           "x": 0.05
          },
          "xaxis": {
           "automargin": true,
           "gridcolor": "white",
           "linecolor": "white",
           "ticks": "",
           "title": {
            "standoff": 15
           },
           "zerolinecolor": "white",
           "zerolinewidth": 2
          },
          "yaxis": {
           "automargin": true,
           "gridcolor": "white",
           "linecolor": "white",
           "ticks": "",
           "title": {
            "standoff": 15
           },
           "zerolinecolor": "white",
           "zerolinewidth": 2
          }
         }
        },
        "title": {
         "text": "Optimization History Plot"
        },
        "xaxis": {
         "title": {
          "text": "Trial"
         }
        },
        "yaxis": {
         "title": {
          "text": "Objective Value"
         }
        }
       }
      }
     },
     "metadata": {},
     "output_type": "display_data"
    }
   ],
   "source": [
    "optuna.visualization.plot_optimization_history(study)"
   ]
  },
  {
   "cell_type": "code",
   "execution_count": 38,
   "metadata": {},
   "outputs": [
    {
     "data": {
      "application/vnd.plotly.v1+json": {
       "config": {
        "plotlyServerURL": "https://plot.ly"
       },
       "data": [
        {
         "marker": {
          "color": [
           0,
           1,
           2,
           3,
           4,
           5,
           6,
           7,
           8,
           9,
           10,
           11,
           12,
           13,
           14,
           15,
           16,
           17,
           18,
           19,
           20,
           21,
           22,
           23,
           24,
           25,
           26,
           27,
           28,
           29,
           30,
           31,
           32,
           33,
           34,
           35,
           36,
           37,
           38,
           39,
           40,
           41,
           42,
           43,
           44,
           45,
           46,
           47,
           48,
           49,
           50,
           51,
           52,
           53,
           54,
           55,
           56,
           57,
           58,
           59,
           60,
           61,
           62,
           63,
           64,
           65,
           66,
           67,
           68,
           69,
           70,
           71,
           72,
           73,
           74,
           75,
           76,
           77,
           78,
           79,
           80,
           81,
           82,
           83,
           84,
           85,
           86,
           87,
           88,
           89,
           90,
           91,
           92,
           93,
           94,
           95,
           96,
           97,
           98,
           99
          ],
          "colorbar": {
           "title": {
            "text": "Trial"
           },
           "x": 1,
           "xpad": 40
          },
          "colorscale": [
           [
            0,
            "rgb(247,251,255)"
           ],
           [
            0.125,
            "rgb(222,235,247)"
           ],
           [
            0.25,
            "rgb(198,219,239)"
           ],
           [
            0.375,
            "rgb(158,202,225)"
           ],
           [
            0.5,
            "rgb(107,174,214)"
           ],
           [
            0.625,
            "rgb(66,146,198)"
           ],
           [
            0.75,
            "rgb(33,113,181)"
           ],
           [
            0.875,
            "rgb(8,81,156)"
           ],
           [
            1,
            "rgb(8,48,107)"
           ]
          ],
          "line": {
           "color": "Grey",
           "width": 0.5
          },
          "showscale": true
         },
         "mode": "markers",
         "name": "Feasible Trial",
         "showlegend": false,
         "type": "scatter",
         "x": [
          0.02453297656303739,
          0.011471000579654429,
          0.02826175849607238,
          0.012225394771158719,
          0.020140962998511078,
          0.02568182827742291,
          0.022455414190597895,
          0.01647286504814161,
          0.012386011839831243,
          0.034048691060796915,
          0.06345819766930745,
          0.05745560325435642,
          0.0487545136479361,
          0.09572001378065356,
          0.04350554806464157,
          0.07896522019180995,
          0.03821456885139236,
          0.06442278097872732,
          0.035964479963088165,
          0.06672589374304093,
          0.032405410482103165,
          0.057252172527176855,
          0.04955376230566093,
          0.0823653960924905,
          0.08227066747263653,
          0.09258235240941129,
          0.09628380633509352,
          0.06761212915217343,
          0.08473279681263039,
          0.07352568366782548,
          0.0999910103205168,
          0.056686732488988874,
          0.08254189838335245,
          0.08574158940810785,
          0.08621432093581444,
          0.0747675845462684,
          0.0908426219969301,
          0.07151926673836011,
          0.05086016446469082,
          0.043694210155388026,
          0.03950749230150672,
          0.04246962282212371,
          0.029073941355042106,
          0.041444896993336734,
          0.018993371038038765,
          0.026323280920407473,
          0.06951496117371622,
          0.06021480788278626,
          0.01058327334508766,
          0.05312863974176188,
          0.052814606229956325,
          0.046341721423825054,
          0.04656774775620196,
          0.07498078168647472,
          0.04590405172229667,
          0.053153343578429754,
          0.06348042116396989,
          0.035729646619169615,
          0.0608987923051915,
          0.09033968504993782,
          0.09053808226104265,
          0.0919748615614829,
          0.08995999980401866,
          0.09157969124194265,
          0.0918455288282379,
          0.09985890490406385,
          0.09989690128379043,
          0.07860197686315007,
          0.09884840440336061,
          0.09400375287825001,
          0.09975202731621369,
          0.09865081454848317,
          0.0992309169186713,
          0.07891095049272556,
          0.09771975757371114,
          0.09990836626654874,
          0.014000005969966091,
          0.08510955092868583,
          0.07752581383835404,
          0.08605442659986988,
          0.08128761432314842,
          0.09691516998353344,
          0.08140945817959742,
          0.08033143684173945,
          0.07142743468905428,
          0.08784881406649452,
          0.08823808134018762,
          0.09414719963603298,
          0.09450098800211906,
          0.06713835903926554,
          0.08481265626162282,
          0.08820892027113585,
          0.07606069923375267,
          0.09431024399058273,
          0.0759612961401461,
          0.08343263991593416,
          0.09484083209132661,
          0.07275019411357235,
          0.0897183408950578,
          0.08177211975173139
         ],
         "xaxis": "x",
         "y": [
          0.7276248308437891,
          0.7977268163153175,
          0.8056386389291366,
          0.730558601585154,
          0.7316018061236207,
          0.7957360811456973,
          0.8019595654929603,
          0.7855163194315602,
          0.7384146883771896,
          0.807751469859239,
          0.809131637793717,
          0.8072661769075257,
          0.8066913542711699,
          0.7843677996150902,
          0.8056999580181738,
          0.8042096389225689,
          0.8064420682976664,
          0.8031166231082796,
          0.8067430318467139,
          0.7903534906420132,
          0.7448204244068971,
          0.8062551940240201,
          0.8039014787792432,
          0.8125846418759834,
          0.8036935159237858,
          0.8098595224207827,
          0.80595427299585,
          0.7959358107833789,
          0.8049300135570547,
          0.7366900110379453,
          0.8046172503575667,
          0.8065158258257759,
          0.8107710475282299,
          0.8091365666588128,
          0.8097341108949261,
          0.8042367135042274,
          0.8149321500165314,
          0.8116792307330923,
          0.8112266645339735,
          0.8117800773571565,
          0.8113058933652464,
          0.8085254423102173,
          0.8102113700753566,
          0.8075632355108366,
          0.7882570939212828,
          0.8026801844528432,
          0.8106226882596894,
          0.810830283813065,
          0.7882180621955316,
          0.8133661709460644,
          0.7976610137317142,
          0.8118662852607764,
          0.8107430415220325,
          0.811448452397423,
          0.8095220661069622,
          0.7999554865169569,
          0.8101684337209658,
          0.804357115547303,
          0.8089892963863423,
          0.8129720995136631,
          0.8145193694755374,
          0.8136593036668602,
          0.8146687993871508,
          0.8169300449210075,
          0.8169411149917256,
          0.8163066669185438,
          0.815032470694874,
          0.8136718270833146,
          0.8172851544084103,
          0.8128163849560357,
          0.8156367327257328,
          0.8156338878312788,
          0.8127810907551247,
          0.8130579714654328,
          0.8160255116736627,
          0.8173159119002863,
          0.7498334130706384,
          0.815616902010099,
          0.8155706854698291,
          0.8070553802195578,
          0.8163232443105265,
          0.8167514046956603,
          0.8156972679330368,
          0.8145055466815455,
          0.8149232522826981,
          0.8159384661129595,
          0.8176445505770381,
          0.8137507414524221,
          0.8154298173646346,
          0.81029582826127,
          0.8131300474734079,
          0.8158306253503135,
          0.8160038554884494,
          0.8140051394125558,
          0.8152531607107851,
          0.8126645609967789,
          0.8145321554969346,
          0.8139219061906081,
          0.814581778527969,
          0.8120285982290533
         ],
         "yaxis": "y"
        },
        {
         "marker": {
          "color": [
           0,
           1,
           2,
           3,
           4,
           5,
           6,
           7,
           8,
           9,
           10,
           11,
           12,
           13,
           14,
           15,
           16,
           17,
           18,
           19,
           20,
           21,
           22,
           23,
           24,
           25,
           26,
           27,
           28,
           29,
           30,
           31,
           32,
           33,
           34,
           35,
           36,
           37,
           38,
           39,
           40,
           41,
           42,
           43,
           44,
           45,
           46,
           47,
           48,
           49,
           50,
           51,
           52,
           53,
           54,
           55,
           56,
           57,
           58,
           59,
           60,
           61,
           62,
           63,
           64,
           65,
           66,
           67,
           68,
           69,
           70,
           71,
           72,
           73,
           74,
           75,
           76,
           77,
           78,
           79,
           80,
           81,
           82,
           83,
           84,
           85,
           86,
           87,
           88,
           89,
           90,
           91,
           92,
           93,
           94,
           95,
           96,
           97,
           98,
           99
          ],
          "colorbar": {
           "title": {
            "text": "Trial"
           },
           "x": 1,
           "xpad": 40
          },
          "colorscale": [
           [
            0,
            "rgb(247,251,255)"
           ],
           [
            0.125,
            "rgb(222,235,247)"
           ],
           [
            0.25,
            "rgb(198,219,239)"
           ],
           [
            0.375,
            "rgb(158,202,225)"
           ],
           [
            0.5,
            "rgb(107,174,214)"
           ],
           [
            0.625,
            "rgb(66,146,198)"
           ],
           [
            0.75,
            "rgb(33,113,181)"
           ],
           [
            0.875,
            "rgb(8,81,156)"
           ],
           [
            1,
            "rgb(8,48,107)"
           ]
          ],
          "line": {
           "color": "Grey",
           "width": 0.5
          },
          "showscale": false
         },
         "mode": "markers",
         "name": "Feasible Trial",
         "showlegend": false,
         "type": "scatter",
         "x": [
          1,
          5,
          9,
          7,
          1,
          1,
          11,
          5,
          12,
          4,
          4,
          3,
          4,
          7,
          3,
          6,
          3,
          9,
          8,
          5,
          2,
          3,
          4,
          4,
          6,
          4,
          2,
          5,
          2,
          4,
          6,
          4,
          5,
          5,
          5,
          7,
          8,
          8,
          9,
          9,
          10,
          10,
          10,
          8,
          8,
          10,
          11,
          11,
          9,
          8,
          7,
          8,
          8,
          7,
          8,
          9,
          8,
          9,
          7,
          9,
          9,
          9,
          10,
          12,
          12,
          12,
          12,
          12,
          12,
          12,
          12,
          12,
          12,
          12,
          11,
          11,
          11,
          11,
          11,
          12,
          12,
          12,
          12,
          11,
          11,
          12,
          11,
          11,
          11,
          12,
          11,
          12,
          12,
          12,
          11,
          12,
          12,
          10,
          11,
          12
         ],
         "xaxis": "x2",
         "y": [
          0.7276248308437891,
          0.7977268163153175,
          0.8056386389291366,
          0.730558601585154,
          0.7316018061236207,
          0.7957360811456973,
          0.8019595654929603,
          0.7855163194315602,
          0.7384146883771896,
          0.807751469859239,
          0.809131637793717,
          0.8072661769075257,
          0.8066913542711699,
          0.7843677996150902,
          0.8056999580181738,
          0.8042096389225689,
          0.8064420682976664,
          0.8031166231082796,
          0.8067430318467139,
          0.7903534906420132,
          0.7448204244068971,
          0.8062551940240201,
          0.8039014787792432,
          0.8125846418759834,
          0.8036935159237858,
          0.8098595224207827,
          0.80595427299585,
          0.7959358107833789,
          0.8049300135570547,
          0.7366900110379453,
          0.8046172503575667,
          0.8065158258257759,
          0.8107710475282299,
          0.8091365666588128,
          0.8097341108949261,
          0.8042367135042274,
          0.8149321500165314,
          0.8116792307330923,
          0.8112266645339735,
          0.8117800773571565,
          0.8113058933652464,
          0.8085254423102173,
          0.8102113700753566,
          0.8075632355108366,
          0.7882570939212828,
          0.8026801844528432,
          0.8106226882596894,
          0.810830283813065,
          0.7882180621955316,
          0.8133661709460644,
          0.7976610137317142,
          0.8118662852607764,
          0.8107430415220325,
          0.811448452397423,
          0.8095220661069622,
          0.7999554865169569,
          0.8101684337209658,
          0.804357115547303,
          0.8089892963863423,
          0.8129720995136631,
          0.8145193694755374,
          0.8136593036668602,
          0.8146687993871508,
          0.8169300449210075,
          0.8169411149917256,
          0.8163066669185438,
          0.815032470694874,
          0.8136718270833146,
          0.8172851544084103,
          0.8128163849560357,
          0.8156367327257328,
          0.8156338878312788,
          0.8127810907551247,
          0.8130579714654328,
          0.8160255116736627,
          0.8173159119002863,
          0.7498334130706384,
          0.815616902010099,
          0.8155706854698291,
          0.8070553802195578,
          0.8163232443105265,
          0.8167514046956603,
          0.8156972679330368,
          0.8145055466815455,
          0.8149232522826981,
          0.8159384661129595,
          0.8176445505770381,
          0.8137507414524221,
          0.8154298173646346,
          0.81029582826127,
          0.8131300474734079,
          0.8158306253503135,
          0.8160038554884494,
          0.8140051394125558,
          0.8152531607107851,
          0.8126645609967789,
          0.8145321554969346,
          0.8139219061906081,
          0.814581778527969,
          0.8120285982290533
         ],
         "yaxis": "y2"
        },
        {
         "marker": {
          "color": [
           0,
           1,
           2,
           3,
           4,
           5,
           6,
           7,
           8,
           9,
           10,
           11,
           12,
           13,
           14,
           15,
           16,
           17,
           18,
           19,
           20,
           21,
           22,
           23,
           24,
           25,
           26,
           27,
           28,
           29,
           30,
           31,
           32,
           33,
           34,
           35,
           36,
           37,
           38,
           39,
           40,
           41,
           42,
           43,
           44,
           45,
           46,
           47,
           48,
           49,
           50,
           51,
           52,
           53,
           54,
           55,
           56,
           57,
           58,
           59,
           60,
           61,
           62,
           63,
           64,
           65,
           66,
           67,
           68,
           69,
           70,
           71,
           72,
           73,
           74,
           75,
           76,
           77,
           78,
           79,
           80,
           81,
           82,
           83,
           84,
           85,
           86,
           87,
           88,
           89,
           90,
           91,
           92,
           93,
           94,
           95,
           96,
           97,
           98,
           99
          ],
          "colorbar": {
           "title": {
            "text": "Trial"
           },
           "x": 1,
           "xpad": 40
          },
          "colorscale": [
           [
            0,
            "rgb(247,251,255)"
           ],
           [
            0.125,
            "rgb(222,235,247)"
           ],
           [
            0.25,
            "rgb(198,219,239)"
           ],
           [
            0.375,
            "rgb(158,202,225)"
           ],
           [
            0.5,
            "rgb(107,174,214)"
           ],
           [
            0.625,
            "rgb(66,146,198)"
           ],
           [
            0.75,
            "rgb(33,113,181)"
           ],
           [
            0.875,
            "rgb(8,81,156)"
           ],
           [
            1,
            "rgb(8,48,107)"
           ]
          ],
          "line": {
           "color": "Grey",
           "width": 0.5
          },
          "showscale": false
         },
         "mode": "markers",
         "name": "Feasible Trial",
         "showlegend": false,
         "type": "scatter",
         "x": [
          0.002076353848732037,
          0.4379099216302617,
          0.41724204956832767,
          0.005583866556433495,
          0.0052484834175615365,
          0.26900202162625325,
          0.08453276661370922,
          0.14328369914811298,
          0.001208651490338985,
          0.38017752384838194,
          0.029701543389949552,
          0.02544840623231765,
          0.026665723502558577,
          0.9004603335174581,
          0.057134530407938644,
          0.01203655285140881,
          0.06085139386735597,
          0.013131857956747215,
          0.13115938756717105,
          0.9017084468556071,
          0.012050446196025338,
          0.03026315632771391,
          0.019121313509344904,
          0.04838979231006747,
          0.18207967030697578,
          0.04898600801684359,
          0.06299195510733924,
          0.0076712179633605685,
          0.042807026655425594,
          0.002953189136046512,
          0.09925450129064638,
          0.24166226269907376,
          0.04002482865983832,
          0.03910560820301083,
          0.04341599968442469,
          0.01696186221406608,
          0.08552803940812516,
          0.08205308653523802,
          0.10070718418144597,
          0.09202152952464468,
          0.17986056494345917,
          0.1964864090601406,
          0.3596766138082,
          0.07883768193527894,
          0.1338107949311004,
          0.5100193057688003,
          0.0855230625277156,
          0.14904327552961044,
          0.3296670184989103,
          0.11054474523316159,
          0.5283469012004681,
          0.06937722684425932,
          0.07427315880395115,
          0.10955932454391519,
          0.06465410907943893,
          0.02212294337488933,
          0.11313083555825308,
          0.2511759881613252,
          0.054524291760060045,
          0.08687311352403752,
          0.03196470769156953,
          0.03610221375676394,
          0.024713009047547512,
          0.03164368762305887,
          0.03481132516186627,
          0.033761390176053035,
          0.0160244851309024,
          0.016130807140771603,
          0.025024970369097843,
          0.008918147290388976,
          0.02157923385734265,
          0.02284533056657824,
          0.009262783219996488,
          0.013627120735426847,
          0.020902221009203494,
          0.02061845168595623,
          0.02179812597646604,
          0.028879168976607965,
          0.019781842039064315,
          0.006239218068413138,
          0.034160830835846666,
          0.03345874418751804,
          0.031146357467528963,
          0.03492501475288698,
          0.049679028148320245,
          0.026835408032530227,
          0.026604871347659466,
          0.013764085140415518,
          0.04286142032720529,
          0.01829890898874696,
          0.010724958586323243,
          0.028283054770503052,
          0.03563365151387107,
          0.03736433259122154,
          0.04741673871422355,
          0.05719229240613396,
          0.024988649317049395,
          0.03179108762115343,
          0.01549055070189226,
          0.03543667574671118
         ],
         "xaxis": "x3",
         "y": [
          0.7276248308437891,
          0.7977268163153175,
          0.8056386389291366,
          0.730558601585154,
          0.7316018061236207,
          0.7957360811456973,
          0.8019595654929603,
          0.7855163194315602,
          0.7384146883771896,
          0.807751469859239,
          0.809131637793717,
          0.8072661769075257,
          0.8066913542711699,
          0.7843677996150902,
          0.8056999580181738,
          0.8042096389225689,
          0.8064420682976664,
          0.8031166231082796,
          0.8067430318467139,
          0.7903534906420132,
          0.7448204244068971,
          0.8062551940240201,
          0.8039014787792432,
          0.8125846418759834,
          0.8036935159237858,
          0.8098595224207827,
          0.80595427299585,
          0.7959358107833789,
          0.8049300135570547,
          0.7366900110379453,
          0.8046172503575667,
          0.8065158258257759,
          0.8107710475282299,
          0.8091365666588128,
          0.8097341108949261,
          0.8042367135042274,
          0.8149321500165314,
          0.8116792307330923,
          0.8112266645339735,
          0.8117800773571565,
          0.8113058933652464,
          0.8085254423102173,
          0.8102113700753566,
          0.8075632355108366,
          0.7882570939212828,
          0.8026801844528432,
          0.8106226882596894,
          0.810830283813065,
          0.7882180621955316,
          0.8133661709460644,
          0.7976610137317142,
          0.8118662852607764,
          0.8107430415220325,
          0.811448452397423,
          0.8095220661069622,
          0.7999554865169569,
          0.8101684337209658,
          0.804357115547303,
          0.8089892963863423,
          0.8129720995136631,
          0.8145193694755374,
          0.8136593036668602,
          0.8146687993871508,
          0.8169300449210075,
          0.8169411149917256,
          0.8163066669185438,
          0.815032470694874,
          0.8136718270833146,
          0.8172851544084103,
          0.8128163849560357,
          0.8156367327257328,
          0.8156338878312788,
          0.8127810907551247,
          0.8130579714654328,
          0.8160255116736627,
          0.8173159119002863,
          0.7498334130706384,
          0.815616902010099,
          0.8155706854698291,
          0.8070553802195578,
          0.8163232443105265,
          0.8167514046956603,
          0.8156972679330368,
          0.8145055466815455,
          0.8149232522826981,
          0.8159384661129595,
          0.8176445505770381,
          0.8137507414524221,
          0.8154298173646346,
          0.81029582826127,
          0.8131300474734079,
          0.8158306253503135,
          0.8160038554884494,
          0.8140051394125558,
          0.8152531607107851,
          0.8126645609967789,
          0.8145321554969346,
          0.8139219061906081,
          0.814581778527969,
          0.8120285982290533
         ],
         "yaxis": "y3"
        },
        {
         "marker": {
          "color": [
           0,
           1,
           2,
           3,
           4,
           5,
           6,
           7,
           8,
           9,
           10,
           11,
           12,
           13,
           14,
           15,
           16,
           17,
           18,
           19,
           20,
           21,
           22,
           23,
           24,
           25,
           26,
           27,
           28,
           29,
           30,
           31,
           32,
           33,
           34,
           35,
           36,
           37,
           38,
           39,
           40,
           41,
           42,
           43,
           44,
           45,
           46,
           47,
           48,
           49,
           50,
           51,
           52,
           53,
           54,
           55,
           56,
           57,
           58,
           59,
           60,
           61,
           62,
           63,
           64,
           65,
           66,
           67,
           68,
           69,
           70,
           71,
           72,
           73,
           74,
           75,
           76,
           77,
           78,
           79,
           80,
           81,
           82,
           83,
           84,
           85,
           86,
           87,
           88,
           89,
           90,
           91,
           92,
           93,
           94,
           95,
           96,
           97,
           98,
           99
          ],
          "colorbar": {
           "title": {
            "text": "Trial"
           },
           "x": 1,
           "xpad": 40
          },
          "colorscale": [
           [
            0,
            "rgb(247,251,255)"
           ],
           [
            0.125,
            "rgb(222,235,247)"
           ],
           [
            0.25,
            "rgb(198,219,239)"
           ],
           [
            0.375,
            "rgb(158,202,225)"
           ],
           [
            0.5,
            "rgb(107,174,214)"
           ],
           [
            0.625,
            "rgb(66,146,198)"
           ],
           [
            0.75,
            "rgb(33,113,181)"
           ],
           [
            0.875,
            "rgb(8,81,156)"
           ],
           [
            1,
            "rgb(8,48,107)"
           ]
          ],
          "line": {
           "color": "Grey",
           "width": 0.5
          },
          "showscale": false
         },
         "mode": "markers",
         "name": "Feasible Trial",
         "showlegend": false,
         "type": "scatter",
         "x": [
          803,
          423,
          365,
          717,
          119,
          883,
          596,
          399,
          435,
          732,
          998,
          983,
          967,
          696,
          797,
          582,
          863,
          671,
          274,
          911,
          793,
          964,
          987,
          886,
          862,
          748,
          519,
          904,
          642,
          777,
          846,
          745,
          923,
          927,
          828,
          839,
          825,
          758,
          640,
          643,
          516,
          517,
          557,
          461,
          333,
          628,
          698,
          152,
          477,
          604,
          768,
          594,
          592,
          678,
          610,
          569,
          668,
          723,
          813,
          706,
          694,
          716,
          707,
          701,
          727,
          793,
          797,
          798,
          877,
          881,
          950,
          861,
          948,
          867,
          822,
          950,
          947,
          897,
          985,
          846,
          931,
          946,
          934,
          925,
          967,
          904,
          1000,
          980,
          994,
          777,
          881,
          906,
          916,
          965,
          747,
          921,
          824,
          868,
          842,
          999
         ],
         "xaxis": "x4",
         "y": [
          0.7276248308437891,
          0.7977268163153175,
          0.8056386389291366,
          0.730558601585154,
          0.7316018061236207,
          0.7957360811456973,
          0.8019595654929603,
          0.7855163194315602,
          0.7384146883771896,
          0.807751469859239,
          0.809131637793717,
          0.8072661769075257,
          0.8066913542711699,
          0.7843677996150902,
          0.8056999580181738,
          0.8042096389225689,
          0.8064420682976664,
          0.8031166231082796,
          0.8067430318467139,
          0.7903534906420132,
          0.7448204244068971,
          0.8062551940240201,
          0.8039014787792432,
          0.8125846418759834,
          0.8036935159237858,
          0.8098595224207827,
          0.80595427299585,
          0.7959358107833789,
          0.8049300135570547,
          0.7366900110379453,
          0.8046172503575667,
          0.8065158258257759,
          0.8107710475282299,
          0.8091365666588128,
          0.8097341108949261,
          0.8042367135042274,
          0.8149321500165314,
          0.8116792307330923,
          0.8112266645339735,
          0.8117800773571565,
          0.8113058933652464,
          0.8085254423102173,
          0.8102113700753566,
          0.8075632355108366,
          0.7882570939212828,
          0.8026801844528432,
          0.8106226882596894,
          0.810830283813065,
          0.7882180621955316,
          0.8133661709460644,
          0.7976610137317142,
          0.8118662852607764,
          0.8107430415220325,
          0.811448452397423,
          0.8095220661069622,
          0.7999554865169569,
          0.8101684337209658,
          0.804357115547303,
          0.8089892963863423,
          0.8129720995136631,
          0.8145193694755374,
          0.8136593036668602,
          0.8146687993871508,
          0.8169300449210075,
          0.8169411149917256,
          0.8163066669185438,
          0.815032470694874,
          0.8136718270833146,
          0.8172851544084103,
          0.8128163849560357,
          0.8156367327257328,
          0.8156338878312788,
          0.8127810907551247,
          0.8130579714654328,
          0.8160255116736627,
          0.8173159119002863,
          0.7498334130706384,
          0.815616902010099,
          0.8155706854698291,
          0.8070553802195578,
          0.8163232443105265,
          0.8167514046956603,
          0.8156972679330368,
          0.8145055466815455,
          0.8149232522826981,
          0.8159384661129595,
          0.8176445505770381,
          0.8137507414524221,
          0.8154298173646346,
          0.81029582826127,
          0.8131300474734079,
          0.8158306253503135,
          0.8160038554884494,
          0.8140051394125558,
          0.8152531607107851,
          0.8126645609967789,
          0.8145321554969346,
          0.8139219061906081,
          0.814581778527969,
          0.8120285982290533
         ],
         "yaxis": "y4"
        }
       ],
       "layout": {
        "template": {
         "data": {
          "bar": [
           {
            "error_x": {
             "color": "#2a3f5f"
            },
            "error_y": {
             "color": "#2a3f5f"
            },
            "marker": {
             "line": {
              "color": "#E5ECF6",
              "width": 0.5
             },
             "pattern": {
              "fillmode": "overlay",
              "size": 10,
              "solidity": 0.2
             }
            },
            "type": "bar"
           }
          ],
          "barpolar": [
           {
            "marker": {
             "line": {
              "color": "#E5ECF6",
              "width": 0.5
             },
             "pattern": {
              "fillmode": "overlay",
              "size": 10,
              "solidity": 0.2
             }
            },
            "type": "barpolar"
           }
          ],
          "carpet": [
           {
            "aaxis": {
             "endlinecolor": "#2a3f5f",
             "gridcolor": "white",
             "linecolor": "white",
             "minorgridcolor": "white",
             "startlinecolor": "#2a3f5f"
            },
            "baxis": {
             "endlinecolor": "#2a3f5f",
             "gridcolor": "white",
             "linecolor": "white",
             "minorgridcolor": "white",
             "startlinecolor": "#2a3f5f"
            },
            "type": "carpet"
           }
          ],
          "choropleth": [
           {
            "colorbar": {
             "outlinewidth": 0,
             "ticks": ""
            },
            "type": "choropleth"
           }
          ],
          "contour": [
           {
            "colorbar": {
             "outlinewidth": 0,
             "ticks": ""
            },
            "colorscale": [
             [
              0,
              "#0d0887"
             ],
             [
              0.1111111111111111,
              "#46039f"
             ],
             [
              0.2222222222222222,
              "#7201a8"
             ],
             [
              0.3333333333333333,
              "#9c179e"
             ],
             [
              0.4444444444444444,
              "#bd3786"
             ],
             [
              0.5555555555555556,
              "#d8576b"
             ],
             [
              0.6666666666666666,
              "#ed7953"
             ],
             [
              0.7777777777777778,
              "#fb9f3a"
             ],
             [
              0.8888888888888888,
              "#fdca26"
             ],
             [
              1,
              "#f0f921"
             ]
            ],
            "type": "contour"
           }
          ],
          "contourcarpet": [
           {
            "colorbar": {
             "outlinewidth": 0,
             "ticks": ""
            },
            "type": "contourcarpet"
           }
          ],
          "heatmap": [
           {
            "colorbar": {
             "outlinewidth": 0,
             "ticks": ""
            },
            "colorscale": [
             [
              0,
              "#0d0887"
             ],
             [
              0.1111111111111111,
              "#46039f"
             ],
             [
              0.2222222222222222,
              "#7201a8"
             ],
             [
              0.3333333333333333,
              "#9c179e"
             ],
             [
              0.4444444444444444,
              "#bd3786"
             ],
             [
              0.5555555555555556,
              "#d8576b"
             ],
             [
              0.6666666666666666,
              "#ed7953"
             ],
             [
              0.7777777777777778,
              "#fb9f3a"
             ],
             [
              0.8888888888888888,
              "#fdca26"
             ],
             [
              1,
              "#f0f921"
             ]
            ],
            "type": "heatmap"
           }
          ],
          "heatmapgl": [
           {
            "colorbar": {
             "outlinewidth": 0,
             "ticks": ""
            },
            "colorscale": [
             [
              0,
              "#0d0887"
             ],
             [
              0.1111111111111111,
              "#46039f"
             ],
             [
              0.2222222222222222,
              "#7201a8"
             ],
             [
              0.3333333333333333,
              "#9c179e"
             ],
             [
              0.4444444444444444,
              "#bd3786"
             ],
             [
              0.5555555555555556,
              "#d8576b"
             ],
             [
              0.6666666666666666,
              "#ed7953"
             ],
             [
              0.7777777777777778,
              "#fb9f3a"
             ],
             [
              0.8888888888888888,
              "#fdca26"
             ],
             [
              1,
              "#f0f921"
             ]
            ],
            "type": "heatmapgl"
           }
          ],
          "histogram": [
           {
            "marker": {
             "pattern": {
              "fillmode": "overlay",
              "size": 10,
              "solidity": 0.2
             }
            },
            "type": "histogram"
           }
          ],
          "histogram2d": [
           {
            "colorbar": {
             "outlinewidth": 0,
             "ticks": ""
            },
            "colorscale": [
             [
              0,
              "#0d0887"
             ],
             [
              0.1111111111111111,
              "#46039f"
             ],
             [
              0.2222222222222222,
              "#7201a8"
             ],
             [
              0.3333333333333333,
              "#9c179e"
             ],
             [
              0.4444444444444444,
              "#bd3786"
             ],
             [
              0.5555555555555556,
              "#d8576b"
             ],
             [
              0.6666666666666666,
              "#ed7953"
             ],
             [
              0.7777777777777778,
              "#fb9f3a"
             ],
             [
              0.8888888888888888,
              "#fdca26"
             ],
             [
              1,
              "#f0f921"
             ]
            ],
            "type": "histogram2d"
           }
          ],
          "histogram2dcontour": [
           {
            "colorbar": {
             "outlinewidth": 0,
             "ticks": ""
            },
            "colorscale": [
             [
              0,
              "#0d0887"
             ],
             [
              0.1111111111111111,
              "#46039f"
             ],
             [
              0.2222222222222222,
              "#7201a8"
             ],
             [
              0.3333333333333333,
              "#9c179e"
             ],
             [
              0.4444444444444444,
              "#bd3786"
             ],
             [
              0.5555555555555556,
              "#d8576b"
             ],
             [
              0.6666666666666666,
              "#ed7953"
             ],
             [
              0.7777777777777778,
              "#fb9f3a"
             ],
             [
              0.8888888888888888,
              "#fdca26"
             ],
             [
              1,
              "#f0f921"
             ]
            ],
            "type": "histogram2dcontour"
           }
          ],
          "mesh3d": [
           {
            "colorbar": {
             "outlinewidth": 0,
             "ticks": ""
            },
            "type": "mesh3d"
           }
          ],
          "parcoords": [
           {
            "line": {
             "colorbar": {
              "outlinewidth": 0,
              "ticks": ""
             }
            },
            "type": "parcoords"
           }
          ],
          "pie": [
           {
            "automargin": true,
            "type": "pie"
           }
          ],
          "scatter": [
           {
            "fillpattern": {
             "fillmode": "overlay",
             "size": 10,
             "solidity": 0.2
            },
            "type": "scatter"
           }
          ],
          "scatter3d": [
           {
            "line": {
             "colorbar": {
              "outlinewidth": 0,
              "ticks": ""
             }
            },
            "marker": {
             "colorbar": {
              "outlinewidth": 0,
              "ticks": ""
             }
            },
            "type": "scatter3d"
           }
          ],
          "scattercarpet": [
           {
            "marker": {
             "colorbar": {
              "outlinewidth": 0,
              "ticks": ""
             }
            },
            "type": "scattercarpet"
           }
          ],
          "scattergeo": [
           {
            "marker": {
             "colorbar": {
              "outlinewidth": 0,
              "ticks": ""
             }
            },
            "type": "scattergeo"
           }
          ],
          "scattergl": [
           {
            "marker": {
             "colorbar": {
              "outlinewidth": 0,
              "ticks": ""
             }
            },
            "type": "scattergl"
           }
          ],
          "scattermapbox": [
           {
            "marker": {
             "colorbar": {
              "outlinewidth": 0,
              "ticks": ""
             }
            },
            "type": "scattermapbox"
           }
          ],
          "scatterpolar": [
           {
            "marker": {
             "colorbar": {
              "outlinewidth": 0,
              "ticks": ""
             }
            },
            "type": "scatterpolar"
           }
          ],
          "scatterpolargl": [
           {
            "marker": {
             "colorbar": {
              "outlinewidth": 0,
              "ticks": ""
             }
            },
            "type": "scatterpolargl"
           }
          ],
          "scatterternary": [
           {
            "marker": {
             "colorbar": {
              "outlinewidth": 0,
              "ticks": ""
             }
            },
            "type": "scatterternary"
           }
          ],
          "surface": [
           {
            "colorbar": {
             "outlinewidth": 0,
             "ticks": ""
            },
            "colorscale": [
             [
              0,
              "#0d0887"
             ],
             [
              0.1111111111111111,
              "#46039f"
             ],
             [
              0.2222222222222222,
              "#7201a8"
             ],
             [
              0.3333333333333333,
              "#9c179e"
             ],
             [
              0.4444444444444444,
              "#bd3786"
             ],
             [
              0.5555555555555556,
              "#d8576b"
             ],
             [
              0.6666666666666666,
              "#ed7953"
             ],
             [
              0.7777777777777778,
              "#fb9f3a"
             ],
             [
              0.8888888888888888,
              "#fdca26"
             ],
             [
              1,
              "#f0f921"
             ]
            ],
            "type": "surface"
           }
          ],
          "table": [
           {
            "cells": {
             "fill": {
              "color": "#EBF0F8"
             },
             "line": {
              "color": "white"
             }
            },
            "header": {
             "fill": {
              "color": "#C8D4E3"
             },
             "line": {
              "color": "white"
             }
            },
            "type": "table"
           }
          ]
         },
         "layout": {
          "annotationdefaults": {
           "arrowcolor": "#2a3f5f",
           "arrowhead": 0,
           "arrowwidth": 1
          },
          "autotypenumbers": "strict",
          "coloraxis": {
           "colorbar": {
            "outlinewidth": 0,
            "ticks": ""
           }
          },
          "colorscale": {
           "diverging": [
            [
             0,
             "#8e0152"
            ],
            [
             0.1,
             "#c51b7d"
            ],
            [
             0.2,
             "#de77ae"
            ],
            [
             0.3,
             "#f1b6da"
            ],
            [
             0.4,
             "#fde0ef"
            ],
            [
             0.5,
             "#f7f7f7"
            ],
            [
             0.6,
             "#e6f5d0"
            ],
            [
             0.7,
             "#b8e186"
            ],
            [
             0.8,
             "#7fbc41"
            ],
            [
             0.9,
             "#4d9221"
            ],
            [
             1,
             "#276419"
            ]
           ],
           "sequential": [
            [
             0,
             "#0d0887"
            ],
            [
             0.1111111111111111,
             "#46039f"
            ],
            [
             0.2222222222222222,
             "#7201a8"
            ],
            [
             0.3333333333333333,
             "#9c179e"
            ],
            [
             0.4444444444444444,
             "#bd3786"
            ],
            [
             0.5555555555555556,
             "#d8576b"
            ],
            [
             0.6666666666666666,
             "#ed7953"
            ],
            [
             0.7777777777777778,
             "#fb9f3a"
            ],
            [
             0.8888888888888888,
             "#fdca26"
            ],
            [
             1,
             "#f0f921"
            ]
           ],
           "sequentialminus": [
            [
             0,
             "#0d0887"
            ],
            [
             0.1111111111111111,
             "#46039f"
            ],
            [
             0.2222222222222222,
             "#7201a8"
            ],
            [
             0.3333333333333333,
             "#9c179e"
            ],
            [
             0.4444444444444444,
             "#bd3786"
            ],
            [
             0.5555555555555556,
             "#d8576b"
            ],
            [
             0.6666666666666666,
             "#ed7953"
            ],
            [
             0.7777777777777778,
             "#fb9f3a"
            ],
            [
             0.8888888888888888,
             "#fdca26"
            ],
            [
             1,
             "#f0f921"
            ]
           ]
          },
          "colorway": [
           "#636efa",
           "#EF553B",
           "#00cc96",
           "#ab63fa",
           "#FFA15A",
           "#19d3f3",
           "#FF6692",
           "#B6E880",
           "#FF97FF",
           "#FECB52"
          ],
          "font": {
           "color": "#2a3f5f"
          },
          "geo": {
           "bgcolor": "white",
           "lakecolor": "white",
           "landcolor": "#E5ECF6",
           "showlakes": true,
           "showland": true,
           "subunitcolor": "white"
          },
          "hoverlabel": {
           "align": "left"
          },
          "hovermode": "closest",
          "mapbox": {
           "style": "light"
          },
          "paper_bgcolor": "white",
          "plot_bgcolor": "#E5ECF6",
          "polar": {
           "angularaxis": {
            "gridcolor": "white",
            "linecolor": "white",
            "ticks": ""
           },
           "bgcolor": "#E5ECF6",
           "radialaxis": {
            "gridcolor": "white",
            "linecolor": "white",
            "ticks": ""
           }
          },
          "scene": {
           "xaxis": {
            "backgroundcolor": "#E5ECF6",
            "gridcolor": "white",
            "gridwidth": 2,
            "linecolor": "white",
            "showbackground": true,
            "ticks": "",
            "zerolinecolor": "white"
           },
           "yaxis": {
            "backgroundcolor": "#E5ECF6",
            "gridcolor": "white",
            "gridwidth": 2,
            "linecolor": "white",
            "showbackground": true,
            "ticks": "",
            "zerolinecolor": "white"
           },
           "zaxis": {
            "backgroundcolor": "#E5ECF6",
            "gridcolor": "white",
            "gridwidth": 2,
            "linecolor": "white",
            "showbackground": true,
            "ticks": "",
            "zerolinecolor": "white"
           }
          },
          "shapedefaults": {
           "line": {
            "color": "#2a3f5f"
           }
          },
          "ternary": {
           "aaxis": {
            "gridcolor": "white",
            "linecolor": "white",
            "ticks": ""
           },
           "baxis": {
            "gridcolor": "white",
            "linecolor": "white",
            "ticks": ""
           },
           "bgcolor": "#E5ECF6",
           "caxis": {
            "gridcolor": "white",
            "linecolor": "white",
            "ticks": ""
           }
          },
          "title": {
           "x": 0.05
          },
          "xaxis": {
           "automargin": true,
           "gridcolor": "white",
           "linecolor": "white",
           "ticks": "",
           "title": {
            "standoff": 15
           },
           "zerolinecolor": "white",
           "zerolinewidth": 2
          },
          "yaxis": {
           "automargin": true,
           "gridcolor": "white",
           "linecolor": "white",
           "ticks": "",
           "title": {
            "standoff": 15
           },
           "zerolinecolor": "white",
           "zerolinewidth": 2
          }
         }
        },
        "title": {
         "text": "Slice Plot"
        },
        "width": 1200,
        "xaxis": {
         "anchor": "y",
         "domain": [
          0,
          0.2125
         ],
         "title": {
          "text": "colsample_bylevel"
         },
         "type": "log"
        },
        "xaxis2": {
         "anchor": "y2",
         "domain": [
          0.2625,
          0.475
         ],
         "title": {
          "text": "depth"
         }
        },
        "xaxis3": {
         "anchor": "y3",
         "domain": [
          0.525,
          0.7375
         ],
         "title": {
          "text": "learning_rate"
         },
         "type": "log"
        },
        "xaxis4": {
         "anchor": "y4",
         "domain": [
          0.7875,
          1
         ],
         "title": {
          "text": "n_estimators"
         }
        },
        "yaxis": {
         "anchor": "x",
         "domain": [
          0,
          1
         ],
         "title": {
          "text": "Objective Value"
         }
        },
        "yaxis2": {
         "anchor": "x2",
         "domain": [
          0,
          1
         ],
         "matches": "y",
         "showticklabels": false
        },
        "yaxis3": {
         "anchor": "x3",
         "domain": [
          0,
          1
         ],
         "matches": "y",
         "showticklabels": false
        },
        "yaxis4": {
         "anchor": "x4",
         "domain": [
          0,
          1
         ],
         "matches": "y",
         "showticklabels": false
        }
       }
      }
     },
     "metadata": {},
     "output_type": "display_data"
    }
   ],
   "source": [
    "optuna.visualization.plot_slice(study, params=[\"learning_rate\", \"n_estimators\", \"colsample_bylevel\", \"depth\"])"
   ]
  },
  {
   "cell_type": "code",
   "execution_count": 39,
   "metadata": {},
   "outputs": [
    {
     "data": {
      "application/vnd.plotly.v1+json": {
       "config": {
        "plotlyServerURL": "https://plot.ly"
       },
       "data": [
        {
         "cliponaxis": false,
         "hovertemplate": [
          "boosting_type (CategoricalDistribution): 0.013583870540571176<extra></extra>",
          "bootstrap_type (CategoricalDistribution): 0.02346767949951684<extra></extra>",
          "n_estimators (IntDistribution): 0.02423283870721994<extra></extra>",
          "objective (CategoricalDistribution): 0.024534978381933126<extra></extra>",
          "depth (IntDistribution): 0.1632793053864429<extra></extra>",
          "colsample_bylevel (FloatDistribution): 0.3402125874493494<extra></extra>",
          "learning_rate (FloatDistribution): 0.41068874003496675<extra></extra>"
         ],
         "name": "Objective Value",
         "orientation": "h",
         "text": [
          "0.01",
          "0.02",
          "0.02",
          "0.02",
          "0.16",
          "0.34",
          "0.41"
         ],
         "textposition": "outside",
         "type": "bar",
         "x": [
          0.013583870540571176,
          0.02346767949951684,
          0.02423283870721994,
          0.024534978381933126,
          0.1632793053864429,
          0.3402125874493494,
          0.41068874003496675
         ],
         "y": [
          "boosting_type",
          "bootstrap_type",
          "n_estimators",
          "objective",
          "depth",
          "colsample_bylevel",
          "learning_rate"
         ]
        }
       ],
       "layout": {
        "template": {
         "data": {
          "bar": [
           {
            "error_x": {
             "color": "#2a3f5f"
            },
            "error_y": {
             "color": "#2a3f5f"
            },
            "marker": {
             "line": {
              "color": "#E5ECF6",
              "width": 0.5
             },
             "pattern": {
              "fillmode": "overlay",
              "size": 10,
              "solidity": 0.2
             }
            },
            "type": "bar"
           }
          ],
          "barpolar": [
           {
            "marker": {
             "line": {
              "color": "#E5ECF6",
              "width": 0.5
             },
             "pattern": {
              "fillmode": "overlay",
              "size": 10,
              "solidity": 0.2
             }
            },
            "type": "barpolar"
           }
          ],
          "carpet": [
           {
            "aaxis": {
             "endlinecolor": "#2a3f5f",
             "gridcolor": "white",
             "linecolor": "white",
             "minorgridcolor": "white",
             "startlinecolor": "#2a3f5f"
            },
            "baxis": {
             "endlinecolor": "#2a3f5f",
             "gridcolor": "white",
             "linecolor": "white",
             "minorgridcolor": "white",
             "startlinecolor": "#2a3f5f"
            },
            "type": "carpet"
           }
          ],
          "choropleth": [
           {
            "colorbar": {
             "outlinewidth": 0,
             "ticks": ""
            },
            "type": "choropleth"
           }
          ],
          "contour": [
           {
            "colorbar": {
             "outlinewidth": 0,
             "ticks": ""
            },
            "colorscale": [
             [
              0,
              "#0d0887"
             ],
             [
              0.1111111111111111,
              "#46039f"
             ],
             [
              0.2222222222222222,
              "#7201a8"
             ],
             [
              0.3333333333333333,
              "#9c179e"
             ],
             [
              0.4444444444444444,
              "#bd3786"
             ],
             [
              0.5555555555555556,
              "#d8576b"
             ],
             [
              0.6666666666666666,
              "#ed7953"
             ],
             [
              0.7777777777777778,
              "#fb9f3a"
             ],
             [
              0.8888888888888888,
              "#fdca26"
             ],
             [
              1,
              "#f0f921"
             ]
            ],
            "type": "contour"
           }
          ],
          "contourcarpet": [
           {
            "colorbar": {
             "outlinewidth": 0,
             "ticks": ""
            },
            "type": "contourcarpet"
           }
          ],
          "heatmap": [
           {
            "colorbar": {
             "outlinewidth": 0,
             "ticks": ""
            },
            "colorscale": [
             [
              0,
              "#0d0887"
             ],
             [
              0.1111111111111111,
              "#46039f"
             ],
             [
              0.2222222222222222,
              "#7201a8"
             ],
             [
              0.3333333333333333,
              "#9c179e"
             ],
             [
              0.4444444444444444,
              "#bd3786"
             ],
             [
              0.5555555555555556,
              "#d8576b"
             ],
             [
              0.6666666666666666,
              "#ed7953"
             ],
             [
              0.7777777777777778,
              "#fb9f3a"
             ],
             [
              0.8888888888888888,
              "#fdca26"
             ],
             [
              1,
              "#f0f921"
             ]
            ],
            "type": "heatmap"
           }
          ],
          "heatmapgl": [
           {
            "colorbar": {
             "outlinewidth": 0,
             "ticks": ""
            },
            "colorscale": [
             [
              0,
              "#0d0887"
             ],
             [
              0.1111111111111111,
              "#46039f"
             ],
             [
              0.2222222222222222,
              "#7201a8"
             ],
             [
              0.3333333333333333,
              "#9c179e"
             ],
             [
              0.4444444444444444,
              "#bd3786"
             ],
             [
              0.5555555555555556,
              "#d8576b"
             ],
             [
              0.6666666666666666,
              "#ed7953"
             ],
             [
              0.7777777777777778,
              "#fb9f3a"
             ],
             [
              0.8888888888888888,
              "#fdca26"
             ],
             [
              1,
              "#f0f921"
             ]
            ],
            "type": "heatmapgl"
           }
          ],
          "histogram": [
           {
            "marker": {
             "pattern": {
              "fillmode": "overlay",
              "size": 10,
              "solidity": 0.2
             }
            },
            "type": "histogram"
           }
          ],
          "histogram2d": [
           {
            "colorbar": {
             "outlinewidth": 0,
             "ticks": ""
            },
            "colorscale": [
             [
              0,
              "#0d0887"
             ],
             [
              0.1111111111111111,
              "#46039f"
             ],
             [
              0.2222222222222222,
              "#7201a8"
             ],
             [
              0.3333333333333333,
              "#9c179e"
             ],
             [
              0.4444444444444444,
              "#bd3786"
             ],
             [
              0.5555555555555556,
              "#d8576b"
             ],
             [
              0.6666666666666666,
              "#ed7953"
             ],
             [
              0.7777777777777778,
              "#fb9f3a"
             ],
             [
              0.8888888888888888,
              "#fdca26"
             ],
             [
              1,
              "#f0f921"
             ]
            ],
            "type": "histogram2d"
           }
          ],
          "histogram2dcontour": [
           {
            "colorbar": {
             "outlinewidth": 0,
             "ticks": ""
            },
            "colorscale": [
             [
              0,
              "#0d0887"
             ],
             [
              0.1111111111111111,
              "#46039f"
             ],
             [
              0.2222222222222222,
              "#7201a8"
             ],
             [
              0.3333333333333333,
              "#9c179e"
             ],
             [
              0.4444444444444444,
              "#bd3786"
             ],
             [
              0.5555555555555556,
              "#d8576b"
             ],
             [
              0.6666666666666666,
              "#ed7953"
             ],
             [
              0.7777777777777778,
              "#fb9f3a"
             ],
             [
              0.8888888888888888,
              "#fdca26"
             ],
             [
              1,
              "#f0f921"
             ]
            ],
            "type": "histogram2dcontour"
           }
          ],
          "mesh3d": [
           {
            "colorbar": {
             "outlinewidth": 0,
             "ticks": ""
            },
            "type": "mesh3d"
           }
          ],
          "parcoords": [
           {
            "line": {
             "colorbar": {
              "outlinewidth": 0,
              "ticks": ""
             }
            },
            "type": "parcoords"
           }
          ],
          "pie": [
           {
            "automargin": true,
            "type": "pie"
           }
          ],
          "scatter": [
           {
            "fillpattern": {
             "fillmode": "overlay",
             "size": 10,
             "solidity": 0.2
            },
            "type": "scatter"
           }
          ],
          "scatter3d": [
           {
            "line": {
             "colorbar": {
              "outlinewidth": 0,
              "ticks": ""
             }
            },
            "marker": {
             "colorbar": {
              "outlinewidth": 0,
              "ticks": ""
             }
            },
            "type": "scatter3d"
           }
          ],
          "scattercarpet": [
           {
            "marker": {
             "colorbar": {
              "outlinewidth": 0,
              "ticks": ""
             }
            },
            "type": "scattercarpet"
           }
          ],
          "scattergeo": [
           {
            "marker": {
             "colorbar": {
              "outlinewidth": 0,
              "ticks": ""
             }
            },
            "type": "scattergeo"
           }
          ],
          "scattergl": [
           {
            "marker": {
             "colorbar": {
              "outlinewidth": 0,
              "ticks": ""
             }
            },
            "type": "scattergl"
           }
          ],
          "scattermapbox": [
           {
            "marker": {
             "colorbar": {
              "outlinewidth": 0,
              "ticks": ""
             }
            },
            "type": "scattermapbox"
           }
          ],
          "scatterpolar": [
           {
            "marker": {
             "colorbar": {
              "outlinewidth": 0,
              "ticks": ""
             }
            },
            "type": "scatterpolar"
           }
          ],
          "scatterpolargl": [
           {
            "marker": {
             "colorbar": {
              "outlinewidth": 0,
              "ticks": ""
             }
            },
            "type": "scatterpolargl"
           }
          ],
          "scatterternary": [
           {
            "marker": {
             "colorbar": {
              "outlinewidth": 0,
              "ticks": ""
             }
            },
            "type": "scatterternary"
           }
          ],
          "surface": [
           {
            "colorbar": {
             "outlinewidth": 0,
             "ticks": ""
            },
            "colorscale": [
             [
              0,
              "#0d0887"
             ],
             [
              0.1111111111111111,
              "#46039f"
             ],
             [
              0.2222222222222222,
              "#7201a8"
             ],
             [
              0.3333333333333333,
              "#9c179e"
             ],
             [
              0.4444444444444444,
              "#bd3786"
             ],
             [
              0.5555555555555556,
              "#d8576b"
             ],
             [
              0.6666666666666666,
              "#ed7953"
             ],
             [
              0.7777777777777778,
              "#fb9f3a"
             ],
             [
              0.8888888888888888,
              "#fdca26"
             ],
             [
              1,
              "#f0f921"
             ]
            ],
            "type": "surface"
           }
          ],
          "table": [
           {
            "cells": {
             "fill": {
              "color": "#EBF0F8"
             },
             "line": {
              "color": "white"
             }
            },
            "header": {
             "fill": {
              "color": "#C8D4E3"
             },
             "line": {
              "color": "white"
             }
            },
            "type": "table"
           }
          ]
         },
         "layout": {
          "annotationdefaults": {
           "arrowcolor": "#2a3f5f",
           "arrowhead": 0,
           "arrowwidth": 1
          },
          "autotypenumbers": "strict",
          "coloraxis": {
           "colorbar": {
            "outlinewidth": 0,
            "ticks": ""
           }
          },
          "colorscale": {
           "diverging": [
            [
             0,
             "#8e0152"
            ],
            [
             0.1,
             "#c51b7d"
            ],
            [
             0.2,
             "#de77ae"
            ],
            [
             0.3,
             "#f1b6da"
            ],
            [
             0.4,
             "#fde0ef"
            ],
            [
             0.5,
             "#f7f7f7"
            ],
            [
             0.6,
             "#e6f5d0"
            ],
            [
             0.7,
             "#b8e186"
            ],
            [
             0.8,
             "#7fbc41"
            ],
            [
             0.9,
             "#4d9221"
            ],
            [
             1,
             "#276419"
            ]
           ],
           "sequential": [
            [
             0,
             "#0d0887"
            ],
            [
             0.1111111111111111,
             "#46039f"
            ],
            [
             0.2222222222222222,
             "#7201a8"
            ],
            [
             0.3333333333333333,
             "#9c179e"
            ],
            [
             0.4444444444444444,
             "#bd3786"
            ],
            [
             0.5555555555555556,
             "#d8576b"
            ],
            [
             0.6666666666666666,
             "#ed7953"
            ],
            [
             0.7777777777777778,
             "#fb9f3a"
            ],
            [
             0.8888888888888888,
             "#fdca26"
            ],
            [
             1,
             "#f0f921"
            ]
           ],
           "sequentialminus": [
            [
             0,
             "#0d0887"
            ],
            [
             0.1111111111111111,
             "#46039f"
            ],
            [
             0.2222222222222222,
             "#7201a8"
            ],
            [
             0.3333333333333333,
             "#9c179e"
            ],
            [
             0.4444444444444444,
             "#bd3786"
            ],
            [
             0.5555555555555556,
             "#d8576b"
            ],
            [
             0.6666666666666666,
             "#ed7953"
            ],
            [
             0.7777777777777778,
             "#fb9f3a"
            ],
            [
             0.8888888888888888,
             "#fdca26"
            ],
            [
             1,
             "#f0f921"
            ]
           ]
          },
          "colorway": [
           "#636efa",
           "#EF553B",
           "#00cc96",
           "#ab63fa",
           "#FFA15A",
           "#19d3f3",
           "#FF6692",
           "#B6E880",
           "#FF97FF",
           "#FECB52"
          ],
          "font": {
           "color": "#2a3f5f"
          },
          "geo": {
           "bgcolor": "white",
           "lakecolor": "white",
           "landcolor": "#E5ECF6",
           "showlakes": true,
           "showland": true,
           "subunitcolor": "white"
          },
          "hoverlabel": {
           "align": "left"
          },
          "hovermode": "closest",
          "mapbox": {
           "style": "light"
          },
          "paper_bgcolor": "white",
          "plot_bgcolor": "#E5ECF6",
          "polar": {
           "angularaxis": {
            "gridcolor": "white",
            "linecolor": "white",
            "ticks": ""
           },
           "bgcolor": "#E5ECF6",
           "radialaxis": {
            "gridcolor": "white",
            "linecolor": "white",
            "ticks": ""
           }
          },
          "scene": {
           "xaxis": {
            "backgroundcolor": "#E5ECF6",
            "gridcolor": "white",
            "gridwidth": 2,
            "linecolor": "white",
            "showbackground": true,
            "ticks": "",
            "zerolinecolor": "white"
           },
           "yaxis": {
            "backgroundcolor": "#E5ECF6",
            "gridcolor": "white",
            "gridwidth": 2,
            "linecolor": "white",
            "showbackground": true,
            "ticks": "",
            "zerolinecolor": "white"
           },
           "zaxis": {
            "backgroundcolor": "#E5ECF6",
            "gridcolor": "white",
            "gridwidth": 2,
            "linecolor": "white",
            "showbackground": true,
            "ticks": "",
            "zerolinecolor": "white"
           }
          },
          "shapedefaults": {
           "line": {
            "color": "#2a3f5f"
           }
          },
          "ternary": {
           "aaxis": {
            "gridcolor": "white",
            "linecolor": "white",
            "ticks": ""
           },
           "baxis": {
            "gridcolor": "white",
            "linecolor": "white",
            "ticks": ""
           },
           "bgcolor": "#E5ECF6",
           "caxis": {
            "gridcolor": "white",
            "linecolor": "white",
            "ticks": ""
           }
          },
          "title": {
           "x": 0.05
          },
          "xaxis": {
           "automargin": true,
           "gridcolor": "white",
           "linecolor": "white",
           "ticks": "",
           "title": {
            "standoff": 15
           },
           "zerolinecolor": "white",
           "zerolinewidth": 2
          },
          "yaxis": {
           "automargin": true,
           "gridcolor": "white",
           "linecolor": "white",
           "ticks": "",
           "title": {
            "standoff": 15
           },
           "zerolinecolor": "white",
           "zerolinewidth": 2
          }
         }
        },
        "title": {
         "text": "Hyperparameter Importances"
        },
        "xaxis": {
         "title": {
          "text": "Hyperparameter Importance"
         }
        },
        "yaxis": {
         "title": {
          "text": "Hyperparameter"
         }
        }
       }
      }
     },
     "metadata": {},
     "output_type": "display_data"
    }
   ],
   "source": [
    "optuna.visualization.plot_param_importances(study)"
   ]
  },
  {
   "cell_type": "code",
   "execution_count": 62,
   "metadata": {},
   "outputs": [
    {
     "data": {
      "image/png": "[encoded data removed]",
      "text/plain": [
       "<Figure size 1000x500 with 1 Axes>"
      ]
     },
     "metadata": {},
     "output_type": "display_data"
    }
   ],
   "source": [
    "cat_f1 = cat_results[\"test_f1\"].mean()\n",
    "cat_optuna_f1 = trial.value\n",
    "\n",
    "fig, ax = plt.subplots(figsize=(10, 5))\n",
    "ax.bar([\"CatBoost\", \"CatBoost Optuna\"], [cat_f1, cat_optuna_f1], color=\"b\", alpha=0.7)\n",
    "ax.set_xlabel(\"Models\")\n",
    "ax.set_ylabel(\"F1 Score\")\n",
    "ax.set_title(\"Test F1 score CatBoost vs CatBoost Optuna\")\n",
    "ax.set_ylim(0.81, 0.82)\n",
    "plt.show()\n"
   ]
  },
  {
   "cell_type": "markdown",
   "metadata": {},
   "source": [
    "#  Wybranie jednego z powyższych algorytmów wspierających jedną z następujących funkcjonalności: ograniczenia monotoniczności, ograniczenia interackji, własne funkcje straty lub inne wybrane. Przeprowadzenie eksperymentu sprawdzającego wpływ (jednej) wybranej funkcjonalności na wyniki oraz zachowanie modelu."
   ]
  },
  {
   "cell_type": "code",
   "execution_count": 46,
   "metadata": {},
   "outputs": [
    {
     "data": {
      "text/html": [
       "<div>\n",
       "<style scoped>\n",
       "    .dataframe tbody tr th:only-of-type {\n",
       "        vertical-align: middle;\n",
       "    }\n",
       "\n",
       "    .dataframe tbody tr th {\n",
       "        vertical-align: top;\n",
       "    }\n",
       "\n",
       "    .dataframe thead th {\n",
       "        text-align: right;\n",
       "    }\n",
       "</style>\n",
       "<table border=\"1\" class=\"dataframe\">\n",
       "  <thead>\n",
       "    <tr style=\"text-align: right;\">\n",
       "      <th></th>\n",
       "      <th>HomePlanet</th>\n",
       "      <th>CryoSleep</th>\n",
       "      <th>Destination</th>\n",
       "      <th>Age</th>\n",
       "      <th>VIP</th>\n",
       "      <th>RoomService</th>\n",
       "      <th>FoodCourt</th>\n",
       "      <th>ShoppingMall</th>\n",
       "      <th>Spa</th>\n",
       "      <th>VRDeck</th>\n",
       "      <th>Deck</th>\n",
       "      <th>Cabin_num</th>\n",
       "      <th>Side</th>\n",
       "    </tr>\n",
       "  </thead>\n",
       "  <tbody>\n",
       "    <tr>\n",
       "      <th>0</th>\n",
       "      <td>Europa</td>\n",
       "      <td>False</td>\n",
       "      <td>TRAPPIST-1e</td>\n",
       "      <td>39.0</td>\n",
       "      <td>False</td>\n",
       "      <td>0.0</td>\n",
       "      <td>0.0</td>\n",
       "      <td>0.0</td>\n",
       "      <td>0.0</td>\n",
       "      <td>0.0</td>\n",
       "      <td>B</td>\n",
       "      <td>0.0</td>\n",
       "      <td>P</td>\n",
       "    </tr>\n",
       "    <tr>\n",
       "      <th>1</th>\n",
       "      <td>Earth</td>\n",
       "      <td>False</td>\n",
       "      <td>TRAPPIST-1e</td>\n",
       "      <td>24.0</td>\n",
       "      <td>False</td>\n",
       "      <td>109.0</td>\n",
       "      <td>9.0</td>\n",
       "      <td>25.0</td>\n",
       "      <td>549.0</td>\n",
       "      <td>44.0</td>\n",
       "      <td>F</td>\n",
       "      <td>0.0</td>\n",
       "      <td>S</td>\n",
       "    </tr>\n",
       "    <tr>\n",
       "      <th>2</th>\n",
       "      <td>Europa</td>\n",
       "      <td>False</td>\n",
       "      <td>TRAPPIST-1e</td>\n",
       "      <td>58.0</td>\n",
       "      <td>True</td>\n",
       "      <td>43.0</td>\n",
       "      <td>3576.0</td>\n",
       "      <td>0.0</td>\n",
       "      <td>6715.0</td>\n",
       "      <td>49.0</td>\n",
       "      <td>A</td>\n",
       "      <td>0.0</td>\n",
       "      <td>S</td>\n",
       "    </tr>\n",
       "    <tr>\n",
       "      <th>3</th>\n",
       "      <td>Europa</td>\n",
       "      <td>False</td>\n",
       "      <td>TRAPPIST-1e</td>\n",
       "      <td>33.0</td>\n",
       "      <td>False</td>\n",
       "      <td>0.0</td>\n",
       "      <td>1283.0</td>\n",
       "      <td>371.0</td>\n",
       "      <td>3329.0</td>\n",
       "      <td>193.0</td>\n",
       "      <td>A</td>\n",
       "      <td>0.0</td>\n",
       "      <td>S</td>\n",
       "    </tr>\n",
       "    <tr>\n",
       "      <th>4</th>\n",
       "      <td>Earth</td>\n",
       "      <td>False</td>\n",
       "      <td>TRAPPIST-1e</td>\n",
       "      <td>16.0</td>\n",
       "      <td>False</td>\n",
       "      <td>303.0</td>\n",
       "      <td>70.0</td>\n",
       "      <td>151.0</td>\n",
       "      <td>565.0</td>\n",
       "      <td>2.0</td>\n",
       "      <td>F</td>\n",
       "      <td>1.0</td>\n",
       "      <td>S</td>\n",
       "    </tr>\n",
       "    <tr>\n",
       "      <th>...</th>\n",
       "      <td>...</td>\n",
       "      <td>...</td>\n",
       "      <td>...</td>\n",
       "      <td>...</td>\n",
       "      <td>...</td>\n",
       "      <td>...</td>\n",
       "      <td>...</td>\n",
       "      <td>...</td>\n",
       "      <td>...</td>\n",
       "      <td>...</td>\n",
       "      <td>...</td>\n",
       "      <td>...</td>\n",
       "      <td>...</td>\n",
       "    </tr>\n",
       "    <tr>\n",
       "      <th>8688</th>\n",
       "      <td>Europa</td>\n",
       "      <td>False</td>\n",
       "      <td>55 Cancri e</td>\n",
       "      <td>41.0</td>\n",
       "      <td>True</td>\n",
       "      <td>0.0</td>\n",
       "      <td>6819.0</td>\n",
       "      <td>0.0</td>\n",
       "      <td>1643.0</td>\n",
       "      <td>74.0</td>\n",
       "      <td>A</td>\n",
       "      <td>98.0</td>\n",
       "      <td>P</td>\n",
       "    </tr>\n",
       "    <tr>\n",
       "      <th>8689</th>\n",
       "      <td>Earth</td>\n",
       "      <td>True</td>\n",
       "      <td>PSO J318.5-22</td>\n",
       "      <td>18.0</td>\n",
       "      <td>False</td>\n",
       "      <td>0.0</td>\n",
       "      <td>0.0</td>\n",
       "      <td>0.0</td>\n",
       "      <td>0.0</td>\n",
       "      <td>0.0</td>\n",
       "      <td>G</td>\n",
       "      <td>1499.0</td>\n",
       "      <td>S</td>\n",
       "    </tr>\n",
       "    <tr>\n",
       "      <th>8690</th>\n",
       "      <td>Earth</td>\n",
       "      <td>False</td>\n",
       "      <td>TRAPPIST-1e</td>\n",
       "      <td>26.0</td>\n",
       "      <td>False</td>\n",
       "      <td>0.0</td>\n",
       "      <td>0.0</td>\n",
       "      <td>1872.0</td>\n",
       "      <td>1.0</td>\n",
       "      <td>0.0</td>\n",
       "      <td>G</td>\n",
       "      <td>1500.0</td>\n",
       "      <td>S</td>\n",
       "    </tr>\n",
       "    <tr>\n",
       "      <th>8691</th>\n",
       "      <td>Europa</td>\n",
       "      <td>False</td>\n",
       "      <td>55 Cancri e</td>\n",
       "      <td>32.0</td>\n",
       "      <td>False</td>\n",
       "      <td>0.0</td>\n",
       "      <td>1049.0</td>\n",
       "      <td>0.0</td>\n",
       "      <td>353.0</td>\n",
       "      <td>3235.0</td>\n",
       "      <td>E</td>\n",
       "      <td>608.0</td>\n",
       "      <td>S</td>\n",
       "    </tr>\n",
       "    <tr>\n",
       "      <th>8692</th>\n",
       "      <td>Europa</td>\n",
       "      <td>False</td>\n",
       "      <td>TRAPPIST-1e</td>\n",
       "      <td>44.0</td>\n",
       "      <td>False</td>\n",
       "      <td>126.0</td>\n",
       "      <td>4688.0</td>\n",
       "      <td>0.0</td>\n",
       "      <td>0.0</td>\n",
       "      <td>12.0</td>\n",
       "      <td>E</td>\n",
       "      <td>608.0</td>\n",
       "      <td>S</td>\n",
       "    </tr>\n",
       "  </tbody>\n",
       "</table>\n",
       "<p>8693 rows × 13 columns</p>\n",
       "</div>"
      ],
      "text/plain": [
       "     HomePlanet  CryoSleep    Destination   Age    VIP  RoomService  \\\n",
       "0        Europa      False    TRAPPIST-1e  39.0  False          0.0   \n",
       "1         Earth      False    TRAPPIST-1e  24.0  False        109.0   \n",
       "2        Europa      False    TRAPPIST-1e  58.0   True         43.0   \n",
       "3        Europa      False    TRAPPIST-1e  33.0  False          0.0   \n",
       "4         Earth      False    TRAPPIST-1e  16.0  False        303.0   \n",
       "...         ...        ...            ...   ...    ...          ...   \n",
       "8688     Europa      False    55 Cancri e  41.0   True          0.0   \n",
       "8689      Earth       True  PSO J318.5-22  18.0  False          0.0   \n",
       "8690      Earth      False    TRAPPIST-1e  26.0  False          0.0   \n",
       "8691     Europa      False    55 Cancri e  32.0  False          0.0   \n",
       "8692     Europa      False    TRAPPIST-1e  44.0  False        126.0   \n",
       "\n",
       "      FoodCourt  ShoppingMall     Spa  VRDeck Deck  Cabin_num Side  \n",
       "0           0.0           0.0     0.0     0.0    B        0.0    P  \n",
       "1           9.0          25.0   549.0    44.0    F        0.0    S  \n",
       "2        3576.0           0.0  6715.0    49.0    A        0.0    S  \n",
       "3        1283.0         371.0  3329.0   193.0    A        0.0    S  \n",
       "4          70.0         151.0   565.0     2.0    F        1.0    S  \n",
       "...         ...           ...     ...     ...  ...        ...  ...  \n",
       "8688     6819.0           0.0  1643.0    74.0    A       98.0    P  \n",
       "8689        0.0           0.0     0.0     0.0    G     1499.0    S  \n",
       "8690        0.0        1872.0     1.0     0.0    G     1500.0    S  \n",
       "8691     1049.0           0.0   353.0  3235.0    E      608.0    S  \n",
       "8692     4688.0           0.0     0.0    12.0    E      608.0    S  \n",
       "\n",
       "[8693 rows x 13 columns]"
      ]
     },
     "execution_count": 46,
     "metadata": {},
     "output_type": "execute_result"
    }
   ],
   "source": [
    "X_before_missing"
   ]
  },
  {
   "cell_type": "markdown",
   "metadata": {},
   "source": [
    "## Ograniczenia monotoniczności"
   ]
  },
  {
   "cell_type": "code",
   "execution_count": 68,
   "metadata": {},
   "outputs": [
    {
     "name": "stdout",
     "output_type": "stream",
     "text": [
      "Mean test score: 0.7976 +/- 0.0083\n",
      "Mean train score: 0.9388 +/- 0.0031\n",
      "Mean fit time: 0.4703 +/- 0.0870 seconds\n",
      "Mean score time: 0.0328 +/- 0.0083 seconds\n",
      "Mean test score: 0.7290 +/- 0.0091\n",
      "Mean train score: 0.7926 +/- 0.0032\n",
      "Mean fit time: 2.9640 +/- 0.2455 seconds\n",
      "Mean score time: 0.0405 +/- 0.0071 seconds\n"
     ]
    }
   ],
   "source": [
    "categorical_columns = [\"HomePlanet\", \"Destination\", \"Deck\", \"Side\"]\n",
    "for col in categorical_columns:\n",
    "    X_before_missing[col] = X_before_missing[col].astype(\"category\")\n",
    "\n",
    "monotone_constraints = (0, 0, 0, 1, 0, 1, 1, 1, 1, 1, 0, 1, 0)\n",
    "\n",
    "xgb_model_no_constraints = XGBClassifier(\n",
    "    random_state=42,\n",
    "    enable_categorical=True,\n",
    ")\n",
    "xgb_model_with_constraints = XGBClassifier(\n",
    "    random_state=42, enable_categorical=True, monotone_constraints=monotone_constraints\n",
    ")\n",
    "\n",
    "xgb_model_no_constraints_results = cross_validate(\n",
    "    xgb_model_no_constraints,\n",
    "    X_before_missing,\n",
    "    y_before_missing,\n",
    "    scoring=scoring,\n",
    "    cv=skf,\n",
    "    return_train_score=True,\n",
    ")\n",
    "\n",
    "show_results(xgb_model_no_constraints_results)\n",
    "\n",
    "xgb_model_with_constraints_results = cross_validate(\n",
    "    xgb_model_with_constraints,\n",
    "    X_before_missing,\n",
    "    y_before_missing,\n",
    "    scoring=scoring,\n",
    "    cv=skf,\n",
    "    return_train_score=True,\n",
    ")\n",
    "\n",
    "\n",
    "show_results(xgb_model_with_constraints_results)\n",
    "\n",
    "\n",
    "models = [\"XGBoost\", \"XGBoost with Constraints\"]\n",
    "\n",
    "mean_train_scores = [\n",
    "    xgb_model_no_constraints_results[\"train_f1\"].mean(),\n",
    "    xgb_model_with_constraints_results[\"train_f1\"].mean(),\n",
    "]\n",
    "\n",
    "std_train_scores = [\n",
    "    xgb_model_no_constraints_results[\"train_f1\"].std(),\n",
    "    xgb_model_with_constraints_results[\"train_f1\"].std(),\n",
    "]\n",
    "\n",
    "mean_scores = [\n",
    "    xgb_model_no_constraints_results[\"test_f1\"].mean(),\n",
    "    xgb_model_with_constraints_results[\"test_f1\"].mean(),\n",
    "]\n",
    "\n",
    "std_scores = [\n",
    "    xgb_model_no_constraints_results[\"test_f1\"].std(),\n",
    "    xgb_model_with_constraints_results[\"test_f1\"].std(),\n",
    "]\n"
   ]
  },
  {
   "cell_type": "code",
   "execution_count": 69,
   "metadata": {},
   "outputs": [
    {
     "data": {
      "image/png": "[encoded data removed]",
      "text/plain": [
       "<Figure size 1000x500 with 1 Axes>"
      ]
     },
     "metadata": {},
     "output_type": "display_data"
    }
   ],
   "source": [
    "\n",
    "fig, ax = plt.subplots(figsize=(10, 5)) \n",
    "ax.bar(models, mean_train_scores, yerr=std_train_scores, capsize=5, color=\"b\", alpha=0.7, label=\"Train Score\")\n",
    "ax.bar(models, mean_scores, yerr=std_scores, capsize=5, color=\"r\", alpha=0.7, label=\"Test Score\")\n",
    "ax.set_xlabel(\"Models\")\n",
    "ax.set_ylabel(\"F1 Score\")\n",
    "ax.set_title(\"F1 Score for each model\")\n",
    "ax.set_ylim(0.60, 1.0)\n",
    "plt.legend()\n",
    "plt.show()"
   ]
  },
  {
   "cell_type": "markdown",
   "metadata": {},
   "source": [
    "## Badanie przypisania funkcji kosztu"
   ]
  },
  {
   "cell_type": "markdown",
   "metadata": {},
   "source": [
    "Dobra funkcja straty opiera się na funkcji straty logistycznej. Gradient i hesjan są wyprowadzone z funkcji straty logistycznej"
   ]
  },
  {
   "cell_type": "markdown",
   "metadata": {},
   "source": [
    "$$\n",
    "L(y_{\\text{true}}, y_{\\text{pred}}) = -\\left(y_{\\text{true}} \\log(p) + (1 - y_{\\text{true}}) \\log(1 - p)\\right)\n",
    "$$"
   ]
  },
  {
   "cell_type": "markdown",
   "metadata": {},
   "source": [
    "$$\n",
    " p = \\frac{1}{1 + \\exp(-y_{\\text{pred}})}\n",
    "$$\n",
    "\n",
    "$$\n",
    "\\text{gradient} = p - y_{\\text{true}}\n",
    "$$\n",
    "\n",
    "$$\n",
    "\\text{hessian} = p \\cdot (1 - p)\n",
    "$$"
   ]
  },
  {
   "cell_type": "markdown",
   "metadata": {},
   "source": [
    "Suboptymalna funkcja straty jest prostą funkcją błędu kwadratowego. Gradient i hesjan są wyprowadzone z funkcji błędu kwadratowego"
   ]
  },
  {
   "cell_type": "markdown",
   "metadata": {},
   "source": [
    "$$\n",
    "L(y_{\\text{true}}, y_{\\text{pred}}) = (y_{\\text{pred}} - y_{\\text{true}})^2\n",
    "$$\n",
    "\n",
    "$$\n",
    "\\text{gradient} = 2 \\cdot (y_{\\text{pred}} - y_{\\text{true}})\n",
    "$$\n",
    "\n",
    "$$\n",
    "\\text{hessian} = 2\n",
    "\n",
    "$$"
   ]
  },
  {
   "cell_type": "code",
   "execution_count": 71,
   "metadata": {},
   "outputs": [
    {
     "name": "stdout",
     "output_type": "stream",
     "text": [
      "Mean test score: 0.7976 +/- 0.0083\n",
      "Mean train score: 0.9388 +/- 0.0031\n",
      "Mean fit time: 0.4703 +/- 0.0870 seconds\n",
      "Mean score time: 0.0328 +/- 0.0083 seconds\n",
      "\n",
      "Mean test score: 0.8017 +/- 0.0044\n",
      "Mean train score: 0.9422 +/- 0.0022\n",
      "Mean fit time: 0.6738 +/- 0.0647 seconds\n",
      "Mean score time: 0.0378 +/- 0.0031 seconds\n",
      "\n",
      "Mean test score: 0.7010 +/- 0.0036\n",
      "Mean train score: 0.7202 +/- 0.0003\n",
      "Mean fit time: 0.7240 +/- 0.0652 seconds\n",
      "Mean score time: 0.0355 +/- 0.0020 seconds\n",
      "\n"
     ]
    },
    {
     "data": {
      "image/png": "[encoded data removed]",
      "text/plain": [
       "<Figure size 1000x500 with 1 Axes>"
      ]
     },
     "metadata": {},
     "output_type": "display_data"
    }
   ],
   "source": [
    "\n",
    "\n",
    "show_results(xgb_model_no_constraints_results)\n",
    "print()\n",
    "\n",
    "def custom_loss_function_good(y_true, y_pred):\n",
    "    p = 1.0 / (1.0 + np.exp(-y_pred))\n",
    "    gradient = p - y_true\n",
    "    hessian = p * (1 - p)\n",
    "    return gradient, hessian\n",
    "\n",
    "\n",
    "def custom_loss_function_bad(y_true, y_pred):\n",
    "    gradient = 2 * (y_pred - y_true)\n",
    "    hessian = 2 * np.ones_like(y_true)\n",
    "    return gradient, hessian\n",
    "\n",
    "\n",
    "xgb_model_with_custom_loss_good = XGBClassifier(\n",
    "    random_state=42, enable_categorical=True, objective=custom_loss_function_good\n",
    ")\n",
    "\n",
    "xgb_model_with_custom_loss_bad = XGBClassifier(\n",
    "    random_state=42, enable_categorical=True, objective=custom_loss_function_bad\n",
    ")\n",
    "\n",
    "xgb_model_with_custom_loss_good_results = cross_validate(\n",
    "    xgb_model_with_custom_loss_good,\n",
    "    X_before_missing,\n",
    "    y_before_missing,\n",
    "    scoring=scoring,\n",
    "    cv=skf,\n",
    "    return_train_score=True,\n",
    ")\n",
    "\n",
    "show_results(xgb_model_with_custom_loss_good_results)\n",
    "print()\n",
    "xgb_model_with_custom_loss_bad_results = cross_validate(\n",
    "    xgb_model_with_custom_loss_bad,\n",
    "    X_before_missing,\n",
    "    y_before_missing,\n",
    "    scoring=scoring,\n",
    "    cv=skf,\n",
    "    return_train_score=True,\n",
    ")\n",
    "\n",
    "show_results(xgb_model_with_custom_loss_bad_results)\n",
    "print()\n",
    "\n",
    "models = [\"XGBoost\", \"XGBoost with Good Loss\", \"XGBoost with Bad Loss\"]\n",
    "\n",
    "mean_train_scores = [\n",
    "    xgb_model_no_constraints_results[\"train_f1\"].mean(),\n",
    "    xgb_model_with_custom_loss_good_results[\"train_f1\"].mean(),\n",
    "    xgb_model_with_custom_loss_bad_results[\"train_f1\"].mean(),\n",
    "]\n",
    "\n",
    "std_train_scores = [\n",
    "    xgb_model_no_constraints_results[\"train_f1\"].std(),\n",
    "    xgb_model_with_custom_loss_good_results[\"train_f1\"].std(),\n",
    "    xgb_model_with_custom_loss_bad_results[\"train_f1\"].std(),\n",
    "]\n",
    "\n",
    "mean_scores = [\n",
    "    xgb_model_no_constraints_results[\"test_f1\"].mean(),\n",
    "    xgb_model_with_custom_loss_good_results[\"test_f1\"].mean(),\n",
    "    xgb_model_with_custom_loss_bad_results[\"test_f1\"].mean(),\n",
    "]\n",
    "\n",
    "std_scores = [\n",
    "    xgb_model_no_constraints_results[\"test_f1\"].std(),\n",
    "    xgb_model_with_custom_loss_good_results[\"test_f1\"].std(),\n",
    "    xgb_model_with_custom_loss_bad_results[\"test_f1\"].std(),\n",
    "]\n",
    "\n",
    "fig, ax = plt.subplots(figsize=(10, 5))\n",
    "ax.bar(models, mean_train_scores, yerr=std_train_scores, capsize=5, color=\"b\", alpha=0.7, label=\"Train Score\")\n",
    "ax.bar(models, mean_scores, yerr=std_scores, capsize=5, color=\"r\", alpha=0.7, label=\"Test Score\")\n",
    "ax.set_xlabel(\"Models\")\n",
    "ax.set_ylabel(\"F1 Score\")\n",
    "plt.ylim(0.6, 1.0)\n",
    "ax.set_title(\"F1 Score for each model\")\n",
    "plt.legend()\n",
    "plt.show()"
   ]
  },
  {
   "cell_type": "markdown",
   "metadata": {},
   "source": [
    "# Bonus: załadowanie parametru najelpszego modelu z poprzedniego zadania i przeprowadzenie ewaulacji na zbiorze testowym. + wysłasnie submission na kaggle"
   ]
  },
  {
   "cell_type": "code",
   "execution_count": null,
   "metadata": {},
   "outputs": [],
   "source": [
    "\n",
    "test_data = pd.read_csv(\"./spaceship-titanic/test.csv\")\n",
    "test_data = test_data.drop([\"PassengerId\", \"Name\"], axis=1)\n",
    "\n",
    "test_data[[\"Deck\", \"Cabin_num\", \"Side\"]] = test_data[\"Cabin\"].str.split(\"/\", expand=True)\n",
    "test_data[\"Cabin_num\"] = pd.to_numeric(test_data[\"Cabin_num\"], errors=\"coerce\")\n",
    "\n",
    "try:\n",
    "    test_data = test_data.drop(\"Cabin\", axis=1)\n",
    "except KeyError:\n",
    "    print(\"Field does not exist\")\n",
    "\n",
    "test_data[\"CryoSleep\"] = test_data[\"CryoSleep\"].astype(bool)\n",
    "test_data[\"VIP\"] = test_data[\"VIP\"].astype(bool)\n",
    "\n",
    "categorical_columns = [\"HomePlanet\", \"Destination\", \"Deck\", \"Side\"]\n",
    "for col in categorical_columns:\n",
    "    test_data[col] = test_data[col].astype(\"str\")\n",
    "\n",
    "\n",
    "display(test_data.head())"
   ]
  },
  {
   "cell_type": "code",
   "execution_count": null,
   "metadata": {},
   "outputs": [],
   "source": [
    "best_params = trial.params\n",
    "best_model = cb.CatBoostClassifier(**best_params, cat_features=categorical_columns)\n",
    "\n",
    "best_model.fit(X_before_missing, y_before_missing, verbose=0)\n",
    "\n",
    "predictions = best_model.predict(test_data)\n"
   ]
  },
  {
   "cell_type": "code",
   "execution_count": null,
   "metadata": {},
   "outputs": [],
   "source": [
    "sample_submission = pd.read_csv(\"./spaceship-titanic/sample_submission.csv\")\n",
    "sample_submission[\"Transported\"] = predictions\n",
    "\n",
    "sample_submission.to_csv(\"submission_cat.csv\", index=False)\n",
    "\n",
    "display(sample_submission.head())"
   ]
  },
  {
   "attachments": {
    "image.png": {
     "image/png": "[encoded data removed]"
    }
   },
   "cell_type": "markdown",
   "metadata": {},
   "source": [
    "![image.png](attachment:image.png)"
   ]
  },
  {
   "cell_type": "code",
   "execution_count": null,
   "metadata": {},
   "outputs": [],
   "source": [
    "hgbc = HistGradientBoostingClassifier(\n",
    "    random_state=42, categorical_features=categorical_columns\n",
    ")\n",
    "\n",
    "hgbc.fit(X_before_missing, y_before_missing)\n",
    "\n",
    "predictions = hgbc.predict(test_data)\n",
    "\n",
    "sample_submission[\"Transported\"] = predictions\n",
    "\n",
    "sample_submission.to_csv(\"submission_hgbc.csv\", index=False)\n",
    "\n",
    "display(sample_submission.head())"
   ]
  },
  {
   "cell_type": "markdown",
   "metadata": {},
   "source": [
    "https://www.kaggle.com/competitions/spaceship-titanic/leaderboard"
   ]
  },
  {
   "cell_type": "markdown",
   "metadata": {},
   "source": []
  }
 ],
 "metadata": {
  "kernelspec": {
   "display_name": "Python 3",
   "language": "python",
   "name": "python3"
  },
  "language_info": {
   "codemirror_mode": {
    "name": "ipython",
    "version": 3
   },
   "file_extension": ".py",
   "mimetype": "text/x-python",
   "name": "python",
   "nbconvert_exporter": "python",
   "pygments_lexer": "ipython3",
   "version": "3.12.2"
  }
 },
 "nbformat": 4,
 "nbformat_minor": 2
}
